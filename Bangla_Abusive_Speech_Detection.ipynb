{
  "cells": [
    {
      "cell_type": "markdown",
      "source": [
        "## Bangla Abusive Word Detection Using Deep Learning "
      ],
      "metadata": {
        "id": "h8-BqZal6YEd"
      }
    },
    {
      "cell_type": "code",
      "execution_count": null,
      "metadata": {
        "colab": {
          "base_uri": "https://localhost:8080/"
        },
        "id": "8olsWukFvul-",
        "outputId": "a9a1c1bd-3878-48e8-b1c9-75a4a3eb5dc2"
      },
      "outputs": [
        {
          "output_type": "stream",
          "name": "stdout",
          "text": [
            "Collecting SpeechRecognition\n",
            "  Downloading SpeechRecognition-3.8.1-py2.py3-none-any.whl (32.8 MB)\n",
            "\u001b[K     |████████████████████████████████| 32.8 MB 1.2 MB/s \n",
            "\u001b[?25hInstalling collected packages: SpeechRecognition\n",
            "Successfully installed SpeechRecognition-3.8.1\n"
          ]
        }
      ],
      "source": [
        "!pip install SpeechRecognition"
      ]
    },
    {
      "cell_type": "code",
      "execution_count": null,
      "metadata": {
        "colab": {
          "base_uri": "https://localhost:8080/"
        },
        "id": "DBBwysyAgEos",
        "outputId": "d8ae79c3-54f1-44fe-fc93-e361b111363f"
      },
      "outputs": [
        {
          "output_type": "stream",
          "name": "stdout",
          "text": [
            "Looking in indexes: https://pypi.org/simple, https://us-python.pkg.dev/colab-wheels/public/simple/\n",
            "Collecting gensim==4.1.2\n",
            "  Downloading gensim-4.1.2-cp37-cp37m-manylinux_2_12_x86_64.manylinux2010_x86_64.whl (24.1 MB)\n",
            "\u001b[K     |████████████████████████████████| 24.1 MB 91.3 MB/s \n",
            "\u001b[?25hRequirement already satisfied: scipy>=0.18.1 in /usr/local/lib/python3.7/dist-packages (from gensim==4.1.2) (1.4.1)\n",
            "Requirement already satisfied: numpy>=1.17.0 in /usr/local/lib/python3.7/dist-packages (from gensim==4.1.2) (1.21.6)\n",
            "Requirement already satisfied: smart-open>=1.8.1 in /usr/local/lib/python3.7/dist-packages (from gensim==4.1.2) (6.0.0)\n",
            "Installing collected packages: gensim\n",
            "  Attempting uninstall: gensim\n",
            "    Found existing installation: gensim 3.6.0\n",
            "    Uninstalling gensim-3.6.0:\n",
            "      Successfully uninstalled gensim-3.6.0\n",
            "Successfully installed gensim-4.1.2\n"
          ]
        }
      ],
      "source": [
        "!pip install gensim==4.1.2"
      ]
    },
    {
      "cell_type": "markdown",
      "source": [
        "### Import "
      ],
      "metadata": {
        "id": "1Fz3Q-_JUTI5"
      }
    },
    {
      "cell_type": "code",
      "execution_count": null,
      "metadata": {
        "id": "VVfCPYAJvkME"
      },
      "outputs": [],
      "source": [
        "### import \n",
        "# import speech_recognition as sr \n",
        "import numpy as np \n",
        "import pandas as pd \n",
        "import matplotlib.pyplot as plt "
      ]
    },
    {
      "cell_type": "code",
      "execution_count": null,
      "metadata": {
        "id": "0mPAA37QwKU_"
      },
      "outputs": [],
      "source": [
        "r = sr.Recognizer()\n",
        "\n",
        "with sr.Microphone() as source: \n",
        "    print('Enter speech: ')\n",
        "    audio = r.listen(source, phrase_time_limit=10)\n",
        "    \n",
        "    speech = r.recognize_google(audio, language='bn-BD')\n",
        "    print(\"You said: {}\".format(speech))\n",
        "\n",
        "\n",
        "text_words = speech.split(' ')\n",
        "text_words"
      ]
    },
    {
      "cell_type": "code",
      "execution_count": null,
      "metadata": {
        "id": "I7ioLhISxSbX"
      },
      "outputs": [],
      "source": [
        "import tensorflow as tf\n",
        "from tensorflow import keras\n",
        "from tensorflow.keras import layers\n",
        "from tensorflow.keras.preprocessing.text import Tokenizer\n",
        "from tensorflow.keras.layers import Embedding \n",
        "from tensorflow.keras.preprocessing.sequence import pad_sequences \n",
        "from tensorflow.keras.models import Sequential \n",
        "from tensorflow.keras.preprocessing.text import one_hot \n",
        "from tensorflow.keras.layers import LSTM , Dropout, Bidirectional\n",
        "from tensorflow.keras.layers import Dense, Conv1D, MaxPool1D, BatchNormalization\n",
        "from sklearn.model_selection import train_test_split \n",
        "from sklearn.metrics import classification_report, accuracy_score\n",
        "from sklearn.utils import shuffle\n",
        "import tensorflow_hub as hub\n",
        "import gensim"
      ]
    },
    {
      "cell_type": "markdown",
      "source": [
        "### Load Dataset"
      ],
      "metadata": {
        "id": "dBXqNjLn2XPh"
      }
    },
    {
      "cell_type": "code",
      "execution_count": null,
      "metadata": {
        "id": "lrJlo06SYzuh",
        "colab": {
          "base_uri": "https://localhost:8080/"
        },
        "outputId": "28f3ea0a-e89c-4005-e9d6-117da5bdded2"
      },
      "outputs": [
        {
          "output_type": "stream",
          "name": "stdout",
          "text": [
            "Drive already mounted at /content/drive; to attempt to forcibly remount, call drive.mount(\"/content/drive\", force_remount=True).\n"
          ]
        }
      ],
      "source": [
        "# from google.colab import files\n",
        "# uploaded = files.upload()\n",
        "from google.colab import drive\n",
        "drive.mount('/content/drive')"
      ]
    },
    {
      "cell_type": "code",
      "execution_count": null,
      "metadata": {
        "colab": {
          "base_uri": "https://localhost:8080/",
          "height": 206
        },
        "id": "6YCkbxX7ZyzR",
        "outputId": "41ea6591-242a-40cf-ffa0-8dd0ee9fd270"
      },
      "outputs": [
        {
          "output_type": "execute_result",
          "data": {
            "text/plain": [
              "                                                    text  target\n",
              "5365   ওটা তোর বাবার কুত্তার বাচ্চার তুরা আমার আল্লার...       1\n",
              "9434       ভাবী তোমার হট দেবর আমি কেমন আছেন আপনি মিস দাও       1\n",
              "19773                                তাহেরী হলো আসল ভন্ড       0\n",
              "29236                             ইতিহাস পুনরাবৃত্তি হবে       0\n",
              "3078              কোন গাছ বলদে এ নাটক পরিচালনা করছে আবাল       1"
            ],
            "text/html": [
              "\n",
              "  <div id=\"df-f8cabfc4-f236-4939-ad1d-521b4493ccae\">\n",
              "    <div class=\"colab-df-container\">\n",
              "      <div>\n",
              "<style scoped>\n",
              "    .dataframe tbody tr th:only-of-type {\n",
              "        vertical-align: middle;\n",
              "    }\n",
              "\n",
              "    .dataframe tbody tr th {\n",
              "        vertical-align: top;\n",
              "    }\n",
              "\n",
              "    .dataframe thead th {\n",
              "        text-align: right;\n",
              "    }\n",
              "</style>\n",
              "<table border=\"1\" class=\"dataframe\">\n",
              "  <thead>\n",
              "    <tr style=\"text-align: right;\">\n",
              "      <th></th>\n",
              "      <th>text</th>\n",
              "      <th>target</th>\n",
              "    </tr>\n",
              "  </thead>\n",
              "  <tbody>\n",
              "    <tr>\n",
              "      <th>5365</th>\n",
              "      <td>ওটা তোর বাবার কুত্তার বাচ্চার তুরা আমার আল্লার...</td>\n",
              "      <td>1</td>\n",
              "    </tr>\n",
              "    <tr>\n",
              "      <th>9434</th>\n",
              "      <td>ভাবী তোমার হট দেবর আমি কেমন আছেন আপনি মিস দাও</td>\n",
              "      <td>1</td>\n",
              "    </tr>\n",
              "    <tr>\n",
              "      <th>19773</th>\n",
              "      <td>তাহেরী হলো আসল ভন্ড</td>\n",
              "      <td>0</td>\n",
              "    </tr>\n",
              "    <tr>\n",
              "      <th>29236</th>\n",
              "      <td>ইতিহাস পুনরাবৃত্তি হবে</td>\n",
              "      <td>0</td>\n",
              "    </tr>\n",
              "    <tr>\n",
              "      <th>3078</th>\n",
              "      <td>কোন গাছ বলদে এ নাটক পরিচালনা করছে আবাল</td>\n",
              "      <td>1</td>\n",
              "    </tr>\n",
              "  </tbody>\n",
              "</table>\n",
              "</div>\n",
              "      <button class=\"colab-df-convert\" onclick=\"convertToInteractive('df-f8cabfc4-f236-4939-ad1d-521b4493ccae')\"\n",
              "              title=\"Convert this dataframe to an interactive table.\"\n",
              "              style=\"display:none;\">\n",
              "        \n",
              "  <svg xmlns=\"http://www.w3.org/2000/svg\" height=\"24px\"viewBox=\"0 0 24 24\"\n",
              "       width=\"24px\">\n",
              "    <path d=\"M0 0h24v24H0V0z\" fill=\"none\"/>\n",
              "    <path d=\"M18.56 5.44l.94 2.06.94-2.06 2.06-.94-2.06-.94-.94-2.06-.94 2.06-2.06.94zm-11 1L8.5 8.5l.94-2.06 2.06-.94-2.06-.94L8.5 2.5l-.94 2.06-2.06.94zm10 10l.94 2.06.94-2.06 2.06-.94-2.06-.94-.94-2.06-.94 2.06-2.06.94z\"/><path d=\"M17.41 7.96l-1.37-1.37c-.4-.4-.92-.59-1.43-.59-.52 0-1.04.2-1.43.59L10.3 9.45l-7.72 7.72c-.78.78-.78 2.05 0 2.83L4 21.41c.39.39.9.59 1.41.59.51 0 1.02-.2 1.41-.59l7.78-7.78 2.81-2.81c.8-.78.8-2.07 0-2.86zM5.41 20L4 18.59l7.72-7.72 1.47 1.35L5.41 20z\"/>\n",
              "  </svg>\n",
              "      </button>\n",
              "      \n",
              "  <style>\n",
              "    .colab-df-container {\n",
              "      display:flex;\n",
              "      flex-wrap:wrap;\n",
              "      gap: 12px;\n",
              "    }\n",
              "\n",
              "    .colab-df-convert {\n",
              "      background-color: #E8F0FE;\n",
              "      border: none;\n",
              "      border-radius: 50%;\n",
              "      cursor: pointer;\n",
              "      display: none;\n",
              "      fill: #1967D2;\n",
              "      height: 32px;\n",
              "      padding: 0 0 0 0;\n",
              "      width: 32px;\n",
              "    }\n",
              "\n",
              "    .colab-df-convert:hover {\n",
              "      background-color: #E2EBFA;\n",
              "      box-shadow: 0px 1px 2px rgba(60, 64, 67, 0.3), 0px 1px 3px 1px rgba(60, 64, 67, 0.15);\n",
              "      fill: #174EA6;\n",
              "    }\n",
              "\n",
              "    [theme=dark] .colab-df-convert {\n",
              "      background-color: #3B4455;\n",
              "      fill: #D2E3FC;\n",
              "    }\n",
              "\n",
              "    [theme=dark] .colab-df-convert:hover {\n",
              "      background-color: #434B5C;\n",
              "      box-shadow: 0px 1px 3px 1px rgba(0, 0, 0, 0.15);\n",
              "      filter: drop-shadow(0px 1px 2px rgba(0, 0, 0, 0.3));\n",
              "      fill: #FFFFFF;\n",
              "    }\n",
              "  </style>\n",
              "\n",
              "      <script>\n",
              "        const buttonEl =\n",
              "          document.querySelector('#df-f8cabfc4-f236-4939-ad1d-521b4493ccae button.colab-df-convert');\n",
              "        buttonEl.style.display =\n",
              "          google.colab.kernel.accessAllowed ? 'block' : 'none';\n",
              "\n",
              "        async function convertToInteractive(key) {\n",
              "          const element = document.querySelector('#df-f8cabfc4-f236-4939-ad1d-521b4493ccae');\n",
              "          const dataTable =\n",
              "            await google.colab.kernel.invokeFunction('convertToInteractive',\n",
              "                                                     [key], {});\n",
              "          if (!dataTable) return;\n",
              "\n",
              "          const docLinkHtml = 'Like what you see? Visit the ' +\n",
              "            '<a target=\"_blank\" href=https://colab.research.google.com/notebooks/data_table.ipynb>data table notebook</a>'\n",
              "            + ' to learn more about interactive tables.';\n",
              "          element.innerHTML = '';\n",
              "          dataTable['output_type'] = 'display_data';\n",
              "          await google.colab.output.renderOutput(dataTable, element);\n",
              "          const docLink = document.createElement('div');\n",
              "          docLink.innerHTML = docLinkHtml;\n",
              "          element.appendChild(docLink);\n",
              "        }\n",
              "      </script>\n",
              "    </div>\n",
              "  </div>\n",
              "  "
            ]
          },
          "metadata": {},
          "execution_count": 4
        }
      ],
      "source": [
        "df = pd.read_csv(\"/content/drive/My Drive/IDP/Dataset/bengali_hate_speech.csv\", usecols=['sentence', 'hate'], encoding='utf8')\n",
        "df.rename(columns = {'sentence':'text', 'hate':'target'}, inplace = True)\n",
        "# df = df.drop('label', axis='columns')\n",
        "df = shuffle(df, random_state=8)\n",
        "df.head(5)"
      ]
    },
    {
      "cell_type": "code",
      "execution_count": null,
      "metadata": {
        "id": "NE1ZVSDA54Bt",
        "colab": {
          "base_uri": "https://localhost:8080/",
          "height": 206
        },
        "outputId": "7c8f5943-98d3-427a-d48a-2699cc7c634d"
      },
      "outputs": [
        {
          "output_type": "execute_result",
          "data": {
            "text/plain": [
              "                                                   text  target\n",
              "3898                   এই মালাউন এর বাচ্চায় এম্নেই মরবো       1\n",
              "4293  ভালো লাগলো ভাই কথা গুলো একদম মনের কথা বলছেন তা...       1\n",
              "3636  এখানে শাকিবের ও দোষ আছে সে ইচ্ছে করলে আপুকে ভা...       1\n",
              "2470  শিখার বাবা আমার বাবার মত সৎ,  এই বাবারাই কষট প...       1\n",
              "799   আপনার কথার ধারা বোঝা যাচ্ছে আপনার হিন্দু দের প...       1"
            ],
            "text/html": [
              "\n",
              "  <div id=\"df-a60442a9-8281-4a2b-9519-83778e86b8fb\">\n",
              "    <div class=\"colab-df-container\">\n",
              "      <div>\n",
              "<style scoped>\n",
              "    .dataframe tbody tr th:only-of-type {\n",
              "        vertical-align: middle;\n",
              "    }\n",
              "\n",
              "    .dataframe tbody tr th {\n",
              "        vertical-align: top;\n",
              "    }\n",
              "\n",
              "    .dataframe thead th {\n",
              "        text-align: right;\n",
              "    }\n",
              "</style>\n",
              "<table border=\"1\" class=\"dataframe\">\n",
              "  <thead>\n",
              "    <tr style=\"text-align: right;\">\n",
              "      <th></th>\n",
              "      <th>text</th>\n",
              "      <th>target</th>\n",
              "    </tr>\n",
              "  </thead>\n",
              "  <tbody>\n",
              "    <tr>\n",
              "      <th>3898</th>\n",
              "      <td>এই মালাউন এর বাচ্চায় এম্নেই মরবো</td>\n",
              "      <td>1</td>\n",
              "    </tr>\n",
              "    <tr>\n",
              "      <th>4293</th>\n",
              "      <td>ভালো লাগলো ভাই কথা গুলো একদম মনের কথা বলছেন তা...</td>\n",
              "      <td>1</td>\n",
              "    </tr>\n",
              "    <tr>\n",
              "      <th>3636</th>\n",
              "      <td>এখানে শাকিবের ও দোষ আছে সে ইচ্ছে করলে আপুকে ভা...</td>\n",
              "      <td>1</td>\n",
              "    </tr>\n",
              "    <tr>\n",
              "      <th>2470</th>\n",
              "      <td>শিখার বাবা আমার বাবার মত সৎ,  এই বাবারাই কষট প...</td>\n",
              "      <td>1</td>\n",
              "    </tr>\n",
              "    <tr>\n",
              "      <th>799</th>\n",
              "      <td>আপনার কথার ধারা বোঝা যাচ্ছে আপনার হিন্দু দের প...</td>\n",
              "      <td>1</td>\n",
              "    </tr>\n",
              "  </tbody>\n",
              "</table>\n",
              "</div>\n",
              "      <button class=\"colab-df-convert\" onclick=\"convertToInteractive('df-a60442a9-8281-4a2b-9519-83778e86b8fb')\"\n",
              "              title=\"Convert this dataframe to an interactive table.\"\n",
              "              style=\"display:none;\">\n",
              "        \n",
              "  <svg xmlns=\"http://www.w3.org/2000/svg\" height=\"24px\"viewBox=\"0 0 24 24\"\n",
              "       width=\"24px\">\n",
              "    <path d=\"M0 0h24v24H0V0z\" fill=\"none\"/>\n",
              "    <path d=\"M18.56 5.44l.94 2.06.94-2.06 2.06-.94-2.06-.94-.94-2.06-.94 2.06-2.06.94zm-11 1L8.5 8.5l.94-2.06 2.06-.94-2.06-.94L8.5 2.5l-.94 2.06-2.06.94zm10 10l.94 2.06.94-2.06 2.06-.94-2.06-.94-.94-2.06-.94 2.06-2.06.94z\"/><path d=\"M17.41 7.96l-1.37-1.37c-.4-.4-.92-.59-1.43-.59-.52 0-1.04.2-1.43.59L10.3 9.45l-7.72 7.72c-.78.78-.78 2.05 0 2.83L4 21.41c.39.39.9.59 1.41.59.51 0 1.02-.2 1.41-.59l7.78-7.78 2.81-2.81c.8-.78.8-2.07 0-2.86zM5.41 20L4 18.59l7.72-7.72 1.47 1.35L5.41 20z\"/>\n",
              "  </svg>\n",
              "      </button>\n",
              "      \n",
              "  <style>\n",
              "    .colab-df-container {\n",
              "      display:flex;\n",
              "      flex-wrap:wrap;\n",
              "      gap: 12px;\n",
              "    }\n",
              "\n",
              "    .colab-df-convert {\n",
              "      background-color: #E8F0FE;\n",
              "      border: none;\n",
              "      border-radius: 50%;\n",
              "      cursor: pointer;\n",
              "      display: none;\n",
              "      fill: #1967D2;\n",
              "      height: 32px;\n",
              "      padding: 0 0 0 0;\n",
              "      width: 32px;\n",
              "    }\n",
              "\n",
              "    .colab-df-convert:hover {\n",
              "      background-color: #E2EBFA;\n",
              "      box-shadow: 0px 1px 2px rgba(60, 64, 67, 0.3), 0px 1px 3px 1px rgba(60, 64, 67, 0.15);\n",
              "      fill: #174EA6;\n",
              "    }\n",
              "\n",
              "    [theme=dark] .colab-df-convert {\n",
              "      background-color: #3B4455;\n",
              "      fill: #D2E3FC;\n",
              "    }\n",
              "\n",
              "    [theme=dark] .colab-df-convert:hover {\n",
              "      background-color: #434B5C;\n",
              "      box-shadow: 0px 1px 3px 1px rgba(0, 0, 0, 0.15);\n",
              "      filter: drop-shadow(0px 1px 2px rgba(0, 0, 0, 0.3));\n",
              "      fill: #FFFFFF;\n",
              "    }\n",
              "  </style>\n",
              "\n",
              "      <script>\n",
              "        const buttonEl =\n",
              "          document.querySelector('#df-a60442a9-8281-4a2b-9519-83778e86b8fb button.colab-df-convert');\n",
              "        buttonEl.style.display =\n",
              "          google.colab.kernel.accessAllowed ? 'block' : 'none';\n",
              "\n",
              "        async function convertToInteractive(key) {\n",
              "          const element = document.querySelector('#df-a60442a9-8281-4a2b-9519-83778e86b8fb');\n",
              "          const dataTable =\n",
              "            await google.colab.kernel.invokeFunction('convertToInteractive',\n",
              "                                                     [key], {});\n",
              "          if (!dataTable) return;\n",
              "\n",
              "          const docLinkHtml = 'Like what you see? Visit the ' +\n",
              "            '<a target=\"_blank\" href=https://colab.research.google.com/notebooks/data_table.ipynb>data table notebook</a>'\n",
              "            + ' to learn more about interactive tables.';\n",
              "          element.innerHTML = '';\n",
              "          dataTable['output_type'] = 'display_data';\n",
              "          await google.colab.output.renderOutput(dataTable, element);\n",
              "          const docLink = document.createElement('div');\n",
              "          docLink.innerHTML = docLinkHtml;\n",
              "          element.appendChild(docLink);\n",
              "        }\n",
              "      </script>\n",
              "    </div>\n",
              "  </div>\n",
              "  "
            ]
          },
          "metadata": {},
          "execution_count": 5
        }
      ],
      "source": [
        "df1 = pd.read_csv('/content/drive/My Drive/IDP/Dataset/bangla_abusive.csv', encoding='utf8')\n",
        "df1[\"target\"].replace({0:1 , 1:1, 2:1,3:1}, inplace=True)\n",
        "df1 = df1.drop(df1[df1.label == 'Geopolitical'].index)\n",
        "df1 = df1.drop(df1[df1.label == 'Political'].index)\n",
        "df1 = df1.drop('label', axis='columns')\n",
        "df1 = shuffle(df1, random_state=8)\n",
        "df1.tail(5)"
      ]
    },
    {
      "cell_type": "code",
      "source": [
        "df2 = pd.read_excel('/content/drive/My Drive/IDP/Dataset/train_data.xlsx')\n",
        "df2.head()"
      ],
      "metadata": {
        "colab": {
          "base_uri": "https://localhost:8080/",
          "height": 206
        },
        "id": "YL73h4w6lD3S",
        "outputId": "78fcd224-c2b7-4b29-fb4f-c1c51fa8cdc5"
      },
      "execution_count": null,
      "outputs": [
        {
          "output_type": "execute_result",
          "data": {
            "text/plain": [
              "        id                                       comment_text  toxic  threat  \\\n",
              "0  10002.0  এই গুলার জায়গামতো চুঁচড়া লাগিয়ে দেয়া দরকার! যত...    1.0     0.0   \n",
              "1  10003.0  আসিফ খানকির পোলা, তোর মারে কুত্তা দিয়ে চুদে তো...    1.0     0.0   \n",
              "2  10004.0  শুয়োরের জ্ঞান সীমিত তাই সারাদিন গাঁজাখোরদের মত...    1.0     0.0   \n",
              "3  10005.0   এই মাদ্রাসার হোগুরকে ডিলডো মেরে শাস্তি দেয়া হোক।    1.0     0.0   \n",
              "4  10006.0                    নাস্তিকতা মানে ই মানুষিক রোগী ।    1.0     0.0   \n",
              "\n",
              "   obscene  insult  racism Unnamed: 7  \n",
              "0      0.0     1.0     0.0        NaN  \n",
              "1      1.0     1.0     0.0        NaN  \n",
              "2      0.0     1.0     0.0        NaN  \n",
              "3      0.0     1.0     0.0        NaN  \n",
              "4      0.0     0.0     1.0        NaN  "
            ],
            "text/html": [
              "\n",
              "  <div id=\"df-d7481752-dc5b-4bdd-9b2f-fd19ce3efb1b\">\n",
              "    <div class=\"colab-df-container\">\n",
              "      <div>\n",
              "<style scoped>\n",
              "    .dataframe tbody tr th:only-of-type {\n",
              "        vertical-align: middle;\n",
              "    }\n",
              "\n",
              "    .dataframe tbody tr th {\n",
              "        vertical-align: top;\n",
              "    }\n",
              "\n",
              "    .dataframe thead th {\n",
              "        text-align: right;\n",
              "    }\n",
              "</style>\n",
              "<table border=\"1\" class=\"dataframe\">\n",
              "  <thead>\n",
              "    <tr style=\"text-align: right;\">\n",
              "      <th></th>\n",
              "      <th>id</th>\n",
              "      <th>comment_text</th>\n",
              "      <th>toxic</th>\n",
              "      <th>threat</th>\n",
              "      <th>obscene</th>\n",
              "      <th>insult</th>\n",
              "      <th>racism</th>\n",
              "      <th>Unnamed: 7</th>\n",
              "    </tr>\n",
              "  </thead>\n",
              "  <tbody>\n",
              "    <tr>\n",
              "      <th>0</th>\n",
              "      <td>10002.0</td>\n",
              "      <td>এই গুলার জায়গামতো চুঁচড়া লাগিয়ে দেয়া দরকার! যত...</td>\n",
              "      <td>1.0</td>\n",
              "      <td>0.0</td>\n",
              "      <td>0.0</td>\n",
              "      <td>1.0</td>\n",
              "      <td>0.0</td>\n",
              "      <td>NaN</td>\n",
              "    </tr>\n",
              "    <tr>\n",
              "      <th>1</th>\n",
              "      <td>10003.0</td>\n",
              "      <td>আসিফ খানকির পোলা, তোর মারে কুত্তা দিয়ে চুদে তো...</td>\n",
              "      <td>1.0</td>\n",
              "      <td>0.0</td>\n",
              "      <td>1.0</td>\n",
              "      <td>1.0</td>\n",
              "      <td>0.0</td>\n",
              "      <td>NaN</td>\n",
              "    </tr>\n",
              "    <tr>\n",
              "      <th>2</th>\n",
              "      <td>10004.0</td>\n",
              "      <td>শুয়োরের জ্ঞান সীমিত তাই সারাদিন গাঁজাখোরদের মত...</td>\n",
              "      <td>1.0</td>\n",
              "      <td>0.0</td>\n",
              "      <td>0.0</td>\n",
              "      <td>1.0</td>\n",
              "      <td>0.0</td>\n",
              "      <td>NaN</td>\n",
              "    </tr>\n",
              "    <tr>\n",
              "      <th>3</th>\n",
              "      <td>10005.0</td>\n",
              "      <td>এই মাদ্রাসার হোগুরকে ডিলডো মেরে শাস্তি দেয়া হোক।</td>\n",
              "      <td>1.0</td>\n",
              "      <td>0.0</td>\n",
              "      <td>0.0</td>\n",
              "      <td>1.0</td>\n",
              "      <td>0.0</td>\n",
              "      <td>NaN</td>\n",
              "    </tr>\n",
              "    <tr>\n",
              "      <th>4</th>\n",
              "      <td>10006.0</td>\n",
              "      <td>নাস্তিকতা মানে ই মানুষিক রোগী ।</td>\n",
              "      <td>1.0</td>\n",
              "      <td>0.0</td>\n",
              "      <td>0.0</td>\n",
              "      <td>0.0</td>\n",
              "      <td>1.0</td>\n",
              "      <td>NaN</td>\n",
              "    </tr>\n",
              "  </tbody>\n",
              "</table>\n",
              "</div>\n",
              "      <button class=\"colab-df-convert\" onclick=\"convertToInteractive('df-d7481752-dc5b-4bdd-9b2f-fd19ce3efb1b')\"\n",
              "              title=\"Convert this dataframe to an interactive table.\"\n",
              "              style=\"display:none;\">\n",
              "        \n",
              "  <svg xmlns=\"http://www.w3.org/2000/svg\" height=\"24px\"viewBox=\"0 0 24 24\"\n",
              "       width=\"24px\">\n",
              "    <path d=\"M0 0h24v24H0V0z\" fill=\"none\"/>\n",
              "    <path d=\"M18.56 5.44l.94 2.06.94-2.06 2.06-.94-2.06-.94-.94-2.06-.94 2.06-2.06.94zm-11 1L8.5 8.5l.94-2.06 2.06-.94-2.06-.94L8.5 2.5l-.94 2.06-2.06.94zm10 10l.94 2.06.94-2.06 2.06-.94-2.06-.94-.94-2.06-.94 2.06-2.06.94z\"/><path d=\"M17.41 7.96l-1.37-1.37c-.4-.4-.92-.59-1.43-.59-.52 0-1.04.2-1.43.59L10.3 9.45l-7.72 7.72c-.78.78-.78 2.05 0 2.83L4 21.41c.39.39.9.59 1.41.59.51 0 1.02-.2 1.41-.59l7.78-7.78 2.81-2.81c.8-.78.8-2.07 0-2.86zM5.41 20L4 18.59l7.72-7.72 1.47 1.35L5.41 20z\"/>\n",
              "  </svg>\n",
              "      </button>\n",
              "      \n",
              "  <style>\n",
              "    .colab-df-container {\n",
              "      display:flex;\n",
              "      flex-wrap:wrap;\n",
              "      gap: 12px;\n",
              "    }\n",
              "\n",
              "    .colab-df-convert {\n",
              "      background-color: #E8F0FE;\n",
              "      border: none;\n",
              "      border-radius: 50%;\n",
              "      cursor: pointer;\n",
              "      display: none;\n",
              "      fill: #1967D2;\n",
              "      height: 32px;\n",
              "      padding: 0 0 0 0;\n",
              "      width: 32px;\n",
              "    }\n",
              "\n",
              "    .colab-df-convert:hover {\n",
              "      background-color: #E2EBFA;\n",
              "      box-shadow: 0px 1px 2px rgba(60, 64, 67, 0.3), 0px 1px 3px 1px rgba(60, 64, 67, 0.15);\n",
              "      fill: #174EA6;\n",
              "    }\n",
              "\n",
              "    [theme=dark] .colab-df-convert {\n",
              "      background-color: #3B4455;\n",
              "      fill: #D2E3FC;\n",
              "    }\n",
              "\n",
              "    [theme=dark] .colab-df-convert:hover {\n",
              "      background-color: #434B5C;\n",
              "      box-shadow: 0px 1px 3px 1px rgba(0, 0, 0, 0.15);\n",
              "      filter: drop-shadow(0px 1px 2px rgba(0, 0, 0, 0.3));\n",
              "      fill: #FFFFFF;\n",
              "    }\n",
              "  </style>\n",
              "\n",
              "      <script>\n",
              "        const buttonEl =\n",
              "          document.querySelector('#df-d7481752-dc5b-4bdd-9b2f-fd19ce3efb1b button.colab-df-convert');\n",
              "        buttonEl.style.display =\n",
              "          google.colab.kernel.accessAllowed ? 'block' : 'none';\n",
              "\n",
              "        async function convertToInteractive(key) {\n",
              "          const element = document.querySelector('#df-d7481752-dc5b-4bdd-9b2f-fd19ce3efb1b');\n",
              "          const dataTable =\n",
              "            await google.colab.kernel.invokeFunction('convertToInteractive',\n",
              "                                                     [key], {});\n",
              "          if (!dataTable) return;\n",
              "\n",
              "          const docLinkHtml = 'Like what you see? Visit the ' +\n",
              "            '<a target=\"_blank\" href=https://colab.research.google.com/notebooks/data_table.ipynb>data table notebook</a>'\n",
              "            + ' to learn more about interactive tables.';\n",
              "          element.innerHTML = '';\n",
              "          dataTable['output_type'] = 'display_data';\n",
              "          await google.colab.output.renderOutput(dataTable, element);\n",
              "          const docLink = document.createElement('div');\n",
              "          docLink.innerHTML = docLinkHtml;\n",
              "          element.appendChild(docLink);\n",
              "        }\n",
              "      </script>\n",
              "    </div>\n",
              "  </div>\n",
              "  "
            ]
          },
          "metadata": {},
          "execution_count": 6
        }
      ]
    },
    {
      "cell_type": "code",
      "source": [
        "df2.loc[(df2.insult==1) & (df2.toxic==0)]"
      ],
      "metadata": {
        "colab": {
          "base_uri": "https://localhost:8080/",
          "height": 49
        },
        "id": "_oJbzWvHmP6l",
        "outputId": "5ccd8964-189d-4c21-f6fe-dcc51979b321"
      },
      "execution_count": null,
      "outputs": [
        {
          "output_type": "execute_result",
          "data": {
            "text/plain": [
              "Empty DataFrame\n",
              "Columns: [id, comment_text, toxic, threat, obscene, insult, racism, Unnamed: 7]\n",
              "Index: []"
            ],
            "text/html": [
              "\n",
              "  <div id=\"df-95a0128a-8009-4438-8bd7-0c69c2ed0270\">\n",
              "    <div class=\"colab-df-container\">\n",
              "      <div>\n",
              "<style scoped>\n",
              "    .dataframe tbody tr th:only-of-type {\n",
              "        vertical-align: middle;\n",
              "    }\n",
              "\n",
              "    .dataframe tbody tr th {\n",
              "        vertical-align: top;\n",
              "    }\n",
              "\n",
              "    .dataframe thead th {\n",
              "        text-align: right;\n",
              "    }\n",
              "</style>\n",
              "<table border=\"1\" class=\"dataframe\">\n",
              "  <thead>\n",
              "    <tr style=\"text-align: right;\">\n",
              "      <th></th>\n",
              "      <th>id</th>\n",
              "      <th>comment_text</th>\n",
              "      <th>toxic</th>\n",
              "      <th>threat</th>\n",
              "      <th>obscene</th>\n",
              "      <th>insult</th>\n",
              "      <th>racism</th>\n",
              "      <th>Unnamed: 7</th>\n",
              "    </tr>\n",
              "  </thead>\n",
              "  <tbody>\n",
              "  </tbody>\n",
              "</table>\n",
              "</div>\n",
              "      <button class=\"colab-df-convert\" onclick=\"convertToInteractive('df-95a0128a-8009-4438-8bd7-0c69c2ed0270')\"\n",
              "              title=\"Convert this dataframe to an interactive table.\"\n",
              "              style=\"display:none;\">\n",
              "        \n",
              "  <svg xmlns=\"http://www.w3.org/2000/svg\" height=\"24px\"viewBox=\"0 0 24 24\"\n",
              "       width=\"24px\">\n",
              "    <path d=\"M0 0h24v24H0V0z\" fill=\"none\"/>\n",
              "    <path d=\"M18.56 5.44l.94 2.06.94-2.06 2.06-.94-2.06-.94-.94-2.06-.94 2.06-2.06.94zm-11 1L8.5 8.5l.94-2.06 2.06-.94-2.06-.94L8.5 2.5l-.94 2.06-2.06.94zm10 10l.94 2.06.94-2.06 2.06-.94-2.06-.94-.94-2.06-.94 2.06-2.06.94z\"/><path d=\"M17.41 7.96l-1.37-1.37c-.4-.4-.92-.59-1.43-.59-.52 0-1.04.2-1.43.59L10.3 9.45l-7.72 7.72c-.78.78-.78 2.05 0 2.83L4 21.41c.39.39.9.59 1.41.59.51 0 1.02-.2 1.41-.59l7.78-7.78 2.81-2.81c.8-.78.8-2.07 0-2.86zM5.41 20L4 18.59l7.72-7.72 1.47 1.35L5.41 20z\"/>\n",
              "  </svg>\n",
              "      </button>\n",
              "      \n",
              "  <style>\n",
              "    .colab-df-container {\n",
              "      display:flex;\n",
              "      flex-wrap:wrap;\n",
              "      gap: 12px;\n",
              "    }\n",
              "\n",
              "    .colab-df-convert {\n",
              "      background-color: #E8F0FE;\n",
              "      border: none;\n",
              "      border-radius: 50%;\n",
              "      cursor: pointer;\n",
              "      display: none;\n",
              "      fill: #1967D2;\n",
              "      height: 32px;\n",
              "      padding: 0 0 0 0;\n",
              "      width: 32px;\n",
              "    }\n",
              "\n",
              "    .colab-df-convert:hover {\n",
              "      background-color: #E2EBFA;\n",
              "      box-shadow: 0px 1px 2px rgba(60, 64, 67, 0.3), 0px 1px 3px 1px rgba(60, 64, 67, 0.15);\n",
              "      fill: #174EA6;\n",
              "    }\n",
              "\n",
              "    [theme=dark] .colab-df-convert {\n",
              "      background-color: #3B4455;\n",
              "      fill: #D2E3FC;\n",
              "    }\n",
              "\n",
              "    [theme=dark] .colab-df-convert:hover {\n",
              "      background-color: #434B5C;\n",
              "      box-shadow: 0px 1px 3px 1px rgba(0, 0, 0, 0.15);\n",
              "      filter: drop-shadow(0px 1px 2px rgba(0, 0, 0, 0.3));\n",
              "      fill: #FFFFFF;\n",
              "    }\n",
              "  </style>\n",
              "\n",
              "      <script>\n",
              "        const buttonEl =\n",
              "          document.querySelector('#df-95a0128a-8009-4438-8bd7-0c69c2ed0270 button.colab-df-convert');\n",
              "        buttonEl.style.display =\n",
              "          google.colab.kernel.accessAllowed ? 'block' : 'none';\n",
              "\n",
              "        async function convertToInteractive(key) {\n",
              "          const element = document.querySelector('#df-95a0128a-8009-4438-8bd7-0c69c2ed0270');\n",
              "          const dataTable =\n",
              "            await google.colab.kernel.invokeFunction('convertToInteractive',\n",
              "                                                     [key], {});\n",
              "          if (!dataTable) return;\n",
              "\n",
              "          const docLinkHtml = 'Like what you see? Visit the ' +\n",
              "            '<a target=\"_blank\" href=https://colab.research.google.com/notebooks/data_table.ipynb>data table notebook</a>'\n",
              "            + ' to learn more about interactive tables.';\n",
              "          element.innerHTML = '';\n",
              "          dataTable['output_type'] = 'display_data';\n",
              "          await google.colab.output.renderOutput(dataTable, element);\n",
              "          const docLink = document.createElement('div');\n",
              "          docLink.innerHTML = docLinkHtml;\n",
              "          element.appendChild(docLink);\n",
              "        }\n",
              "      </script>\n",
              "    </div>\n",
              "  </div>\n",
              "  "
            ]
          },
          "metadata": {},
          "execution_count": 7
        }
      ]
    },
    {
      "cell_type": "code",
      "source": [
        "df2 = df2.drop(['id','threat', 'obscene', 'insult', 'racism','Unnamed: 7'], axis=1)\n",
        "df2.rename(columns= {'comment_text':'text', 'toxic': 'target'}, inplace=True)\n",
        "df2 = shuffle(df2, random_state=8)\n",
        "df2.head()"
      ],
      "metadata": {
        "colab": {
          "base_uri": "https://localhost:8080/",
          "height": 206
        },
        "id": "aaqfO8sJob9M",
        "outputId": "0d4533a7-5399-438a-cd14-0a7610d51c6d"
      },
      "execution_count": null,
      "outputs": [
        {
          "output_type": "execute_result",
          "data": {
            "text/plain": [
              "                                                   text  target\n",
              "6381              আমরা মারা গেলে চোখ বুজে ফেলি... তারা?     0.0\n",
              "2322                                        নয়াাখাইল্লা     1.0\n",
              "8997                                       ইচ্ছেটাই আসল     0.0\n",
              "5148     আমি সাথেসাথে হাঁটা থামিয়ে তার দিকে হাত নাড়ালাম     0.0\n",
              "23    যেই খানকীর পোলা নাস্তিক রা বিরোধীতা করছিস, তোদ...     1.0"
            ],
            "text/html": [
              "\n",
              "  <div id=\"df-c3a55e59-4d38-4dff-865d-b30ab5ecd266\">\n",
              "    <div class=\"colab-df-container\">\n",
              "      <div>\n",
              "<style scoped>\n",
              "    .dataframe tbody tr th:only-of-type {\n",
              "        vertical-align: middle;\n",
              "    }\n",
              "\n",
              "    .dataframe tbody tr th {\n",
              "        vertical-align: top;\n",
              "    }\n",
              "\n",
              "    .dataframe thead th {\n",
              "        text-align: right;\n",
              "    }\n",
              "</style>\n",
              "<table border=\"1\" class=\"dataframe\">\n",
              "  <thead>\n",
              "    <tr style=\"text-align: right;\">\n",
              "      <th></th>\n",
              "      <th>text</th>\n",
              "      <th>target</th>\n",
              "    </tr>\n",
              "  </thead>\n",
              "  <tbody>\n",
              "    <tr>\n",
              "      <th>6381</th>\n",
              "      <td>আমরা মারা গেলে চোখ বুজে ফেলি... তারা?</td>\n",
              "      <td>0.0</td>\n",
              "    </tr>\n",
              "    <tr>\n",
              "      <th>2322</th>\n",
              "      <td>নয়াাখাইল্লা</td>\n",
              "      <td>1.0</td>\n",
              "    </tr>\n",
              "    <tr>\n",
              "      <th>8997</th>\n",
              "      <td>ইচ্ছেটাই আসল</td>\n",
              "      <td>0.0</td>\n",
              "    </tr>\n",
              "    <tr>\n",
              "      <th>5148</th>\n",
              "      <td>আমি সাথেসাথে হাঁটা থামিয়ে তার দিকে হাত নাড়ালাম</td>\n",
              "      <td>0.0</td>\n",
              "    </tr>\n",
              "    <tr>\n",
              "      <th>23</th>\n",
              "      <td>যেই খানকীর পোলা নাস্তিক রা বিরোধীতা করছিস, তোদ...</td>\n",
              "      <td>1.0</td>\n",
              "    </tr>\n",
              "  </tbody>\n",
              "</table>\n",
              "</div>\n",
              "      <button class=\"colab-df-convert\" onclick=\"convertToInteractive('df-c3a55e59-4d38-4dff-865d-b30ab5ecd266')\"\n",
              "              title=\"Convert this dataframe to an interactive table.\"\n",
              "              style=\"display:none;\">\n",
              "        \n",
              "  <svg xmlns=\"http://www.w3.org/2000/svg\" height=\"24px\"viewBox=\"0 0 24 24\"\n",
              "       width=\"24px\">\n",
              "    <path d=\"M0 0h24v24H0V0z\" fill=\"none\"/>\n",
              "    <path d=\"M18.56 5.44l.94 2.06.94-2.06 2.06-.94-2.06-.94-.94-2.06-.94 2.06-2.06.94zm-11 1L8.5 8.5l.94-2.06 2.06-.94-2.06-.94L8.5 2.5l-.94 2.06-2.06.94zm10 10l.94 2.06.94-2.06 2.06-.94-2.06-.94-.94-2.06-.94 2.06-2.06.94z\"/><path d=\"M17.41 7.96l-1.37-1.37c-.4-.4-.92-.59-1.43-.59-.52 0-1.04.2-1.43.59L10.3 9.45l-7.72 7.72c-.78.78-.78 2.05 0 2.83L4 21.41c.39.39.9.59 1.41.59.51 0 1.02-.2 1.41-.59l7.78-7.78 2.81-2.81c.8-.78.8-2.07 0-2.86zM5.41 20L4 18.59l7.72-7.72 1.47 1.35L5.41 20z\"/>\n",
              "  </svg>\n",
              "      </button>\n",
              "      \n",
              "  <style>\n",
              "    .colab-df-container {\n",
              "      display:flex;\n",
              "      flex-wrap:wrap;\n",
              "      gap: 12px;\n",
              "    }\n",
              "\n",
              "    .colab-df-convert {\n",
              "      background-color: #E8F0FE;\n",
              "      border: none;\n",
              "      border-radius: 50%;\n",
              "      cursor: pointer;\n",
              "      display: none;\n",
              "      fill: #1967D2;\n",
              "      height: 32px;\n",
              "      padding: 0 0 0 0;\n",
              "      width: 32px;\n",
              "    }\n",
              "\n",
              "    .colab-df-convert:hover {\n",
              "      background-color: #E2EBFA;\n",
              "      box-shadow: 0px 1px 2px rgba(60, 64, 67, 0.3), 0px 1px 3px 1px rgba(60, 64, 67, 0.15);\n",
              "      fill: #174EA6;\n",
              "    }\n",
              "\n",
              "    [theme=dark] .colab-df-convert {\n",
              "      background-color: #3B4455;\n",
              "      fill: #D2E3FC;\n",
              "    }\n",
              "\n",
              "    [theme=dark] .colab-df-convert:hover {\n",
              "      background-color: #434B5C;\n",
              "      box-shadow: 0px 1px 3px 1px rgba(0, 0, 0, 0.15);\n",
              "      filter: drop-shadow(0px 1px 2px rgba(0, 0, 0, 0.3));\n",
              "      fill: #FFFFFF;\n",
              "    }\n",
              "  </style>\n",
              "\n",
              "      <script>\n",
              "        const buttonEl =\n",
              "          document.querySelector('#df-c3a55e59-4d38-4dff-865d-b30ab5ecd266 button.colab-df-convert');\n",
              "        buttonEl.style.display =\n",
              "          google.colab.kernel.accessAllowed ? 'block' : 'none';\n",
              "\n",
              "        async function convertToInteractive(key) {\n",
              "          const element = document.querySelector('#df-c3a55e59-4d38-4dff-865d-b30ab5ecd266');\n",
              "          const dataTable =\n",
              "            await google.colab.kernel.invokeFunction('convertToInteractive',\n",
              "                                                     [key], {});\n",
              "          if (!dataTable) return;\n",
              "\n",
              "          const docLinkHtml = 'Like what you see? Visit the ' +\n",
              "            '<a target=\"_blank\" href=https://colab.research.google.com/notebooks/data_table.ipynb>data table notebook</a>'\n",
              "            + ' to learn more about interactive tables.';\n",
              "          element.innerHTML = '';\n",
              "          dataTable['output_type'] = 'display_data';\n",
              "          await google.colab.output.renderOutput(dataTable, element);\n",
              "          const docLink = document.createElement('div');\n",
              "          docLink.innerHTML = docLinkHtml;\n",
              "          element.appendChild(docLink);\n",
              "        }\n",
              "      </script>\n",
              "    </div>\n",
              "  </div>\n",
              "  "
            ]
          },
          "metadata": {},
          "execution_count": 8
        }
      ]
    },
    {
      "cell_type": "code",
      "source": [
        "df2['text'].isna().sum()"
      ],
      "metadata": {
        "colab": {
          "base_uri": "https://localhost:8080/"
        },
        "id": "8XmMfwc8pQmR",
        "outputId": "1f71898b-683b-41f1-cea9-eae366e952a5"
      },
      "execution_count": null,
      "outputs": [
        {
          "output_type": "execute_result",
          "data": {
            "text/plain": [
              "1"
            ]
          },
          "metadata": {},
          "execution_count": 9
        }
      ]
    },
    {
      "cell_type": "code",
      "source": [
        "df2 = df2.drop(df2.loc[df2.text.isna()==True].index)\n",
        "df2.isna().sum()"
      ],
      "metadata": {
        "colab": {
          "base_uri": "https://localhost:8080/"
        },
        "id": "RWvhoKCap4OW",
        "outputId": "0b9b9d8f-dea0-411e-c598-e24d0c846b62"
      },
      "execution_count": null,
      "outputs": [
        {
          "output_type": "execute_result",
          "data": {
            "text/plain": [
              "text      0\n",
              "target    0\n",
              "dtype: int64"
            ]
          },
          "metadata": {},
          "execution_count": 10
        }
      ]
    },
    {
      "cell_type": "code",
      "source": [
        "df2.shape"
      ],
      "metadata": {
        "colab": {
          "base_uri": "https://localhost:8080/"
        },
        "id": "PypEBb8hqfiL",
        "outputId": "0de7521e-9c9d-488a-c7b3-594d5a0195c0"
      },
      "execution_count": null,
      "outputs": [
        {
          "output_type": "execute_result",
          "data": {
            "text/plain": [
              "(10219, 2)"
            ]
          },
          "metadata": {},
          "execution_count": 11
        }
      ]
    },
    {
      "cell_type": "code",
      "execution_count": null,
      "metadata": {
        "colab": {
          "base_uri": "https://localhost:8080/",
          "height": 206
        },
        "id": "3OYTD79TCXR5",
        "outputId": "9287dc87-3605-4057-90de-4c44ba2b2032"
      },
      "outputs": [
        {
          "output_type": "execute_result",
          "data": {
            "text/plain": [
              "                                                    text  target\n",
              "5365   ওটা তোর বাবার কুত্তার বাচ্চার তুরা আমার আল্লার...     1.0\n",
              "9434       ভাবী তোমার হট দেবর আমি কেমন আছেন আপনি মিস দাও     1.0\n",
              "19773                                তাহেরী হলো আসল ভন্ড     0.0\n",
              "29236                             ইতিহাস পুনরাবৃত্তি হবে     0.0\n",
              "3078              কোন গাছ বলদে এ নাটক পরিচালনা করছে আবাল     1.0"
            ],
            "text/html": [
              "\n",
              "  <div id=\"df-2cfa909a-dbdf-4ac7-9b00-d06008aa33f3\">\n",
              "    <div class=\"colab-df-container\">\n",
              "      <div>\n",
              "<style scoped>\n",
              "    .dataframe tbody tr th:only-of-type {\n",
              "        vertical-align: middle;\n",
              "    }\n",
              "\n",
              "    .dataframe tbody tr th {\n",
              "        vertical-align: top;\n",
              "    }\n",
              "\n",
              "    .dataframe thead th {\n",
              "        text-align: right;\n",
              "    }\n",
              "</style>\n",
              "<table border=\"1\" class=\"dataframe\">\n",
              "  <thead>\n",
              "    <tr style=\"text-align: right;\">\n",
              "      <th></th>\n",
              "      <th>text</th>\n",
              "      <th>target</th>\n",
              "    </tr>\n",
              "  </thead>\n",
              "  <tbody>\n",
              "    <tr>\n",
              "      <th>5365</th>\n",
              "      <td>ওটা তোর বাবার কুত্তার বাচ্চার তুরা আমার আল্লার...</td>\n",
              "      <td>1.0</td>\n",
              "    </tr>\n",
              "    <tr>\n",
              "      <th>9434</th>\n",
              "      <td>ভাবী তোমার হট দেবর আমি কেমন আছেন আপনি মিস দাও</td>\n",
              "      <td>1.0</td>\n",
              "    </tr>\n",
              "    <tr>\n",
              "      <th>19773</th>\n",
              "      <td>তাহেরী হলো আসল ভন্ড</td>\n",
              "      <td>0.0</td>\n",
              "    </tr>\n",
              "    <tr>\n",
              "      <th>29236</th>\n",
              "      <td>ইতিহাস পুনরাবৃত্তি হবে</td>\n",
              "      <td>0.0</td>\n",
              "    </tr>\n",
              "    <tr>\n",
              "      <th>3078</th>\n",
              "      <td>কোন গাছ বলদে এ নাটক পরিচালনা করছে আবাল</td>\n",
              "      <td>1.0</td>\n",
              "    </tr>\n",
              "  </tbody>\n",
              "</table>\n",
              "</div>\n",
              "      <button class=\"colab-df-convert\" onclick=\"convertToInteractive('df-2cfa909a-dbdf-4ac7-9b00-d06008aa33f3')\"\n",
              "              title=\"Convert this dataframe to an interactive table.\"\n",
              "              style=\"display:none;\">\n",
              "        \n",
              "  <svg xmlns=\"http://www.w3.org/2000/svg\" height=\"24px\"viewBox=\"0 0 24 24\"\n",
              "       width=\"24px\">\n",
              "    <path d=\"M0 0h24v24H0V0z\" fill=\"none\"/>\n",
              "    <path d=\"M18.56 5.44l.94 2.06.94-2.06 2.06-.94-2.06-.94-.94-2.06-.94 2.06-2.06.94zm-11 1L8.5 8.5l.94-2.06 2.06-.94-2.06-.94L8.5 2.5l-.94 2.06-2.06.94zm10 10l.94 2.06.94-2.06 2.06-.94-2.06-.94-.94-2.06-.94 2.06-2.06.94z\"/><path d=\"M17.41 7.96l-1.37-1.37c-.4-.4-.92-.59-1.43-.59-.52 0-1.04.2-1.43.59L10.3 9.45l-7.72 7.72c-.78.78-.78 2.05 0 2.83L4 21.41c.39.39.9.59 1.41.59.51 0 1.02-.2 1.41-.59l7.78-7.78 2.81-2.81c.8-.78.8-2.07 0-2.86zM5.41 20L4 18.59l7.72-7.72 1.47 1.35L5.41 20z\"/>\n",
              "  </svg>\n",
              "      </button>\n",
              "      \n",
              "  <style>\n",
              "    .colab-df-container {\n",
              "      display:flex;\n",
              "      flex-wrap:wrap;\n",
              "      gap: 12px;\n",
              "    }\n",
              "\n",
              "    .colab-df-convert {\n",
              "      background-color: #E8F0FE;\n",
              "      border: none;\n",
              "      border-radius: 50%;\n",
              "      cursor: pointer;\n",
              "      display: none;\n",
              "      fill: #1967D2;\n",
              "      height: 32px;\n",
              "      padding: 0 0 0 0;\n",
              "      width: 32px;\n",
              "    }\n",
              "\n",
              "    .colab-df-convert:hover {\n",
              "      background-color: #E2EBFA;\n",
              "      box-shadow: 0px 1px 2px rgba(60, 64, 67, 0.3), 0px 1px 3px 1px rgba(60, 64, 67, 0.15);\n",
              "      fill: #174EA6;\n",
              "    }\n",
              "\n",
              "    [theme=dark] .colab-df-convert {\n",
              "      background-color: #3B4455;\n",
              "      fill: #D2E3FC;\n",
              "    }\n",
              "\n",
              "    [theme=dark] .colab-df-convert:hover {\n",
              "      background-color: #434B5C;\n",
              "      box-shadow: 0px 1px 3px 1px rgba(0, 0, 0, 0.15);\n",
              "      filter: drop-shadow(0px 1px 2px rgba(0, 0, 0, 0.3));\n",
              "      fill: #FFFFFF;\n",
              "    }\n",
              "  </style>\n",
              "\n",
              "      <script>\n",
              "        const buttonEl =\n",
              "          document.querySelector('#df-2cfa909a-dbdf-4ac7-9b00-d06008aa33f3 button.colab-df-convert');\n",
              "        buttonEl.style.display =\n",
              "          google.colab.kernel.accessAllowed ? 'block' : 'none';\n",
              "\n",
              "        async function convertToInteractive(key) {\n",
              "          const element = document.querySelector('#df-2cfa909a-dbdf-4ac7-9b00-d06008aa33f3');\n",
              "          const dataTable =\n",
              "            await google.colab.kernel.invokeFunction('convertToInteractive',\n",
              "                                                     [key], {});\n",
              "          if (!dataTable) return;\n",
              "\n",
              "          const docLinkHtml = 'Like what you see? Visit the ' +\n",
              "            '<a target=\"_blank\" href=https://colab.research.google.com/notebooks/data_table.ipynb>data table notebook</a>'\n",
              "            + ' to learn more about interactive tables.';\n",
              "          element.innerHTML = '';\n",
              "          dataTable['output_type'] = 'display_data';\n",
              "          await google.colab.output.renderOutput(dataTable, element);\n",
              "          const docLink = document.createElement('div');\n",
              "          docLink.innerHTML = docLinkHtml;\n",
              "          element.appendChild(docLink);\n",
              "        }\n",
              "      </script>\n",
              "    </div>\n",
              "  </div>\n",
              "  "
            ]
          },
          "metadata": {},
          "execution_count": 12
        }
      ],
      "source": [
        "df = pd.concat([df, df1, df2], axis=0)\n",
        "df.head(5)"
      ]
    },
    {
      "cell_type": "code",
      "source": [
        "df.shape"
      ],
      "metadata": {
        "colab": {
          "base_uri": "https://localhost:8080/"
        },
        "id": "aTNkHKYEhD6e",
        "outputId": "3915c0ba-bede-415a-d05a-891b4437b703"
      },
      "execution_count": null,
      "outputs": [
        {
          "output_type": "execute_result",
          "data": {
            "text/plain": [
              "(43365, 2)"
            ]
          },
          "metadata": {},
          "execution_count": 13
        }
      ]
    },
    {
      "cell_type": "code",
      "execution_count": null,
      "metadata": {
        "id": "ps3NW3e1yWCX"
      },
      "outputs": [],
      "source": [
        "# import io\n",
        "# df = pd.read_csv(io.BytesIO(uploaded['bengali_hate_speech.csv']))\n",
        "# df.head(5)"
      ]
    },
    {
      "cell_type": "code",
      "execution_count": null,
      "metadata": {
        "colab": {
          "base_uri": "https://localhost:8080/"
        },
        "id": "o0gNEdP0yWSQ",
        "outputId": "b580d00e-7f8f-4d83-b0b0-f11b349b4987"
      },
      "outputs": [
        {
          "output_type": "execute_result",
          "data": {
            "text/plain": [
              "False"
            ]
          },
          "metadata": {},
          "execution_count": 15
        }
      ],
      "source": [
        "df = shuffle(df,random_state=16)\n",
        "df.text.isnull().any()"
      ]
    },
    {
      "cell_type": "code",
      "source": [
        "df.to_csv('combined_bangla_abusive.csv', encoding='utf-8', index=False)"
      ],
      "metadata": {
        "id": "_YEaF9BQy4oF"
      },
      "execution_count": null,
      "outputs": []
    },
    {
      "cell_type": "code",
      "source": [
        "df[df.target==0].shape[0]"
      ],
      "metadata": {
        "colab": {
          "base_uri": "https://localhost:8080/"
        },
        "id": "vJkCyYLgQDR1",
        "outputId": "65c08451-f6fd-40d0-afc5-275fc7791a01"
      },
      "execution_count": null,
      "outputs": [
        {
          "output_type": "execute_result",
          "data": {
            "text/plain": [
              "25964"
            ]
          },
          "metadata": {},
          "execution_count": 27
        }
      ]
    },
    {
      "cell_type": "code",
      "source": [
        "df[df.target==1].shape[0]"
      ],
      "metadata": {
        "colab": {
          "base_uri": "https://localhost:8080/"
        },
        "id": "kdY5DbcBQ8vZ",
        "outputId": "7099030c-5f16-44ef-b703-cd572209ed96"
      },
      "execution_count": null,
      "outputs": [
        {
          "output_type": "execute_result",
          "data": {
            "text/plain": [
              "17401"
            ]
          },
          "metadata": {},
          "execution_count": 26
        }
      ]
    },
    {
      "cell_type": "code",
      "source": [
        "classes = sorted(df.target.unique())\n",
        "counts = []\n",
        "for i in classes: \n",
        "  count = len(df[df.target==1])\n"
      ],
      "metadata": {
        "id": "EiB_cmSuP7d-"
      },
      "execution_count": null,
      "outputs": []
    },
    {
      "cell_type": "code",
      "source": [
        "classes = sorted(df.target.unique())\n",
        "counts = []\n",
        "for i in classes: \n",
        "  count = len(df[df.target==i])\n",
        "  counts.append(count)\n",
        "\n",
        "plt.bar(['Positive', 'Negative'], counts)\n",
        "plt.show()"
      ],
      "metadata": {
        "colab": {
          "base_uri": "https://localhost:8080/",
          "height": 265
        },
        "id": "c_x_dy1a4uZq",
        "outputId": "60ab46e6-e269-4cb1-e9c4-538e25d863cd"
      },
      "execution_count": null,
      "outputs": [
        {
          "output_type": "display_data",
          "data": {
            "text/plain": [
              "<Figure size 432x288 with 1 Axes>"
            ],
            "image/png": "[encoded data removed]"
          },
          "metadata": {
            "needs_background": "light"
          }
        }
      ]
    },
    {
      "cell_type": "code",
      "source": [
        "df.loc[df.target==0].shape[0], df.loc[df.target==1].shape[0]"
      ],
      "metadata": {
        "colab": {
          "base_uri": "https://localhost:8080/"
        },
        "id": "s439eb2I5HQ_",
        "outputId": "36b8ed4e-0f09-42c5-8110-622b20ad0238"
      },
      "execution_count": null,
      "outputs": [
        {
          "output_type": "execute_result",
          "data": {
            "text/plain": [
              "(25964, 17401)"
            ]
          },
          "metadata": {},
          "execution_count": 18
        }
      ]
    },
    {
      "cell_type": "code",
      "execution_count": null,
      "metadata": {
        "colab": {
          "base_uri": "https://localhost:8080/"
        },
        "id": "B_3HdS9MzYsQ",
        "outputId": "b9c418e6-5da9-48c8-87c5-d1b25897f7dc"
      },
      "outputs": [
        {
          "output_type": "execute_result",
          "data": {
            "text/plain": [
              "((43365, 1), (43365,))"
            ]
          },
          "metadata": {},
          "execution_count": 19
        }
      ],
      "source": [
        "trainX = df.drop('target', axis=1).to_numpy()\n",
        "trainY = df['target'].to_numpy()\n",
        "trainX.shape, trainY.shape"
      ]
    },
    {
      "cell_type": "code",
      "execution_count": null,
      "metadata": {
        "colab": {
          "base_uri": "https://localhost:8080/"
        },
        "id": "b8LDEBn5ErI9",
        "outputId": "d874fdf7-51c1-4300-f298-5ae79d15e51f"
      },
      "outputs": [
        {
          "output_type": "execute_result",
          "data": {
            "text/plain": [
              "(numpy.ndarray, numpy.ndarray)"
            ]
          },
          "metadata": {},
          "execution_count": 20
        }
      ],
      "source": [
        "type(trainX), type(trainY) "
      ]
    },
    {
      "cell_type": "markdown",
      "metadata": {
        "id": "d3Ms05zizgfe"
      },
      "source": [
        "### DATA CLEANING"
      ]
    },
    {
      "cell_type": "code",
      "execution_count": null,
      "metadata": {
        "id": "8dokwWUgzcqL"
      },
      "outputs": [],
      "source": [
        "## Data Cleaning \n",
        "import re\n",
        "trainX = [re.sub(\"[a-zA-z0-9,১২৩৪৫৬৭৮৯০,@,;.ঃ\\_\\`\\~।\\|?:\\\"$%&#''\\-\\!\\^*(){}\\[\\]<>—’“”√।\\-=+/]+\",\"\", str(x)).strip() for x in trainX] \n",
        "emoji = re.compile(\"[\"\n",
        "        u\"\\U0001F600-\\U0001F64F\"  # emoticons\n",
        "        u\"\\U0001F300-\\U0001F5FF\"  # symbols & pictographs\n",
        "        u\"\\U0001F680-\\U0001F6FF\"  # transport & map symbols\n",
        "        u\"\\U0001F1E0-\\U0001F1FF\"  # flags (iOS)\n",
        "        u\"\\U00002500-\\U00002BEF\"  # chinese char\n",
        "        u\"\\U00002702-\\U000027B0\"\n",
        "        u\"\\U00002702-\\U000027B0\"\n",
        "        u\"\\U000024C2-\\U0001F251\"\n",
        "        u\"\\U0001f926-\\U0001f937\"\n",
        "        u\"\\U00010000-\\U0010ffff\"\n",
        "        u\"\\u2640-\\u2642\" \n",
        "        u\"\\u2600-\\u2B55\"\n",
        "        u\"\\u200d\"\n",
        "        u\"\\u23cf\"\n",
        "        u\"\\u23e9\"\n",
        "        u\"\\u231a\"\n",
        "        u\"\\ufe0f\"  # dingbats\n",
        "        u\"\\u3030\"\n",
        "                      \"]+\", re.UNICODE)\n",
        "\n",
        "trainX = [re.sub(emoji,'',x).strip() for x in trainX]"
      ]
    },
    {
      "cell_type": "code",
      "source": [
        "import re \n",
        "\n",
        "def data_cleaning(text): \n",
        "  text = [re.sub(\"[a-zA-z0-9,১২৩৪৫৬৭৮৯০,@,;.ঃ\\_\\`\\~।\\|?:\\\"$%&#''\\-\\!\\^*(){}\\[\\]<>—’“”√।\\-=+/]+\",\"\", str(x)).strip() for x in text] \n",
        "  emoji = re.compile(\"[\"\n",
        "          u\"\\U0001F600-\\U0001F64F\"  # emoticons\n",
        "          u\"\\U0001F300-\\U0001F5FF\"  # symbols & pictographs\n",
        "          u\"\\U0001F680-\\U0001F6FF\"  # transport & map symbols\n",
        "          u\"\\U0001F1E0-\\U0001F1FF\"  # flags (iOS)\n",
        "          u\"\\U00002500-\\U00002BEF\"  # chinese char\n",
        "          u\"\\U00002702-\\U000027B0\"\n",
        "          u\"\\U00002702-\\U000027B0\"\n",
        "          u\"\\U000024C2-\\U0001F251\"\n",
        "          u\"\\U0001f926-\\U0001f937\"\n",
        "          u\"\\U00010000-\\U0010ffff\"\n",
        "          u\"\\u2640-\\u2642\" \n",
        "          u\"\\u2600-\\u2B55\"\n",
        "          u\"\\u200d\"\n",
        "          u\"\\u23cf\"\n",
        "          u\"\\u23e9\"\n",
        "          u\"\\u231a\"\n",
        "          u\"\\ufe0f\"  # dingbats\n",
        "          u\"\\u3030\"\n",
        "                        \"]+\", re.UNICODE)\n",
        "\n",
        "  text = [re.sub(emoji,'',x).strip() for x in text]\n",
        "  return text"
      ],
      "metadata": {
        "id": "mxmLJYkXKyuj"
      },
      "execution_count": null,
      "outputs": []
    },
    {
      "cell_type": "code",
      "execution_count": null,
      "metadata": {
        "colab": {
          "base_uri": "https://localhost:8080/"
        },
        "id": "sL20-hNZznLD",
        "outputId": "8850bdab-97fa-4440-8597-102aa70cd19d"
      },
      "outputs": [
        {
          "output_type": "execute_result",
          "data": {
            "text/plain": [
              "['খুবেই সুন্দৱ ছবি', 'মাগি মনে হয়ে']"
            ]
          },
          "metadata": {},
          "execution_count": 23
        }
      ],
      "source": [
        "trainX[:2]"
      ]
    },
    {
      "cell_type": "code",
      "execution_count": null,
      "metadata": {
        "id": "mvbdoYcDxzjL"
      },
      "outputs": [],
      "source": [
        "def stemmer2(word_list): \n",
        "    stemmed_word=[]\n",
        "    end_char = ['ই', 'ও', 'তো', 'কে', 'তে', 'রা','চ্ছি','চ্ছিল','চ্ছে','চ্ছিস','চ্ছিলেন','চ্ছ','য়েছে','েছ','েছে','েছেন']\n",
        "    \n",
        "    for word in word_list:\n",
        "        br=0 \n",
        "        for stem in end_char: \n",
        "            ch = word.split(stem)\n",
        "            if len(ch)==2:\n",
        "                if len(ch[1])==0: \n",
        "                    stemmed_word.append(ch[0])\n",
        "                    br=1\n",
        "                    break               \n",
        "        if br==0:\n",
        "            stemmed_word.append(word)\n",
        "            \n",
        "    return ' '.join(stemmed_word) "
      ]
    },
    {
      "cell_type": "code",
      "source": [
        "def stemmer(word_list): \n",
        "    stemmed_word=[]\n",
        "    end_char = ['ই', 'ও', 'তো', 'কে', 'তে', 'রা','চ্ছি','চ্ছিল','চ্ছে','চ্ছিস',\n",
        "                'চ্ছিলেন','চ্ছ','য়েছে','েছ', 'েছে','েছেন','ওয়া','েছিলেন',\n",
        "                'লেন','েন', 'বেন','িস', 'ছিস', 'ছিলি', 'ছি', 'ছে', \n",
        "                'লি', 'বি', 'ে', 'টি', 'টির', 'েরটা',\n",
        "                'েরটার', 'টা', 'টার', 'েরগুলো', 'েরগুলোর', 'গুলো', \n",
        "                'গুলোর','দের','ের','ার',] \n",
        "    end_char_replace = {\n",
        "        'রছ':'র',\n",
        "        'রব' :'র', \n",
        "        'েয়ে' : ' া',\n",
        "        ' েয়েছিল' : ' া',\n",
        "        ' েয়েছিলেন':' া',\n",
        "        'ে.েছিলেন' : 'া.',\n",
        "        ' ে.ে' :' া.'\n",
        "    }\n",
        "    for word in word_list:\n",
        "        word = word.strip()\n",
        "        br=0 \n",
        "        for stem in end_char: \n",
        "            ch = word.split(stem.strip())\n",
        "            if len(ch)==2:\n",
        "                if len(ch[1])==0: \n",
        "                    stemmed_word.append(ch[0].strip())\n",
        "                    br=1\n",
        "                    break \n",
        "                 \n",
        "        if br==0: \n",
        "          for item in end_char_replace: \n",
        "            ch = word.split(item.strip())\n",
        "            if len(ch)==2: \n",
        "              if len(ch[1])==0: \n",
        "                word = word.strip()\n",
        "                word = word.replace(item.strip(), end_char_replace[item].strip())\n",
        "                stemmed_word.append(word.strip())\n",
        "                br=1\n",
        "                break            \n",
        "        if br==0:\n",
        "            stemmed_word.append(word.strip())\n",
        "\n",
        "    # word_list = []\n",
        "    # for word in stemmed_word:\n",
        "    #     word = word.strip()\n",
        "    #     br=0 \n",
        "    #     for stem in end_char: \n",
        "    #         ch = word.split(stem.strip())\n",
        "    #         if len(ch)==2:\n",
        "    #             if len(ch[1])==0: \n",
        "    #                 word_list.append(ch[0].strip())\n",
        "    #                 br=1\n",
        "    #                 break \n",
        "                 \n",
        "    #     if br==0: \n",
        "    #       for item in end_char_replace: \n",
        "    #         ch = word.split(item.strip())\n",
        "    #         if len(ch)==2: \n",
        "    #           if len(ch[1])==0: \n",
        "    #             word = word.strip()\n",
        "    #             word = word.replace(item.strip(), end_char_replace[item].strip())\n",
        "    #             word_list.append(word.strip())\n",
        "    #             br=1\n",
        "    #             break            \n",
        "    #     if br==0:\n",
        "    #         word_list.append(word.strip())\n",
        "    \n",
        "    return ' '.join(stemmed_word).replace('  ', ' ')"
      ],
      "metadata": {
        "id": "REVECM766Hap"
      },
      "execution_count": null,
      "outputs": []
    },
    {
      "cell_type": "code",
      "execution_count": null,
      "metadata": {
        "id": "tPOWuaolz1G-"
      },
      "outputs": [],
      "source": [
        "def remove_stopword2(text):  \n",
        "    stopwords = pd.read_csv(\"/content/drive/My Drive/IDP/Dataset/bangla_stopwords.csv\")\n",
        "    stopwords = stopwords.to_numpy()\n",
        "    stopwords = [s for stop in stopwords for s in stop]\n",
        "    text = np.char.split(text, sep= ' ')\n",
        "    text = text.reshape(-1)\n",
        "    index = []\n",
        "    for t in text: \n",
        "        for i in range(len(t)): \n",
        "            if t[i]=='': \n",
        "                index.append(i)\n",
        "    for t in text: \n",
        "        t = np.delete(t, index)\n",
        "        text = t\n",
        "    \n",
        "    for t in text: \n",
        "        for stop in stopwords: \n",
        "            if t == stop and len(t)== len(stop): \n",
        "                text = np.char.replace(text, stop, '')\n",
        "    index = []\n",
        "    for i in range(len(text)): \n",
        "        if text[i]=='':\n",
        "            index.append(i)\n",
        "    \n",
        "    text = np.delete(text, index)\n",
        "        \n",
        "    return text"
      ]
    },
    {
      "cell_type": "code",
      "source": [
        "def remove_stopword(text):\n",
        "  stopwords = pd.read_csv(\"bangla_stopwords.csv\")\n",
        "  stopwords = stopwords['text'].to_numpy()\n",
        "  text = text.split(' ')\n",
        "  new_text = []\n",
        "  for  i in range(len(text)):\n",
        "    if text[i] not in stopwords: \n",
        "      new_text.append(text[i])\n",
        "      \n",
        "  return new_text"
      ],
      "metadata": {
        "id": "MD_rr9sXuXrh"
      },
      "execution_count": null,
      "outputs": []
    },
    {
      "cell_type": "code",
      "execution_count": null,
      "metadata": {
        "id": "Au-QUaht0Cba"
      },
      "outputs": [],
      "source": [
        "def remove_punctuation(text): \n",
        "    punctuation = [\",\", \";\", \"।\", \"?\", \"!\", \":\", \"—\", \"-\", \"’\", \"'\", \"'\",\"“\", \"”\", \"(\", \")\",\"{\", \"}\",\"[\", \"]\", \"√\", \"<\", \">\", \"=\", \".\", \"/\"]\n",
        "    for p in punctuation: \n",
        "        text = text.translate({ord(p):None})\n",
        "    return text"
      ]
    },
    {
      "cell_type": "markdown",
      "metadata": {
        "id": "fBbEYOORBuN0"
      },
      "source": [
        "### Data preprocessing"
      ]
    },
    {
      "cell_type": "code",
      "execution_count": null,
      "metadata": {
        "id": "DwgpoEerzrJg"
      },
      "outputs": [],
      "source": [
        "corpus = list()  \n",
        "for t in trainX:     \n",
        "    processed_text = remove_stopword(t)\n",
        "    processed_text = stemmer(processed_text)    \n",
        "    corpus.append(processed_text) "
      ]
    },
    {
      "cell_type": "code",
      "execution_count": null,
      "metadata": {
        "colab": {
          "base_uri": "https://localhost:8080/"
        },
        "id": "KCU89P3Xz2Rt",
        "outputId": "275146d5-02c6-4e74-c83f-afd549487377"
      },
      "outputs": [
        {
          "output_type": "execute_result",
          "data": {
            "text/plain": [
              "['ভাল', 'লাগলো']"
            ]
          },
          "metadata": {},
          "execution_count": 30
        }
      ],
      "source": [
        "corpus = np.array(corpus)\n",
        "all_words = [d.split() for d in corpus.tolist()]\n",
        "all_words[2]"
      ]
    },
    {
      "cell_type": "code",
      "source": [
        "cc = pd.DataFrame(corpus, columns=['clean_data'])\n",
        "cc.to_csv('clean_data.csv', index=False)"
      ],
      "metadata": {
        "id": "JRZaMK0O098Y"
      },
      "execution_count": null,
      "outputs": []
    },
    {
      "cell_type": "code",
      "source": [
        "all_words[10], trainY[10]"
      ],
      "metadata": {
        "id": "iVy8VDP32dPX"
      },
      "execution_count": null,
      "outputs": []
    },
    {
      "cell_type": "code",
      "source": [
        "## Filter one letter word sentences \n",
        "index = []\n",
        "for i in range(len(all_words)):\n",
        "  if len(all_words[i])==1 and len(all_words[i][0])==1: \n",
        "    index.append(i)\n",
        "\n",
        "all_words = np.delete(np.array(all_words), index).tolist()\n",
        "trainY= np.delete(trainY, index)\n",
        "len(all_words), trainY.shape"
      ],
      "metadata": {
        "colab": {
          "base_uri": "https://localhost:8080/"
        },
        "id": "BdDVI5rTuRst",
        "outputId": "72072b8f-d523-453a-c1a9-2ea8048f5cd4"
      },
      "execution_count": null,
      "outputs": [
        {
          "output_type": "stream",
          "name": "stderr",
          "text": [
            "/usr/local/lib/python3.7/dist-packages/ipykernel_launcher.py:7: VisibleDeprecationWarning: Creating an ndarray from ragged nested sequences (which is a list-or-tuple of lists-or-tuples-or ndarrays with different lengths or shapes) is deprecated. If you meant to do this, you must specify 'dtype=object' when creating the ndarray.\n",
            "  import sys\n"
          ]
        },
        {
          "output_type": "execute_result",
          "data": {
            "text/plain": [
              "(43342, (43342,))"
            ]
          },
          "metadata": {},
          "execution_count": 32
        }
      ]
    },
    {
      "cell_type": "code",
      "source": [
        "updated_words = [[] for x in all_words]\n",
        "index = []\n",
        "for i in range(len(all_words)): \n",
        "   for j in range(len(all_words[i])): \n",
        "      if len(all_words[i][j])>1: \n",
        "        updated_words[i].append(all_words[i][j])\n",
        "len(updated_words)"
      ],
      "metadata": {
        "colab": {
          "base_uri": "https://localhost:8080/"
        },
        "id": "QVUdjMOs6p1h",
        "outputId": "540ee3b6-226c-43e0-bbf4-8ce219eb7f9c"
      },
      "execution_count": null,
      "outputs": [
        {
          "output_type": "execute_result",
          "data": {
            "text/plain": [
              "43342"
            ]
          },
          "metadata": {},
          "execution_count": 33
        }
      ]
    },
    {
      "cell_type": "code",
      "source": [
        "all_words = updated_words"
      ],
      "metadata": {
        "id": "6y4x9aVU7xI9"
      },
      "execution_count": null,
      "outputs": []
    },
    {
      "cell_type": "code",
      "source": [
        "(np.array(all_words).shape), len(trainY)"
      ],
      "metadata": {
        "colab": {
          "base_uri": "https://localhost:8080/"
        },
        "id": "eOzkGd4z1QMT",
        "outputId": "814a2f28-17d6-4319-8460-0b311eede829"
      },
      "execution_count": null,
      "outputs": [
        {
          "output_type": "stream",
          "name": "stderr",
          "text": [
            "/usr/local/lib/python3.7/dist-packages/ipykernel_launcher.py:1: VisibleDeprecationWarning: Creating an ndarray from ragged nested sequences (which is a list-or-tuple of lists-or-tuples-or ndarrays with different lengths or shapes) is deprecated. If you meant to do this, you must specify 'dtype=object' when creating the ndarray.\n",
            "  \"\"\"Entry point for launching an IPython kernel.\n"
          ]
        },
        {
          "output_type": "execute_result",
          "data": {
            "text/plain": [
              "((43342,), 43342)"
            ]
          },
          "metadata": {},
          "execution_count": 35
        }
      ]
    },
    {
      "cell_type": "code",
      "execution_count": null,
      "metadata": {
        "id": "GkG5Pwq5ccxp"
      },
      "outputs": [],
      "source": [
        "DIM = 100 \n",
        "w2v_model = gensim.models.Word2Vec(sentences= all_words,vector_size = DIM, window=10, min_count=1)"
      ]
    },
    {
      "cell_type": "code",
      "execution_count": null,
      "metadata": {
        "colab": {
          "base_uri": "https://localhost:8080/"
        },
        "id": "SW3EFLMxc8hj",
        "outputId": "f6c2d034-9d03-4bac-fdf1-aabc6d586747"
      },
      "outputs": [
        {
          "output_type": "execute_result",
          "data": {
            "text/plain": [
              "[('বড়ো', 0.9975153207778931),\n",
              " ('দিছ', 0.9972477555274963),\n",
              " ('স্টাইল', 0.9972465634346008),\n",
              " ('সেলিব্রি', 0.9966008067131042),\n",
              " ('নাচ', 0.9965663552284241),\n",
              " ('টাইম', 0.9964630603790283),\n",
              " ('আপ', 0.9963855147361755),\n",
              " ('কাল', 0.9963609576225281),\n",
              " ('আন', 0.995980978012085),\n",
              " ('বলো', 0.9959729909896851)]"
            ]
          },
          "metadata": {},
          "execution_count": 37
        }
      ],
      "source": [
        "w2v_model.wv.most_similar('আমার')"
      ]
    },
    {
      "cell_type": "code",
      "execution_count": null,
      "metadata": {
        "colab": {
          "base_uri": "https://localhost:8080/"
        },
        "id": "POzyVCxzdquy",
        "outputId": "1b430e5d-5eac-46d1-fec6-873b27480f7b"
      },
      "outputs": [
        {
          "output_type": "execute_result",
          "data": {
            "text/plain": [
              "['খুবে', 'মাইয়াদের', 'হেডাখোদায়', 'ন্যয', 'গেযানী']"
            ]
          },
          "metadata": {},
          "execution_count": 38
        }
      ],
      "source": [
        "most_used_words = w2v_model.wv.index_to_key[:100]\n",
        "least_used_words = w2v_model.wv.index_to_key[::-1]\n",
        "least_used_words = least_used_words[:100]\n",
        "least_used_words[:5]"
      ]
    },
    {
      "cell_type": "code",
      "source": [
        "updated_words = [[] for x in all_words for t in x]\n",
        "for i in range(len(all_words)): \n",
        "  for j in range(len(all_words[i])): \n",
        "    if all_words[i][j] not in most_used_words and all_words[i][j] not in least_used_words:\n",
        "      updated_words[i].append(all_words[i][j])   \n",
        "\n",
        "updated_words = [ele for ele in updated_words if ele != []]\n",
        "len(updated_words)"
      ],
      "metadata": {
        "id": "knb0GxrlkgeC",
        "colab": {
          "base_uri": "https://localhost:8080/"
        },
        "outputId": "1aee6a8a-1115-4300-d162-fa68bd48b031"
      },
      "execution_count": null,
      "outputs": [
        {
          "output_type": "execute_result",
          "data": {
            "text/plain": [
              "42462"
            ]
          },
          "metadata": {},
          "execution_count": 39
        }
      ]
    },
    {
      "cell_type": "code",
      "execution_count": null,
      "metadata": {
        "colab": {
          "base_uri": "https://localhost:8080/"
        },
        "id": "jxS5xJFO4nTb",
        "outputId": "d47f54c2-1e62-4c37-e749-dc1af6dcb042"
      },
      "outputs": [
        {
          "output_type": "execute_result",
          "data": {
            "text/plain": [
              "[[19812, 10391],\n",
              " [23, 13],\n",
              " [49, 326],\n",
              " [28, 63, 3115, 6, 545, 132, 7524, 10392],\n",
              " [34, 5945]]"
            ]
          },
          "metadata": {},
          "execution_count": 52
        }
      ],
      "source": [
        "tokenizer = Tokenizer()\n",
        "tokenizer.fit_on_texts(all_words)\n",
        "all_words_seq = tokenizer.texts_to_sequences(all_words)\n",
        "all_words_seq[:5]"
      ]
    },
    {
      "cell_type": "code",
      "execution_count": null,
      "metadata": {
        "colab": {
          "base_uri": "https://localhost:8080/"
        },
        "id": "gsl_hG7_40TU",
        "outputId": "7faf57f2-4e2a-4cb4-fbe7-0646c108e976"
      },
      "outputs": [
        {
          "output_type": "execute_result",
          "data": {
            "text/plain": [
              "51680"
            ]
          },
          "metadata": {},
          "execution_count": 53
        }
      ],
      "source": [
        "vocab_size = len(tokenizer.word_index) + 1 \n",
        "vocab_size"
      ]
    },
    {
      "cell_type": "code",
      "execution_count": null,
      "metadata": {
        "colab": {
          "base_uri": "https://localhost:8080/",
          "height": 265
        },
        "id": "7CPIPkrg5EG-",
        "outputId": "dcd392da-4f27-47eb-aff5-bfd8019c3d35"
      },
      "outputs": [
        {
          "output_type": "display_data",
          "data": {
            "text/plain": [
              "<Figure size 432x288 with 1 Axes>"
            ],
            "image/png": "[encoded data removed]"
          },
          "metadata": {
            "needs_background": "light"
          }
        }
      ],
      "source": [
        "plt.hist([len(x) for x in all_words_seq])\n",
        "plt.show()"
      ]
    },
    {
      "cell_type": "code",
      "execution_count": null,
      "metadata": {
        "colab": {
          "base_uri": "https://localhost:8080/"
        },
        "id": "U7rapFwT5F-l",
        "outputId": "b0c41fe6-d01e-491e-c9c7-34cc0e9fc742"
      },
      "outputs": [
        {
          "output_type": "execute_result",
          "data": {
            "text/plain": [
              "197"
            ]
          },
          "metadata": {},
          "execution_count": 55
        }
      ],
      "source": [
        "nos = np.array([len(x) for x in all_words])\n",
        "len(nos[nos>80])"
      ]
    },
    {
      "cell_type": "code",
      "execution_count": null,
      "metadata": {
        "colab": {
          "base_uri": "https://localhost:8080/"
        },
        "id": "t3ErlhWr5Hma",
        "outputId": "33ce2127-672d-4b64-c54d-b2101852aae0"
      },
      "outputs": [
        {
          "output_type": "execute_result",
          "data": {
            "text/plain": [
              "array([[    0,     0,     0, ...,     0, 19812, 10391],\n",
              "       [    0,     0,     0, ...,     0,    23,    13],\n",
              "       [    0,     0,     0, ...,     0,    49,   326],\n",
              "       ...,\n",
              "       [    0,     0,     0, ...,     0,     0,  7436],\n",
              "       [    0,     0,     0, ..., 51675,   990,  2675],\n",
              "       [    0,     0,     0, ...,  7691,   260,   614]], dtype=int32)"
            ]
          },
          "metadata": {},
          "execution_count": 56
        }
      ],
      "source": [
        "sentence_length = 100 \n",
        "embedded_docs = pad_sequences(all_words_seq, maxlen=sentence_length)\n",
        "embedded_docs"
      ]
    },
    {
      "cell_type": "code",
      "execution_count": null,
      "metadata": {
        "id": "FV05Avcr5Jf-"
      },
      "outputs": [],
      "source": [
        "vocab = tokenizer.word_index"
      ]
    },
    {
      "cell_type": "code",
      "execution_count": null,
      "metadata": {
        "id": "LNbDIHqs5OSR"
      },
      "outputs": [],
      "source": [
        "def get_weight_matrix(model): \n",
        "    weight_matrix = np.zeros((vocab_size, DIM))\n",
        "    \n",
        "    for word, i in vocab.items(): \n",
        "        try:\n",
        "            weight_matrix[i] = model.wv[word]\n",
        "        except: \n",
        "            print('word: {}'.format(word))\n",
        "    return weight_matrix"
      ]
    },
    {
      "cell_type": "code",
      "execution_count": null,
      "metadata": {
        "colab": {
          "base_uri": "https://localhost:8080/"
        },
        "id": "PDIoP_ip5QZh",
        "outputId": "9c686b22-c1ed-4cfe-a11d-d9f572838bbe"
      },
      "outputs": [
        {
          "output_type": "stream",
          "name": "stdout",
          "text": [
            "word: äâ\n",
            "word: ṝῡ\n",
            "word: এঁঈҕῷῷ\n",
            "word: ôïø\n",
            "word: গোñমাংস\n"
          ]
        },
        {
          "output_type": "execute_result",
          "data": {
            "text/plain": [
              "(51680, 100)"
            ]
          },
          "metadata": {},
          "execution_count": 59
        }
      ],
      "source": [
        "embedding_vectors = get_weight_matrix(w2v_model)\n",
        "embedding_vectors.shape"
      ]
    },
    {
      "cell_type": "code",
      "source": [
        "X_final = np.array(embedded_docs)\n",
        "y_final = np.array(trainY)"
      ],
      "metadata": {
        "id": "dHS_i8OHOJRs"
      },
      "execution_count": null,
      "outputs": []
    },
    {
      "cell_type": "markdown",
      "source": [
        "### Creating `LSTM` Model"
      ],
      "metadata": {
        "id": "XEJtPsf90wrx"
      }
    },
    {
      "cell_type": "code",
      "source": [
        "model = Sequential()\n",
        "model.add(Embedding(vocab_size, output_dim= DIM, weights=[embedding_vectors], input_length= sentence_length))\n",
        "model.add(BatchNormalization())\n",
        "model.add(LSTM(64, return_sequences=True))\n",
        "model.add(Dropout(0.2))\n",
        "model.add(LSTM(128))\n",
        "model.add(Dropout(0.2))\n",
        "model.add(Dense(512, activation='tanh'))\n",
        "model.add(BatchNormalization())\n",
        "model.add(Dropout(0.2))\n",
        "model.add(Dense(256))\n",
        "model.add(Dense(128))\n",
        "model.add(Dense(64))\n",
        "model.add(Dense(1,activation='sigmoid'))\n",
        "model.compile(optimizer='adam', loss='binary_crossentropy', metrics=['accuracy'])\n",
        "model.summary()"
      ],
      "metadata": {
        "colab": {
          "base_uri": "https://localhost:8080/"
        },
        "id": "8s3Jbiux2Lle",
        "outputId": "cbe8f21b-c38d-405a-e087-989ce3bccd78"
      },
      "execution_count": null,
      "outputs": [
        {
          "output_type": "stream",
          "name": "stdout",
          "text": [
            "WARNING:tensorflow:Layer lstm_43 will not use cuDNN kernels since it doesn't meet the criteria. It will use a generic GPU kernel as fallback when running on GPU.\n",
            "Model: \"sequential_21\"\n",
            "_________________________________________________________________\n",
            " Layer (type)                Output Shape              Param #   \n",
            "=================================================================\n",
            " embedding_21 (Embedding)    (None, 100, 100)          5168000   \n",
            "                                                                 \n",
            " batch_normalization_13 (Bat  (None, 100, 100)         400       \n",
            " chNormalization)                                                \n",
            "                                                                 \n",
            " lstm_42 (LSTM)              (None, 100, 64)           42240     \n",
            "                                                                 \n",
            " dropout_16 (Dropout)        (None, 100, 64)           0         \n",
            "                                                                 \n",
            " lstm_43 (LSTM)              (None, 128)               98816     \n",
            "                                                                 \n",
            " dropout_17 (Dropout)        (None, 128)               0         \n",
            "                                                                 \n",
            " dense_77 (Dense)            (None, 512)               66048     \n",
            "                                                                 \n",
            " batch_normalization_14 (Bat  (None, 512)              2048      \n",
            " chNormalization)                                                \n",
            "                                                                 \n",
            " dense_78 (Dense)            (None, 256)               131328    \n",
            "                                                                 \n",
            " dense_79 (Dense)            (None, 128)               32896     \n",
            "                                                                 \n",
            " dense_80 (Dense)            (None, 64)                8256      \n",
            "                                                                 \n",
            " dense_81 (Dense)            (None, 1)                 65        \n",
            "                                                                 \n",
            "=================================================================\n",
            "Total params: 5,550,097\n",
            "Trainable params: 5,548,873\n",
            "Non-trainable params: 1,224\n",
            "_________________________________________________________________\n"
          ]
        }
      ]
    },
    {
      "cell_type": "code",
      "source": [
        "history1 = model.fit(X_final, y_final, validation_split=0.2, epochs=3, batch_size=64)"
      ],
      "metadata": {
        "colab": {
          "base_uri": "https://localhost:8080/"
        },
        "id": "gQ3CDPTI2XY0",
        "outputId": "f143e580-206a-4f25-8bdd-81595abc35a7"
      },
      "execution_count": null,
      "outputs": [
        {
          "output_type": "stream",
          "name": "stdout",
          "text": [
            "Epoch 1/3\n",
            "542/542 [==============================] - 161s 298ms/step - loss: 0.0910 - accuracy: 0.9674 - val_loss: 0.6740 - val_accuracy: 0.8537\n",
            "Epoch 2/3\n",
            " 11/542 [..............................] - ETA: 2:30 - loss: 0.0475 - accuracy: 0.9844"
          ]
        }
      ]
    },
    {
      "cell_type": "code",
      "execution_count": null,
      "metadata": {
        "colab": {
          "base_uri": "https://localhost:8080/"
        },
        "id": "lqGLK50f5SJG",
        "outputId": "ca22bf03-70d9-4ac6-a891-9f505eba13b1"
      },
      "outputs": [
        {
          "output_type": "stream",
          "name": "stdout",
          "text": [
            "Model: \"sequential\"\n",
            "_________________________________________________________________\n",
            " Layer (type)                Output Shape              Param #   \n",
            "=================================================================\n",
            " embedding (Embedding)       (None, 100, 100)          5929300   \n",
            "                                                                 \n",
            " dropout (Dropout)           (None, 100, 100)          0         \n",
            "                                                                 \n",
            " lstm (LSTM)                 (None, 100, 64)           42240     \n",
            "                                                                 \n",
            " lstm_1 (LSTM)               (None, 128)               98816     \n",
            "                                                                 \n",
            " dropout_1 (Dropout)         (None, 128)               0         \n",
            "                                                                 \n",
            " dense (Dense)               (None, 512)               66048     \n",
            "                                                                 \n",
            " dense_1 (Dense)             (None, 256)               131328    \n",
            "                                                                 \n",
            " dense_2 (Dense)             (None, 1)                 257       \n",
            "                                                                 \n",
            "=================================================================\n",
            "Total params: 6,267,989\n",
            "Trainable params: 338,689\n",
            "Non-trainable params: 5,929,300\n",
            "_________________________________________________________________\n"
          ]
        }
      ],
      "source": [
        "model = Sequential()\n",
        "model.add(Embedding(vocab_size, output_dim= DIM, weights=[embedding_vectors], input_length= sentence_length, trainable=False))\n",
        "model.add(Dropout(0.2))\n",
        "model.add(LSTM(64, return_sequences=True))\n",
        "model.add(LSTM(128))\n",
        "model.add(Dropout(0.2))\n",
        "model.add(Dense(512))\n",
        "model.add(Dense(256))\n",
        "model.add(Dense(1,activation='sigmoid'))\n",
        "model.compile(optimizer='adam', loss='binary_crossentropy', metrics=['accuracy'])\n",
        "model.summary()"
      ]
    },
    {
      "cell_type": "code",
      "execution_count": null,
      "metadata": {
        "id": "Liee0MSz_nW1"
      },
      "outputs": [],
      "source": [
        "X_final = np.array(embedded_docs)\n",
        "y_final = np.array(trainY)"
      ]
    },
    {
      "cell_type": "code",
      "execution_count": null,
      "metadata": {
        "id": "Yd0Q6hQ-j1TK"
      },
      "outputs": [],
      "source": [
        "def plot_acc(acc, val_acc):\n",
        "  fig, ax = plt.subplots() \n",
        "  ax.plot(val_acc, '-ro', label='Val_Acc')\n",
        "  ax.plot(acc, '-bo', label='Acc')\n",
        "  ax.legend()\n",
        "  ax.set_title('ACC vs Val_ACC')\n",
        "  plt.show()\n",
        "\n",
        "def plot_loss(loss, val_loss): \n",
        "  fig, ax = plt.subplots() \n",
        "  ax.plot(val_loss, '-ro', label='Val_Loss')\n",
        "  ax.plot(loss, '-bo', label='Loss')\n",
        "  ax.legend()\n",
        "  ax.set_title('LOSS vs Val_LOSS')\n",
        "  plt.show()"
      ]
    },
    {
      "cell_type": "code",
      "execution_count": null,
      "metadata": {
        "colab": {
          "base_uri": "https://localhost:8080/"
        },
        "id": "iC_XpnEq_q57",
        "outputId": "c23123ef-997b-4699-d629-5cde26e7d6b8"
      },
      "outputs": [
        {
          "output_type": "stream",
          "name": "stdout",
          "text": [
            "Epoch 1/10\n",
            "238/238 [==============================] - 136s 554ms/step - loss: 0.4730 - accuracy: 0.7882 - val_loss: 0.4311 - val_accuracy: 0.8061\n",
            "Epoch 2/10\n",
            "238/238 [==============================] - 130s 546ms/step - loss: 0.4293 - accuracy: 0.8103 - val_loss: 0.4131 - val_accuracy: 0.8179\n",
            "Epoch 3/10\n",
            "238/238 [==============================] - 130s 548ms/step - loss: 0.4140 - accuracy: 0.8175 - val_loss: 0.4223 - val_accuracy: 0.8112\n",
            "Epoch 4/10\n",
            "238/238 [==============================] - 130s 547ms/step - loss: 0.4103 - accuracy: 0.8182 - val_loss: 0.4046 - val_accuracy: 0.8231\n",
            "Epoch 5/10\n",
            "238/238 [==============================] - 130s 545ms/step - loss: 0.4048 - accuracy: 0.8223 - val_loss: 0.4003 - val_accuracy: 0.8252\n",
            "Epoch 6/10\n",
            "238/238 [==============================] - 130s 548ms/step - loss: 0.4020 - accuracy: 0.8231 - val_loss: 0.3944 - val_accuracy: 0.8263\n",
            "Epoch 7/10\n",
            "238/238 [==============================] - 130s 546ms/step - loss: 0.3994 - accuracy: 0.8229 - val_loss: 0.3853 - val_accuracy: 0.8290\n",
            "Epoch 8/10\n",
            "238/238 [==============================] - 130s 547ms/step - loss: 0.3967 - accuracy: 0.8239 - val_loss: 0.3882 - val_accuracy: 0.8271\n",
            "Epoch 9/10\n",
            "238/238 [==============================] - 131s 551ms/step - loss: 0.3931 - accuracy: 0.8252 - val_loss: 0.3847 - val_accuracy: 0.8284\n",
            "Epoch 10/10\n",
            "238/238 [==============================] - 130s 548ms/step - loss: 0.3922 - accuracy: 0.8262 - val_loss: 0.3883 - val_accuracy: 0.8291\n"
          ]
        },
        {
          "output_type": "execute_result",
          "data": {
            "text/plain": [
              "<keras.callbacks.History at 0x7f0a65d20510>"
            ]
          },
          "metadata": {},
          "execution_count": 48
        }
      ],
      "source": [
        "history1 = model.fit(X_final, y_final, validation_split=0.3, epochs=10, batch_size=128)\n",
        "history1"
      ]
    },
    {
      "cell_type": "code",
      "execution_count": null,
      "metadata": {
        "colab": {
          "base_uri": "https://localhost:8080/"
        },
        "id": "mG4NnDYk_umn",
        "outputId": "081d81b3-9a86-4b16-a11d-af4fe0011ab3"
      },
      "outputs": [
        {
          "output_type": "stream",
          "name": "stdout",
          "text": [
            "Epoch 1/15\n",
            "238/238 [==============================] - 154s 646ms/step - loss: 0.3912 - accuracy: 0.8259 - val_loss: 0.3858 - val_accuracy: 0.8261\n",
            "Epoch 2/15\n",
            "238/238 [==============================] - 155s 650ms/step - loss: 0.3899 - accuracy: 0.8258 - val_loss: 0.3837 - val_accuracy: 0.8290\n",
            "Epoch 3/15\n",
            "238/238 [==============================] - 153s 642ms/step - loss: 0.3876 - accuracy: 0.8259 - val_loss: 0.3836 - val_accuracy: 0.8304\n",
            "Epoch 4/15\n",
            "238/238 [==============================] - 164s 690ms/step - loss: 0.3862 - accuracy: 0.8287 - val_loss: 0.3855 - val_accuracy: 0.8273\n",
            "Epoch 5/15\n",
            "238/238 [==============================] - 160s 670ms/step - loss: 0.3849 - accuracy: 0.8282 - val_loss: 0.3794 - val_accuracy: 0.8288\n",
            "Epoch 6/15\n",
            "238/238 [==============================] - 153s 644ms/step - loss: 0.3815 - accuracy: 0.8301 - val_loss: 0.3849 - val_accuracy: 0.8293\n",
            "Epoch 7/15\n",
            "238/238 [==============================] - 151s 634ms/step - loss: 0.3834 - accuracy: 0.8290 - val_loss: 0.3829 - val_accuracy: 0.8314\n",
            "Epoch 8/15\n",
            "238/238 [==============================] - 151s 634ms/step - loss: 0.3819 - accuracy: 0.8293 - val_loss: 0.3850 - val_accuracy: 0.8274\n",
            "Epoch 9/15\n",
            "238/238 [==============================] - 151s 634ms/step - loss: 0.3809 - accuracy: 0.8299 - val_loss: 0.3793 - val_accuracy: 0.8323\n",
            "Epoch 10/15\n",
            "238/238 [==============================] - 152s 637ms/step - loss: 0.3788 - accuracy: 0.8285 - val_loss: 0.3796 - val_accuracy: 0.8315\n",
            "Epoch 11/15\n",
            "238/238 [==============================] - 154s 649ms/step - loss: 0.3758 - accuracy: 0.8320 - val_loss: 0.3838 - val_accuracy: 0.8296\n",
            "Epoch 12/15\n",
            "238/238 [==============================] - 156s 654ms/step - loss: 0.3741 - accuracy: 0.8324 - val_loss: 0.3777 - val_accuracy: 0.8323\n",
            "Epoch 13/15\n",
            "238/238 [==============================] - 150s 632ms/step - loss: 0.3725 - accuracy: 0.8332 - val_loss: 0.3842 - val_accuracy: 0.8338\n",
            "Epoch 14/15\n",
            "238/238 [==============================] - 154s 645ms/step - loss: 0.3767 - accuracy: 0.8326 - val_loss: 0.3815 - val_accuracy: 0.8295\n",
            "Epoch 15/15\n",
            "238/238 [==============================] - 151s 634ms/step - loss: 0.3699 - accuracy: 0.8345 - val_loss: 0.3874 - val_accuracy: 0.8305\n"
          ]
        }
      ],
      "source": [
        "history1_model1 = model.fit(X_final, y_final, validation_split=0.3, epochs=15, batch_size=128)"
      ]
    },
    {
      "cell_type": "code",
      "execution_count": null,
      "metadata": {
        "id": "SZ-l_FdIVRT8"
      },
      "outputs": [],
      "source": [
        "result1_val_acc = history1.history['val_accuracy'] + history1_model1.history['val_accuracy'] \n",
        "result1_acc = history1.history['accuracy'] + history1_model1.history['accuracy']\n",
        "result1_loss =history1.history['loss'] + history1_model1.history['loss'] \n",
        "result1_val_loss = history1.history['val_loss'] + history1_model1.history['val_loss'] \n"
      ]
    },
    {
      "cell_type": "code",
      "execution_count": null,
      "metadata": {
        "colab": {
          "base_uri": "https://localhost:8080/",
          "height": 281
        },
        "id": "cbD_kiWakb4S",
        "outputId": "46bee91b-f1ed-4ab3-a57c-26c1af208192"
      },
      "outputs": [
        {
          "output_type": "display_data",
          "data": {
            "text/plain": [
              "<Figure size 432x288 with 1 Axes>"
            ],
            "image/png": "[encoded data removed]"
          },
          "metadata": {
            "needs_background": "light"
          }
        }
      ],
      "source": [
        "plot_acc(result1_acc, result1_val_acc)"
      ]
    },
    {
      "cell_type": "code",
      "execution_count": null,
      "metadata": {
        "colab": {
          "base_uri": "https://localhost:8080/",
          "height": 281
        },
        "id": "XC4eShoVkjJV",
        "outputId": "f90099ff-638e-49fe-b3d7-4393db5508ad"
      },
      "outputs": [
        {
          "output_type": "display_data",
          "data": {
            "text/plain": [
              "<Figure size 432x288 with 1 Axes>"
            ],
            "image/png": "[encoded data removed]"
          },
          "metadata": {
            "needs_background": "light"
          }
        }
      ],
      "source": [
        "plot_loss(result1_loss, result1_val_loss)"
      ]
    },
    {
      "cell_type": "markdown",
      "source": [
        "#### **Saving a model**"
      ],
      "metadata": {
        "id": "6lMWGy2tW_jT"
      }
    },
    {
      "cell_type": "code",
      "source": [
        "ls checkpoints"
      ],
      "metadata": {
        "colab": {
          "base_uri": "https://localhost:8080/"
        },
        "id": "MVx_hh565DLe",
        "outputId": "5f2b2bb1-608e-4e90-e031-354282df501b"
      },
      "execution_count": null,
      "outputs": [
        {
          "output_type": "stream",
          "name": "stdout",
          "text": [
            "checkpoint                         my_checkpoint.h5\n",
            "my_checkpoint.data-00000-of-00001  my_checkpoint.index\n"
          ]
        }
      ]
    },
    {
      "cell_type": "code",
      "source": [
        "model.save_weights('./checkpoints/my_checkpoint.h5')"
      ],
      "metadata": {
        "id": "BqA-S0HP40GZ"
      },
      "execution_count": null,
      "outputs": []
    },
    {
      "cell_type": "code",
      "source": [
        "model.save('model.h5')"
      ],
      "metadata": {
        "id": "ZowbCbihWlU_"
      },
      "execution_count": null,
      "outputs": []
    },
    {
      "cell_type": "markdown",
      "source": [
        "### Creating `Bidirectional LSTM` Model"
      ],
      "metadata": {
        "id": "5aS30lqO079h"
      }
    },
    {
      "cell_type": "code",
      "execution_count": null,
      "metadata": {
        "id": "mN6M9MQ0W9BG"
      },
      "outputs": [],
      "source": [
        "model1 = Sequential()\n",
        "model1.add(Embedding(vocab_size, output_dim= DIM, weights=[embedding_vectors], input_length= sentence_length, trainable=False))\n",
        "model1.add(Dropout(0.1))\n",
        "model1.add(Bidirectional(LSTM(64, return_sequences = True)))\n",
        "model1.add(Bidirectional(LSTM(128)))\n",
        "model1.add(Dropout(0.1))\n",
        "model1.add(Dense(512))\n",
        "model1.add(Dense(128))\n",
        "model1.add(Dense(1,activation='sigmoid'))\n",
        "model1.compile(optimizer='adam', loss='binary_crossentropy', metrics=['accuracy'])\n",
        "model1.summary()\n"
      ]
    },
    {
      "cell_type": "code",
      "execution_count": null,
      "metadata": {
        "colab": {
          "base_uri": "https://localhost:8080/"
        },
        "id": "rOcFeZ5Mjzt3",
        "outputId": "34aba525-0d44-4b5a-f8e3-51f12809b26e"
      },
      "outputs": [
        {
          "output_type": "stream",
          "name": "stdout",
          "text": [
            "Epoch 1/30\n",
            "238/238 [==============================] - 46s 149ms/step - loss: 0.4580 - accuracy: 0.7967 - val_loss: 0.4207 - val_accuracy: 0.8152\n",
            "Epoch 2/30\n",
            "238/238 [==============================] - 34s 141ms/step - loss: 0.4223 - accuracy: 0.8156 - val_loss: 0.4207 - val_accuracy: 0.8169\n",
            "Epoch 3/30\n",
            "238/238 [==============================] - 34s 141ms/step - loss: 0.4072 - accuracy: 0.8204 - val_loss: 0.3956 - val_accuracy: 0.8236\n",
            "Epoch 4/30\n",
            "238/238 [==============================] - 34s 142ms/step - loss: 0.4045 - accuracy: 0.8236 - val_loss: 0.3918 - val_accuracy: 0.8271\n",
            "Epoch 5/30\n",
            "238/238 [==============================] - 33s 141ms/step - loss: 0.3979 - accuracy: 0.8247 - val_loss: 0.3887 - val_accuracy: 0.8298\n",
            "Epoch 6/30\n",
            "238/238 [==============================] - 34s 141ms/step - loss: 0.3931 - accuracy: 0.8266 - val_loss: 0.3931 - val_accuracy: 0.8228\n",
            "Epoch 7/30\n",
            "238/238 [==============================] - 34s 142ms/step - loss: 0.3937 - accuracy: 0.8258 - val_loss: 0.3862 - val_accuracy: 0.8280\n",
            "Epoch 8/30\n",
            "238/238 [==============================] - 34s 141ms/step - loss: 0.3889 - accuracy: 0.8274 - val_loss: 0.3858 - val_accuracy: 0.8296\n",
            "Epoch 9/30\n",
            "238/238 [==============================] - 34s 141ms/step - loss: 0.3879 - accuracy: 0.8286 - val_loss: 0.3869 - val_accuracy: 0.8257\n",
            "Epoch 10/30\n",
            "238/238 [==============================] - 33s 141ms/step - loss: 0.3859 - accuracy: 0.8285 - val_loss: 0.3924 - val_accuracy: 0.8227\n",
            "Epoch 11/30\n",
            "238/238 [==============================] - 33s 140ms/step - loss: 0.3834 - accuracy: 0.8304 - val_loss: 0.3797 - val_accuracy: 0.8318\n",
            "Epoch 12/30\n",
            "238/238 [==============================] - 34s 141ms/step - loss: 0.3822 - accuracy: 0.8312 - val_loss: 0.3779 - val_accuracy: 0.8313\n",
            "Epoch 13/30\n",
            "238/238 [==============================] - 33s 141ms/step - loss: 0.3799 - accuracy: 0.8324 - val_loss: 0.3805 - val_accuracy: 0.8331\n",
            "Epoch 14/30\n",
            "238/238 [==============================] - 33s 140ms/step - loss: 0.3799 - accuracy: 0.8317 - val_loss: 0.3843 - val_accuracy: 0.8295\n",
            "Epoch 15/30\n",
            "238/238 [==============================] - 33s 140ms/step - loss: 0.3794 - accuracy: 0.8338 - val_loss: 0.3968 - val_accuracy: 0.8322\n",
            "Epoch 16/30\n",
            "238/238 [==============================] - 33s 141ms/step - loss: 0.3779 - accuracy: 0.8339 - val_loss: 0.3866 - val_accuracy: 0.8332\n",
            "Epoch 17/30\n",
            "238/238 [==============================] - 33s 140ms/step - loss: 0.3790 - accuracy: 0.8326 - val_loss: 0.3776 - val_accuracy: 0.8355\n",
            "Epoch 18/30\n",
            "238/238 [==============================] - 33s 140ms/step - loss: 0.3743 - accuracy: 0.8351 - val_loss: 0.3795 - val_accuracy: 0.8325\n",
            "Epoch 19/30\n",
            "199/238 [========================>.....] - ETA: 4s - loss: 0.3744 - accuracy: 0.8355"
          ]
        }
      ],
      "source": [
        "history2= model1.fit(X_final, y_final, validation_split=0.3, epochs=30, batch_size=128)\n",
        "history2"
      ]
    },
    {
      "cell_type": "code",
      "source": [
        "model1.save('model1.h5')"
      ],
      "metadata": {
        "id": "V0Kt_ynVkSNk"
      },
      "execution_count": null,
      "outputs": []
    },
    {
      "cell_type": "code",
      "execution_count": null,
      "metadata": {
        "colab": {
          "base_uri": "https://localhost:8080/"
        },
        "id": "Kn6rlEdCY03f",
        "outputId": "f529c3dd-e2fc-44d1-d9fc-8cd7e503c7cb"
      },
      "outputs": [
        {
          "output_type": "stream",
          "name": "stdout",
          "text": [
            "Epoch 1/20\n",
            "363/363 [==============================] - 10s 26ms/step - loss: 0.4531 - accuracy: 0.7908 - val_loss: 0.4565 - val_accuracy: 0.7863\n",
            "Epoch 2/20\n",
            "363/363 [==============================] - 8s 23ms/step - loss: 0.4443 - accuracy: 0.7933 - val_loss: 0.4341 - val_accuracy: 0.7981\n",
            "Epoch 3/20\n",
            "363/363 [==============================] - 8s 23ms/step - loss: 0.4397 - accuracy: 0.7948 - val_loss: 0.4379 - val_accuracy: 0.7980\n",
            "Epoch 4/20\n",
            "363/363 [==============================] - 8s 23ms/step - loss: 0.4353 - accuracy: 0.7983 - val_loss: 0.4274 - val_accuracy: 0.8014\n",
            "Epoch 5/20\n",
            "363/363 [==============================] - 8s 22ms/step - loss: 0.4301 - accuracy: 0.7995 - val_loss: 0.4305 - val_accuracy: 0.7993\n",
            "Epoch 6/20\n",
            "363/363 [==============================] - 8s 22ms/step - loss: 0.4270 - accuracy: 0.8000 - val_loss: 0.4229 - val_accuracy: 0.8027\n",
            "Epoch 7/20\n",
            "363/363 [==============================] - 8s 23ms/step - loss: 0.4252 - accuracy: 0.8010 - val_loss: 0.4243 - val_accuracy: 0.8017\n",
            "Epoch 8/20\n",
            "363/363 [==============================] - 8s 22ms/step - loss: 0.4225 - accuracy: 0.8030 - val_loss: 0.4258 - val_accuracy: 0.8013\n",
            "Epoch 9/20\n",
            "363/363 [==============================] - 8s 22ms/step - loss: 0.4188 - accuracy: 0.8042 - val_loss: 0.4350 - val_accuracy: 0.7936\n",
            "Epoch 10/20\n",
            "363/363 [==============================] - 8s 22ms/step - loss: 0.4138 - accuracy: 0.8073 - val_loss: 0.4237 - val_accuracy: 0.8016\n",
            "Epoch 11/20\n",
            "363/363 [==============================] - 8s 23ms/step - loss: 0.4127 - accuracy: 0.8072 - val_loss: 0.4229 - val_accuracy: 0.8057\n",
            "Epoch 12/20\n",
            "363/363 [==============================] - 8s 23ms/step - loss: 0.4089 - accuracy: 0.8083 - val_loss: 0.4260 - val_accuracy: 0.8038\n",
            "Epoch 13/20\n",
            "363/363 [==============================] - 8s 22ms/step - loss: 0.4068 - accuracy: 0.8123 - val_loss: 0.4231 - val_accuracy: 0.8010\n",
            "Epoch 14/20\n",
            "363/363 [==============================] - 8s 23ms/step - loss: 0.4055 - accuracy: 0.8113 - val_loss: 0.4184 - val_accuracy: 0.8050\n",
            "Epoch 15/20\n",
            "363/363 [==============================] - 8s 23ms/step - loss: 0.4021 - accuracy: 0.8136 - val_loss: 0.4235 - val_accuracy: 0.8046\n",
            "Epoch 16/20\n",
            "363/363 [==============================] - 8s 23ms/step - loss: 0.3990 - accuracy: 0.8156 - val_loss: 0.4378 - val_accuracy: 0.7877\n",
            "Epoch 17/20\n",
            "363/363 [==============================] - 8s 23ms/step - loss: 0.3972 - accuracy: 0.8168 - val_loss: 0.4223 - val_accuracy: 0.8033\n",
            "Epoch 18/20\n",
            "363/363 [==============================] - 8s 23ms/step - loss: 0.3932 - accuracy: 0.8186 - val_loss: 0.4238 - val_accuracy: 0.8009\n",
            "Epoch 19/20\n",
            "363/363 [==============================] - 8s 22ms/step - loss: 0.3892 - accuracy: 0.8192 - val_loss: 0.4271 - val_accuracy: 0.8025\n",
            "Epoch 20/20\n",
            "363/363 [==============================] - 8s 23ms/step - loss: 0.3866 - accuracy: 0.8220 - val_loss: 0.4284 - val_accuracy: 0.7996\n"
          ]
        }
      ],
      "source": [
        "history2_model2 = model1.fit(X_final, y_final, validation_split=0.3, epochs=20, batch_size=64)"
      ]
    },
    {
      "cell_type": "code",
      "source": [
        "from google.colab import files\n",
        "files.download('model4.h5')"
      ],
      "metadata": {
        "colab": {
          "base_uri": "https://localhost:8080/",
          "height": 17
        },
        "id": "DfYGT9yG8dRJ",
        "outputId": "ddac4c50-488a-4d41-a23d-c16649589d11"
      },
      "execution_count": null,
      "outputs": [
        {
          "output_type": "display_data",
          "data": {
            "text/plain": [
              "<IPython.core.display.Javascript object>"
            ],
            "application/javascript": [
              "\n",
              "    async function download(id, filename, size) {\n",
              "      if (!google.colab.kernel.accessAllowed) {\n",
              "        return;\n",
              "      }\n",
              "      const div = document.createElement('div');\n",
              "      const label = document.createElement('label');\n",
              "      label.textContent = `Downloading \"${filename}\": `;\n",
              "      div.appendChild(label);\n",
              "      const progress = document.createElement('progress');\n",
              "      progress.max = size;\n",
              "      div.appendChild(progress);\n",
              "      document.body.appendChild(div);\n",
              "\n",
              "      const buffers = [];\n",
              "      let downloaded = 0;\n",
              "\n",
              "      const channel = await google.colab.kernel.comms.open(id);\n",
              "      // Send a message to notify the kernel that we're ready.\n",
              "      channel.send({})\n",
              "\n",
              "      for await (const message of channel.messages) {\n",
              "        // Send a message to notify the kernel that we're ready.\n",
              "        channel.send({})\n",
              "        if (message.buffers) {\n",
              "          for (const buffer of message.buffers) {\n",
              "            buffers.push(buffer);\n",
              "            downloaded += buffer.byteLength;\n",
              "            progress.value = downloaded;\n",
              "          }\n",
              "        }\n",
              "      }\n",
              "      const blob = new Blob(buffers, {type: 'application/binary'});\n",
              "      const a = document.createElement('a');\n",
              "      a.href = window.URL.createObjectURL(blob);\n",
              "      a.download = filename;\n",
              "      div.appendChild(a);\n",
              "      a.click();\n",
              "      div.remove();\n",
              "    }\n",
              "  "
            ]
          },
          "metadata": {}
        },
        {
          "output_type": "display_data",
          "data": {
            "text/plain": [
              "<IPython.core.display.Javascript object>"
            ],
            "application/javascript": [
              "download(\"download_ee65b6e9-6f3c-4e7e-9480-aff0da944284\", \"model4.h5\", 30614584)"
            ]
          },
          "metadata": {}
        }
      ]
    },
    {
      "cell_type": "code",
      "source": [
        "model4.evaluate(X_test, y_test)"
      ],
      "metadata": {
        "colab": {
          "base_uri": "https://localhost:8080/"
        },
        "id": "aeuNnu2ojLPY",
        "outputId": "4ac49e5e-027d-47f7-e73b-0121dd965ac4"
      },
      "execution_count": null,
      "outputs": [
        {
          "output_type": "stream",
          "name": "stdout",
          "text": [
            "271/271 [==============================] - 11s 39ms/step - loss: 0.3498 - accuracy: 0.8452\n"
          ]
        },
        {
          "output_type": "execute_result",
          "data": {
            "text/plain": [
              "[0.3497617840766907, 0.8452312350273132]"
            ]
          },
          "metadata": {},
          "execution_count": 161
        }
      ]
    },
    {
      "cell_type": "code",
      "source": [
        "model4.weights[0]"
      ],
      "metadata": {
        "colab": {
          "base_uri": "https://localhost:8080/"
        },
        "id": "CjkMFE7QjCgo",
        "outputId": "f2e79678-62db-42f4-81b4-10a40678f6e5"
      },
      "execution_count": null,
      "outputs": [
        {
          "output_type": "execute_result",
          "data": {
            "text/plain": [
              "<tf.Variable 'embedding_3/embeddings:0' shape=(59293, 100) dtype=float32, numpy=\n",
              "array([[ 0.0000000e+00,  0.0000000e+00,  0.0000000e+00, ...,\n",
              "         0.0000000e+00,  0.0000000e+00,  0.0000000e+00],\n",
              "       [-9.8586702e-01,  1.4085649e+00,  7.0996180e-02, ...,\n",
              "        -1.6380746e+00,  6.5753096e-01,  5.7048678e-01],\n",
              "       [-1.0634031e+00,  1.6918726e+00,  4.8643455e-01, ...,\n",
              "        -1.8453096e+00,  6.5694803e-01,  9.8806095e-01],\n",
              "       ...,\n",
              "       [-6.2414067e-04,  1.6955761e-02, -4.5120143e-03, ...,\n",
              "        -5.0818636e-03,  1.2397649e-02, -6.3497499e-03],\n",
              "       [-9.4274124e-03,  1.6535176e-02,  4.6778340e-03, ...,\n",
              "        -1.0450720e-03,  2.9619767e-03, -5.9068864e-03],\n",
              "       [-1.4193320e-02,  1.2483997e-02,  1.4082339e-04, ...,\n",
              "         2.9466895e-03,  9.0594627e-03,  5.5697495e-03]], dtype=float32)>"
            ]
          },
          "metadata": {},
          "execution_count": 160
        }
      ]
    },
    {
      "cell_type": "code",
      "source": [
        "from google.colab import drive\n",
        "drive.mount('/content/drive')"
      ],
      "metadata": {
        "colab": {
          "base_uri": "https://localhost:8080/"
        },
        "id": "wo9pmgiTA0Yc",
        "outputId": "9e54d68d-3e56-453c-ccab-f262a49b27ca"
      },
      "execution_count": null,
      "outputs": [
        {
          "output_type": "stream",
          "name": "stdout",
          "text": [
            "Drive already mounted at /content/drive; to attempt to forcibly remount, call drive.mount(\"/content/drive\", force_remount=True).\n"
          ]
        }
      ]
    },
    {
      "cell_type": "code",
      "source": [
        "### Saving model1 \n",
        "model1.save('model2.h5')\n",
        "model1.save_weights('./checkpoints/model2.h5')"
      ],
      "metadata": {
        "id": "ZVuV3a5f5eOM"
      },
      "execution_count": null,
      "outputs": []
    },
    {
      "cell_type": "code",
      "execution_count": null,
      "metadata": {
        "id": "ZTqo83UTnMgj"
      },
      "outputs": [],
      "source": [
        "result2_val_acc = history2.history['val_accuracy'] + history2_model2.history['val_accuracy'] +history2_model2_1.history['val_accuracy']  \n",
        "result2_acc = history2.history['accuracy'] + history2_model2.history['accuracy'] + history2_model2_1.history['accuracy']  \n",
        "result2_loss =history2.history['loss'] + history2_model2.history['loss'] + history2_model2_1.history['loss']  \n",
        "result2_val_loss = history2.history['val_loss'] + history2_model2.history['val_loss'] + history2_model2_1.history['val_loss']  "
      ]
    },
    {
      "cell_type": "code",
      "execution_count": null,
      "metadata": {
        "colab": {
          "base_uri": "https://localhost:8080/",
          "height": 281
        },
        "id": "fkelqvgYon1E",
        "outputId": "bf991be4-b770-4cc1-d888-6c6ea763d5aa"
      },
      "outputs": [
        {
          "output_type": "display_data",
          "data": {
            "text/plain": [
              "<Figure size 432x288 with 1 Axes>"
            ],
            "image/png": "[encoded data removed]"
          },
          "metadata": {
            "needs_background": "light"
          }
        }
      ],
      "source": [
        "plot_acc(result2_acc, result2_val_acc)"
      ]
    },
    {
      "cell_type": "code",
      "execution_count": null,
      "metadata": {
        "colab": {
          "base_uri": "https://localhost:8080/",
          "height": 281
        },
        "id": "KyxkeRtuosdK",
        "outputId": "89864eb9-b267-4152-d09f-c9edadb245a1"
      },
      "outputs": [
        {
          "output_type": "display_data",
          "data": {
            "text/plain": [
              "<Figure size 432x288 with 1 Axes>"
            ],
            "image/png": "[encoded data removed]"
          },
          "metadata": {
            "needs_background": "light"
          }
        }
      ],
      "source": [
        "plot_loss(result2_loss, result2_val_loss)"
      ]
    },
    {
      "cell_type": "markdown",
      "source": [
        "### Creating `GRU` Model"
      ],
      "metadata": {
        "id": "tlxJR-vL1J9b"
      }
    },
    {
      "cell_type": "code",
      "execution_count": null,
      "metadata": {
        "colab": {
          "base_uri": "https://localhost:8080/"
        },
        "id": "abM3YNNeo2yz",
        "outputId": "4e32ddbb-a2a6-48cf-b2dc-b486c5b710d0"
      },
      "outputs": [
        {
          "output_type": "stream",
          "name": "stdout",
          "text": [
            "Model: \"sequential_1\"\n",
            "_________________________________________________________________\n",
            " Layer (type)                Output Shape              Param #   \n",
            "=================================================================\n",
            " embedding_1 (Embedding)     (None, 100, 100)          5174200   \n",
            "                                                                 \n",
            " dropout_2 (Dropout)         (None, 100, 100)          0         \n",
            "                                                                 \n",
            " gru_2 (GRU)                 (None, 100, 64)           31872     \n",
            "                                                                 \n",
            " gru_3 (GRU)                 (None, 128)               74496     \n",
            "                                                                 \n",
            " dropout_3 (Dropout)         (None, 128)               0         \n",
            "                                                                 \n",
            " dense_5 (Dense)             (None, 512)               66048     \n",
            "                                                                 \n",
            " dense_6 (Dense)             (None, 256)               131328    \n",
            "                                                                 \n",
            " dense_7 (Dense)             (None, 128)               32896     \n",
            "                                                                 \n",
            " dense_8 (Dense)             (None, 64)                8256      \n",
            "                                                                 \n",
            " dense_9 (Dense)             (None, 1)                 65        \n",
            "                                                                 \n",
            "=================================================================\n",
            "Total params: 5,519,161\n",
            "Trainable params: 344,961\n",
            "Non-trainable params: 5,174,200\n",
            "_________________________________________________________________\n"
          ]
        }
      ],
      "source": [
        "model3 = Sequential()\n",
        "model3.add(Embedding(vocab_size, output_dim= DIM, weights=[embedding_vectors], input_length= sentence_length, trainable=False))\n",
        "model3.add(Dropout(0.1))\n",
        "model3.add(layers.GRU(64, return_sequences=True))\n",
        "model3.add(layers.GRU(128))\n",
        "model3.add(Dropout(0.1))\n",
        "model3.add(Dense(512))\n",
        "model3.add(Dense(256))\n",
        "model3.add(Dense(128))\n",
        "model3.add(Dense(64))\n",
        "model3.add(Dense(1,activation='sigmoid'))\n",
        "model3.compile(optimizer='adam', loss='binary_crossentropy', metrics=['accuracy'])\n",
        "model3.summary()"
      ]
    },
    {
      "cell_type": "code",
      "execution_count": null,
      "metadata": {
        "colab": {
          "base_uri": "https://localhost:8080/"
        },
        "id": "CqXe5hQpo3l-",
        "outputId": "8361f312-3201-48c8-f31b-19ed3f33ce8c"
      },
      "outputs": [
        {
          "output_type": "stream",
          "name": "stdout",
          "text": [
            "Epoch 1/15\n",
            "271/271 [==============================] - 16s 18ms/step - loss: 0.4566 - accuracy: 0.7968 - val_loss: 0.4318 - val_accuracy: 0.8179\n",
            "Epoch 2/15\n",
            "271/271 [==============================] - 4s 15ms/step - loss: 0.4096 - accuracy: 0.8186 - val_loss: 0.3930 - val_accuracy: 0.8239\n",
            "Epoch 3/15\n",
            "271/271 [==============================] - 4s 15ms/step - loss: 0.3999 - accuracy: 0.8251 - val_loss: 0.3887 - val_accuracy: 0.8301\n",
            "Epoch 4/15\n",
            "271/271 [==============================] - 4s 15ms/step - loss: 0.3936 - accuracy: 0.8262 - val_loss: 0.3828 - val_accuracy: 0.8325\n",
            "Epoch 5/15\n",
            "271/271 [==============================] - 4s 15ms/step - loss: 0.3848 - accuracy: 0.8309 - val_loss: 0.3864 - val_accuracy: 0.8338\n",
            "Epoch 6/15\n",
            "271/271 [==============================] - 4s 15ms/step - loss: 0.3837 - accuracy: 0.8326 - val_loss: 0.3855 - val_accuracy: 0.8308\n",
            "Epoch 7/15\n",
            "271/271 [==============================] - 4s 15ms/step - loss: 0.3798 - accuracy: 0.8334 - val_loss: 0.3773 - val_accuracy: 0.8369\n",
            "Epoch 8/15\n",
            "271/271 [==============================] - 4s 15ms/step - loss: 0.3748 - accuracy: 0.8354 - val_loss: 0.3700 - val_accuracy: 0.8387\n",
            "Epoch 9/15\n",
            "271/271 [==============================] - 4s 15ms/step - loss: 0.3711 - accuracy: 0.8375 - val_loss: 0.3759 - val_accuracy: 0.8413\n",
            "Epoch 10/15\n",
            "271/271 [==============================] - 4s 15ms/step - loss: 0.3707 - accuracy: 0.8367 - val_loss: 0.3774 - val_accuracy: 0.8363\n",
            "Epoch 11/15\n",
            "271/271 [==============================] - 4s 15ms/step - loss: 0.3686 - accuracy: 0.8399 - val_loss: 0.3815 - val_accuracy: 0.8372\n",
            "Epoch 12/15\n",
            "271/271 [==============================] - 4s 15ms/step - loss: 0.3655 - accuracy: 0.8395 - val_loss: 0.3647 - val_accuracy: 0.8438\n",
            "Epoch 13/15\n",
            "271/271 [==============================] - 4s 15ms/step - loss: 0.3607 - accuracy: 0.8416 - val_loss: 0.3865 - val_accuracy: 0.8345\n",
            "Epoch 14/15\n",
            "271/271 [==============================] - 4s 15ms/step - loss: 0.3596 - accuracy: 0.8413 - val_loss: 0.3630 - val_accuracy: 0.8414\n",
            "Epoch 15/15\n",
            "271/271 [==============================] - 4s 15ms/step - loss: 0.3564 - accuracy: 0.8440 - val_loss: 0.3685 - val_accuracy: 0.8409\n"
          ]
        },
        {
          "output_type": "execute_result",
          "data": {
            "text/plain": [
              "<keras.callbacks.History at 0x7fc382153ad0>"
            ]
          },
          "metadata": {},
          "execution_count": 42
        }
      ],
      "source": [
        "history3 = model3.fit(X_final, y_final, validation_split=0.2, epochs=15, batch_size=128)\n",
        "history3"
      ]
    },
    {
      "cell_type": "code",
      "source": [
        "model3.save('./Model3_tf',save_format='tf')"
      ],
      "metadata": {
        "id": "WXSFhmm2kmgP",
        "colab": {
          "base_uri": "https://localhost:8080/"
        },
        "outputId": "bc55bbe3-38eb-4295-cbc6-740b880bd45c"
      },
      "execution_count": null,
      "outputs": [
        {
          "output_type": "stream",
          "name": "stderr",
          "text": [
            "WARNING:absl:Found untraced functions such as gru_cell_2_layer_call_fn, gru_cell_2_layer_call_and_return_conditional_losses, gru_cell_3_layer_call_fn, gru_cell_3_layer_call_and_return_conditional_losses while saving (showing 4 of 4). These functions will not be directly callable after loading.\n"
          ]
        },
        {
          "output_type": "stream",
          "name": "stdout",
          "text": [
            "INFO:tensorflow:Assets written to: ./Model3_tf/assets\n"
          ]
        },
        {
          "output_type": "stream",
          "name": "stderr",
          "text": [
            "INFO:tensorflow:Assets written to: ./Model3_tf/assets\n",
            "WARNING:absl:<keras.layers.recurrent.GRUCell object at 0x7fc3f0142190> has the same name 'GRUCell' as a built-in Keras object. Consider renaming <class 'keras.layers.recurrent.GRUCell'> to avoid naming conflicts when loading with `tf.keras.models.load_model`. If renaming is not possible, pass the object in the `custom_objects` parameter of the load function.\n",
            "WARNING:absl:<keras.layers.recurrent.GRUCell object at 0x7fc3f0136610> has the same name 'GRUCell' as a built-in Keras object. Consider renaming <class 'keras.layers.recurrent.GRUCell'> to avoid naming conflicts when loading with `tf.keras.models.load_model`. If renaming is not possible, pass the object in the `custom_objects` parameter of the load function.\n"
          ]
        }
      ]
    },
    {
      "cell_type": "code",
      "source": [
        "model3.evaluate(X_final, y_final, verbose=0)"
      ],
      "metadata": {
        "colab": {
          "base_uri": "https://localhost:8080/"
        },
        "id": "Fk04VlED-QIs",
        "outputId": "15fe2ce7-4210-4573-dc91-a89e30ed9d53"
      },
      "execution_count": null,
      "outputs": [
        {
          "output_type": "execute_result",
          "data": {
            "text/plain": [
              "[0.3459795415401459, 0.8495454788208008]"
            ]
          },
          "metadata": {},
          "execution_count": 47
        }
      ]
    },
    {
      "cell_type": "code",
      "source": [
        "another_model = tf.keras.models.load_model('/content/drive/My Drive/IDP/model3.h5')\n",
        "another_model.summary()"
      ],
      "metadata": {
        "colab": {
          "base_uri": "https://localhost:8080/"
        },
        "id": "hS1pvZI2-diC",
        "outputId": "e5107425-64c5-41b3-f31f-e5038f0b07ff"
      },
      "execution_count": null,
      "outputs": [
        {
          "output_type": "stream",
          "name": "stdout",
          "text": [
            "Model: \"sequential_1\"\n",
            "_________________________________________________________________\n",
            " Layer (type)                Output Shape              Param #   \n",
            "=================================================================\n",
            " embedding_1 (Embedding)     (None, 100, 100)          5174200   \n",
            "                                                                 \n",
            " dropout_2 (Dropout)         (None, 100, 100)          0         \n",
            "                                                                 \n",
            " gru_2 (GRU)                 (None, 100, 64)           31872     \n",
            "                                                                 \n",
            " gru_3 (GRU)                 (None, 128)               74496     \n",
            "                                                                 \n",
            " dropout_3 (Dropout)         (None, 128)               0         \n",
            "                                                                 \n",
            " dense_5 (Dense)             (None, 512)               66048     \n",
            "                                                                 \n",
            " dense_6 (Dense)             (None, 256)               131328    \n",
            "                                                                 \n",
            " dense_7 (Dense)             (None, 128)               32896     \n",
            "                                                                 \n",
            " dense_8 (Dense)             (None, 64)                8256      \n",
            "                                                                 \n",
            " dense_9 (Dense)             (None, 1)                 65        \n",
            "                                                                 \n",
            "=================================================================\n",
            "Total params: 5,519,161\n",
            "Trainable params: 344,961\n",
            "Non-trainable params: 5,174,200\n",
            "_________________________________________________________________\n"
          ]
        }
      ]
    },
    {
      "cell_type": "code",
      "source": [
        "another_model.evaluate(X_final, y_final, verbose=0)"
      ],
      "metadata": {
        "id": "8-1geKkQ-pSv",
        "outputId": "88e15200-ce1d-434d-9ebe-786a43c81cca",
        "colab": {
          "base_uri": "https://localhost:8080/"
        }
      },
      "execution_count": null,
      "outputs": [
        {
          "output_type": "execute_result",
          "data": {
            "text/plain": [
              "[0.3459795415401459, 0.8495454788208008]"
            ]
          },
          "metadata": {},
          "execution_count": 49
        }
      ]
    },
    {
      "cell_type": "code",
      "source": [
        "model3.save('model3.h5')"
      ],
      "metadata": {
        "id": "XmmL7gEX9eHG"
      },
      "execution_count": null,
      "outputs": []
    },
    {
      "cell_type": "code",
      "execution_count": null,
      "metadata": {
        "colab": {
          "base_uri": "https://localhost:8080/"
        },
        "id": "dI_LIEHqqbVx",
        "outputId": "846dc78a-9553-461d-b5ee-7ca15c91d6bc"
      },
      "outputs": [
        {
          "output_type": "stream",
          "name": "stdout",
          "text": [
            "Epoch 1/20\n",
            "271/271 [==============================] - 17s 62ms/step - loss: 0.3341 - accuracy: 0.8532 - val_loss: 0.3865 - val_accuracy: 0.8342\n",
            "Epoch 2/20\n",
            "271/271 [==============================] - 17s 61ms/step - loss: 0.3289 - accuracy: 0.8560 - val_loss: 0.3919 - val_accuracy: 0.8307\n",
            "Epoch 3/20\n",
            "271/271 [==============================] - 17s 61ms/step - loss: 0.3251 - accuracy: 0.8582 - val_loss: 0.3854 - val_accuracy: 0.8316\n",
            "Epoch 4/20\n",
            "271/271 [==============================] - 17s 61ms/step - loss: 0.3198 - accuracy: 0.8619 - val_loss: 0.3973 - val_accuracy: 0.8342\n",
            "Epoch 5/20\n",
            "271/271 [==============================] - 17s 62ms/step - loss: 0.3160 - accuracy: 0.8623 - val_loss: 0.3927 - val_accuracy: 0.8365\n",
            "Epoch 6/20\n",
            "271/271 [==============================] - 17s 61ms/step - loss: 0.3110 - accuracy: 0.8657 - val_loss: 0.3966 - val_accuracy: 0.8313\n",
            "Epoch 7/20\n",
            "271/271 [==============================] - 17s 61ms/step - loss: 0.3039 - accuracy: 0.8680 - val_loss: 0.3992 - val_accuracy: 0.8314\n",
            "Epoch 8/20\n",
            "271/271 [==============================] - 17s 62ms/step - loss: 0.2978 - accuracy: 0.8711 - val_loss: 0.4016 - val_accuracy: 0.8314\n",
            "Epoch 9/20\n",
            "271/271 [==============================] - 17s 61ms/step - loss: 0.2905 - accuracy: 0.8735 - val_loss: 0.4201 - val_accuracy: 0.8248\n",
            "Epoch 10/20\n",
            "271/271 [==============================] - 17s 61ms/step - loss: 0.2830 - accuracy: 0.8788 - val_loss: 0.4232 - val_accuracy: 0.8267\n",
            "Epoch 11/20\n",
            "271/271 [==============================] - 17s 61ms/step - loss: 0.2767 - accuracy: 0.8811 - val_loss: 0.4396 - val_accuracy: 0.8224\n",
            "Epoch 12/20\n",
            "271/271 [==============================] - 17s 61ms/step - loss: 0.2713 - accuracy: 0.8836 - val_loss: 0.4337 - val_accuracy: 0.8259\n",
            "Epoch 13/20\n",
            "271/271 [==============================] - 17s 61ms/step - loss: 0.2642 - accuracy: 0.8871 - val_loss: 0.4495 - val_accuracy: 0.8216\n",
            "Epoch 14/20\n",
            "271/271 [==============================] - 17s 62ms/step - loss: 0.2546 - accuracy: 0.8908 - val_loss: 0.4611 - val_accuracy: 0.8254\n",
            "Epoch 15/20\n",
            "271/271 [==============================] - 17s 62ms/step - loss: 0.2492 - accuracy: 0.8934 - val_loss: 0.4820 - val_accuracy: 0.8263\n",
            "Epoch 16/20\n",
            "271/271 [==============================] - 17s 61ms/step - loss: 0.2418 - accuracy: 0.8970 - val_loss: 0.4496 - val_accuracy: 0.8257\n",
            "Epoch 17/20\n",
            "271/271 [==============================] - 17s 62ms/step - loss: 0.2365 - accuracy: 0.8999 - val_loss: 0.5072 - val_accuracy: 0.8176\n",
            "Epoch 18/20\n",
            "271/271 [==============================] - 17s 61ms/step - loss: 0.2284 - accuracy: 0.9040 - val_loss: 0.5173 - val_accuracy: 0.8219\n",
            "Epoch 19/20\n",
            "271/271 [==============================] - 17s 61ms/step - loss: 0.2225 - accuracy: 0.9058 - val_loss: 0.5685 - val_accuracy: 0.8216\n",
            "Epoch 20/20\n",
            "271/271 [==============================] - 17s 62ms/step - loss: 0.2196 - accuracy: 0.9079 - val_loss: 0.5362 - val_accuracy: 0.8184\n"
          ]
        }
      ],
      "source": [
        "history3_model3 = model3.fit(X_final, y_final, validation_split=0.2, epochs=20, batch_size=128)\n"
      ]
    },
    {
      "cell_type": "markdown",
      "source": [
        "### Creating `Bidirectional GRU` Model"
      ],
      "metadata": {
        "id": "eJjvh7AS1P6o"
      }
    },
    {
      "cell_type": "code",
      "source": [
        "model4 = Sequential()\n",
        "model4.add(Embedding(vocab_size, output_dim= DIM, weights=[embedding_vectors], input_length= sentence_length, trainable=False))\n",
        "model4.add(Dropout(0.1))\n",
        "model4.add(Bidirectional(layers.GRU(64, return_sequences=True)))\n",
        "model4.add(Bidirectional(layers.GRU(128)))\n",
        "model4.add(Dropout(0.1))\n",
        "model4.add(Dense(512))\n",
        "model4.add(Dense(256))\n",
        "model4.add(Dense(128))\n",
        "model4.add(Dense(64))\n",
        "model4.add(Dense(1,activation='sigmoid'))\n",
        "model4.compile(optimizer='adam', loss='binary_crossentropy', metrics=['accuracy'])\n",
        "model4.summary()"
      ],
      "metadata": {
        "id": "DxNuEzb3R7bk"
      },
      "execution_count": null,
      "outputs": []
    },
    {
      "cell_type": "code",
      "source": [],
      "metadata": {
        "id": "nj9pF7qqhEEL"
      },
      "execution_count": null,
      "outputs": []
    },
    {
      "cell_type": "code",
      "source": [
        "history4 = model4.fit(X_final, y_final, validation_split=0.2, epochs=30, batch_size=64)"
      ],
      "metadata": {
        "colab": {
          "base_uri": "https://localhost:8080/"
        },
        "id": "E5-eHOlISKbI",
        "outputId": "a5fa6101-004b-447c-cf3e-86105397795a"
      },
      "execution_count": null,
      "outputs": [
        {
          "output_type": "stream",
          "name": "stdout",
          "text": [
            "Epoch 1/30\n",
            "542/542 [==============================] - 78s 116ms/step - loss: 0.4506 - accuracy: 0.7998 - val_loss: 0.4124 - val_accuracy: 0.8221\n",
            "Epoch 2/30\n",
            "542/542 [==============================] - 61s 113ms/step - loss: 0.4137 - accuracy: 0.8173 - val_loss: 0.3881 - val_accuracy: 0.8267\n",
            "Epoch 3/30\n",
            "542/542 [==============================] - 61s 113ms/step - loss: 0.4029 - accuracy: 0.8221 - val_loss: 0.3831 - val_accuracy: 0.8284\n",
            "Epoch 4/30\n",
            "542/542 [==============================] - 61s 113ms/step - loss: 0.3984 - accuracy: 0.8252 - val_loss: 0.3831 - val_accuracy: 0.8295\n",
            "Epoch 5/30\n",
            "542/542 [==============================] - 61s 113ms/step - loss: 0.3954 - accuracy: 0.8266 - val_loss: 0.3864 - val_accuracy: 0.8264\n",
            "Epoch 6/30\n",
            "542/542 [==============================] - 61s 113ms/step - loss: 0.3904 - accuracy: 0.8276 - val_loss: 0.3778 - val_accuracy: 0.8332\n",
            "Epoch 7/30\n",
            "542/542 [==============================] - 61s 113ms/step - loss: 0.3879 - accuracy: 0.8298 - val_loss: 0.3821 - val_accuracy: 0.8283\n",
            "Epoch 8/30\n",
            "542/542 [==============================] - 61s 113ms/step - loss: 0.3838 - accuracy: 0.8304 - val_loss: 0.3766 - val_accuracy: 0.8325\n",
            "Epoch 9/30\n",
            "542/542 [==============================] - 62s 114ms/step - loss: 0.4163 - accuracy: 0.8157 - val_loss: 0.3927 - val_accuracy: 0.8248\n",
            "Epoch 10/30\n",
            "542/542 [==============================] - 61s 113ms/step - loss: 0.4010 - accuracy: 0.8235 - val_loss: 0.3872 - val_accuracy: 0.8260\n",
            "Epoch 11/30\n",
            "542/542 [==============================] - 61s 113ms/step - loss: 0.3952 - accuracy: 0.8257 - val_loss: 0.3813 - val_accuracy: 0.8313\n",
            "Epoch 12/30\n",
            "542/542 [==============================] - 61s 113ms/step - loss: 0.3919 - accuracy: 0.8254 - val_loss: 0.3803 - val_accuracy: 0.8319\n",
            "Epoch 13/30\n",
            "542/542 [==============================] - 61s 113ms/step - loss: 0.3899 - accuracy: 0.8277 - val_loss: 0.3772 - val_accuracy: 0.8340\n",
            "Epoch 14/30\n",
            "542/542 [==============================] - 61s 113ms/step - loss: 0.3890 - accuracy: 0.8302 - val_loss: 0.3802 - val_accuracy: 0.8349\n",
            "Epoch 15/30\n",
            "542/542 [==============================] - 61s 113ms/step - loss: 0.3873 - accuracy: 0.8286 - val_loss: 0.3768 - val_accuracy: 0.8328\n",
            "Epoch 16/30\n",
            "542/542 [==============================] - 61s 113ms/step - loss: 0.3841 - accuracy: 0.8294 - val_loss: 0.3787 - val_accuracy: 0.8344\n",
            "Epoch 17/30\n",
            "542/542 [==============================] - 61s 113ms/step - loss: 0.3833 - accuracy: 0.8294 - val_loss: 0.3783 - val_accuracy: 0.8294\n",
            "Epoch 18/30\n",
            "542/542 [==============================] - 61s 113ms/step - loss: 0.3809 - accuracy: 0.8324 - val_loss: 0.3738 - val_accuracy: 0.8338\n",
            "Epoch 19/30\n",
            "542/542 [==============================] - 61s 113ms/step - loss: 0.3809 - accuracy: 0.8328 - val_loss: 0.3738 - val_accuracy: 0.8334\n",
            "Epoch 20/30\n",
            "542/542 [==============================] - 61s 113ms/step - loss: 0.3769 - accuracy: 0.8341 - val_loss: 0.3734 - val_accuracy: 0.8327\n",
            "Epoch 21/30\n",
            "542/542 [==============================] - 61s 113ms/step - loss: 0.3788 - accuracy: 0.8334 - val_loss: 0.3773 - val_accuracy: 0.8300\n",
            "Epoch 22/30\n",
            "542/542 [==============================] - 61s 113ms/step - loss: 0.3745 - accuracy: 0.8350 - val_loss: 0.3727 - val_accuracy: 0.8370\n",
            "Epoch 23/30\n",
            "542/542 [==============================] - 61s 113ms/step - loss: 0.3732 - accuracy: 0.8356 - val_loss: 0.3822 - val_accuracy: 0.8290\n",
            "Epoch 24/30\n",
            "542/542 [==============================] - 62s 114ms/step - loss: 0.3707 - accuracy: 0.8369 - val_loss: 0.3765 - val_accuracy: 0.8355\n",
            "Epoch 25/30\n",
            "542/542 [==============================] - 61s 113ms/step - loss: 0.3684 - accuracy: 0.8392 - val_loss: 0.3750 - val_accuracy: 0.8331\n",
            "Epoch 26/30\n",
            "542/542 [==============================] - 61s 113ms/step - loss: 0.3672 - accuracy: 0.8378 - val_loss: 0.3776 - val_accuracy: 0.8310\n",
            "Epoch 27/30\n",
            "542/542 [==============================] - 61s 113ms/step - loss: 0.3646 - accuracy: 0.8393 - val_loss: 0.3741 - val_accuracy: 0.8330\n",
            "Epoch 28/30\n",
            "542/542 [==============================] - 61s 113ms/step - loss: 0.3640 - accuracy: 0.8388 - val_loss: 0.3742 - val_accuracy: 0.8322\n",
            "Epoch 29/30\n",
            "542/542 [==============================] - 61s 113ms/step - loss: 0.3600 - accuracy: 0.8407 - val_loss: 0.3737 - val_accuracy: 0.8352\n",
            "Epoch 30/30\n",
            "542/542 [==============================] - 61s 113ms/step - loss: 0.3602 - accuracy: 0.8411 - val_loss: 0.3754 - val_accuracy: 0.8284\n"
          ]
        }
      ]
    },
    {
      "cell_type": "code",
      "source": [
        "model4.save('model4.h5')"
      ],
      "metadata": {
        "id": "sy1eRp5WhGhw"
      },
      "execution_count": null,
      "outputs": []
    },
    {
      "cell_type": "code",
      "source": [
        "model4.weights[0]"
      ],
      "metadata": {
        "colab": {
          "base_uri": "https://localhost:8080/"
        },
        "id": "BcnSXM3VhLfT",
        "outputId": "3bcf817a-1e1a-43de-8ea3-84519ff7334f"
      },
      "execution_count": null,
      "outputs": [
        {
          "output_type": "execute_result",
          "data": {
            "text/plain": [
              "<tf.Variable 'embedding_3/embeddings:0' shape=(59293, 100) dtype=float32, numpy=\n",
              "array([[ 0.0000000e+00,  0.0000000e+00,  0.0000000e+00, ...,\n",
              "         0.0000000e+00,  0.0000000e+00,  0.0000000e+00],\n",
              "       [-9.8586702e-01,  1.4085649e+00,  7.0996180e-02, ...,\n",
              "        -1.6380746e+00,  6.5753096e-01,  5.7048678e-01],\n",
              "       [-1.0634031e+00,  1.6918726e+00,  4.8643455e-01, ...,\n",
              "        -1.8453096e+00,  6.5694803e-01,  9.8806095e-01],\n",
              "       ...,\n",
              "       [-6.2414067e-04,  1.6955761e-02, -4.5120143e-03, ...,\n",
              "        -5.0818636e-03,  1.2397649e-02, -6.3497499e-03],\n",
              "       [-9.4274124e-03,  1.6535176e-02,  4.6778340e-03, ...,\n",
              "        -1.0450720e-03,  2.9619767e-03, -5.9068864e-03],\n",
              "       [-1.4193320e-02,  1.2483997e-02,  1.4082339e-04, ...,\n",
              "         2.9466895e-03,  9.0594627e-03,  5.5697495e-03]], dtype=float32)>"
            ]
          },
          "metadata": {},
          "execution_count": 158
        }
      ]
    },
    {
      "cell_type": "code",
      "source": [
        "history3_model3_1 = model3.fit(X_final, y_final, validation_split=0.2, epochs=10, batch_size=64)"
      ],
      "metadata": {
        "colab": {
          "base_uri": "https://localhost:8080/"
        },
        "id": "ixEbbJV5HtZ0",
        "outputId": "840ee5de-fdd9-483d-f8b8-f4c02a63e470"
      },
      "execution_count": null,
      "outputs": [
        {
          "output_type": "stream",
          "name": "stdout",
          "text": [
            "Epoch 1/10\n",
            "415/415 [==============================] - 23s 56ms/step - loss: 0.3581 - accuracy: 0.8367 - val_loss: 0.4153 - val_accuracy: 0.8136\n",
            "Epoch 2/10\n",
            "415/415 [==============================] - 26s 62ms/step - loss: 0.3552 - accuracy: 0.8355 - val_loss: 0.4174 - val_accuracy: 0.8069\n",
            "Epoch 3/10\n",
            "415/415 [==============================] - 23s 56ms/step - loss: 0.3476 - accuracy: 0.8396 - val_loss: 0.4248 - val_accuracy: 0.8054\n",
            "Epoch 4/10\n",
            "415/415 [==============================] - 23s 56ms/step - loss: 0.3371 - accuracy: 0.8462 - val_loss: 0.4220 - val_accuracy: 0.8003\n",
            "Epoch 5/10\n",
            "415/415 [==============================] - 23s 55ms/step - loss: 0.3269 - accuracy: 0.8498 - val_loss: 0.4507 - val_accuracy: 0.8027\n",
            "Epoch 6/10\n",
            "415/415 [==============================] - 23s 55ms/step - loss: 0.3191 - accuracy: 0.8558 - val_loss: 0.4711 - val_accuracy: 0.7985\n",
            "Epoch 7/10\n",
            "415/415 [==============================] - 23s 55ms/step - loss: 0.3022 - accuracy: 0.8645 - val_loss: 0.4549 - val_accuracy: 0.8039\n",
            "Epoch 8/10\n",
            "415/415 [==============================] - 23s 55ms/step - loss: 0.2878 - accuracy: 0.8719 - val_loss: 0.4727 - val_accuracy: 0.7944\n",
            "Epoch 9/10\n",
            "415/415 [==============================] - 23s 56ms/step - loss: 0.2748 - accuracy: 0.8782 - val_loss: 0.4787 - val_accuracy: 0.7986\n",
            "Epoch 10/10\n",
            "415/415 [==============================] - 23s 55ms/step - loss: 0.2595 - accuracy: 0.8863 - val_loss: 0.5185 - val_accuracy: 0.7961\n"
          ]
        }
      ]
    },
    {
      "cell_type": "code",
      "execution_count": null,
      "metadata": {
        "id": "lgId8c8ts-O6"
      },
      "outputs": [],
      "source": [
        "result3_val_acc = history3.history['val_accuracy'] + history3_model3.history['val_accuracy'] \n",
        "result3_acc = history3.history['accuracy'] + history3_model3.history['accuracy']\n",
        "result3_loss =history3.history['loss'] + history3_model3.history['loss'] \n",
        "result3_val_loss = history3.history['val_loss'] + history3_model3.history['val_loss'] "
      ]
    },
    {
      "cell_type": "code",
      "execution_count": null,
      "metadata": {
        "colab": {
          "base_uri": "https://localhost:8080/",
          "height": 281
        },
        "id": "s6CALLpQtK-Y",
        "outputId": "a2708cb6-4d75-4e1c-b143-1cc603ef3be2"
      },
      "outputs": [
        {
          "output_type": "display_data",
          "data": {
            "text/plain": [
              "<Figure size 432x288 with 1 Axes>"
            ],
            "image/png": "[encoded data removed]"
          },
          "metadata": {
            "needs_background": "light"
          }
        }
      ],
      "source": [
        "plot_acc(result3_acc, result3_val_acc)"
      ]
    },
    {
      "cell_type": "code",
      "execution_count": null,
      "metadata": {
        "colab": {
          "base_uri": "https://localhost:8080/",
          "height": 281
        },
        "id": "cqhAeGSHtLGo",
        "outputId": "eef16057-0fab-4035-c88c-b175a42a6d78"
      },
      "outputs": [
        {
          "output_type": "display_data",
          "data": {
            "text/plain": [
              "<Figure size 432x288 with 1 Axes>"
            ],
            "image/png": "[encoded data removed]"
          },
          "metadata": {
            "needs_background": "light"
          }
        }
      ],
      "source": [
        "plot_loss(result3_loss, result3_val_loss)"
      ]
    },
    {
      "cell_type": "code",
      "execution_count": null,
      "metadata": {
        "id": "sXypaw_lY-Qj"
      },
      "outputs": [],
      "source": [
        "from sklearn import svm \n",
        "from sklearn.model_selection import train_test_split\n",
        "X_train, X_test, y_train, y_test = train_test_split(X_final, y_final, test_size=0.2, random_state=8)\n"
      ]
    },
    {
      "cell_type": "code",
      "source": [
        "clf = svm.SVC()\n",
        "clf.fit(X_train_vect, train_df['target'].values)"
      ],
      "metadata": {
        "id": "vQjwjs6iH8z7",
        "colab": {
          "base_uri": "https://localhost:8080/"
        },
        "outputId": "8bc9cfba-0494-4b21-e511-36346080c682"
      },
      "execution_count": null,
      "outputs": [
        {
          "output_type": "execute_result",
          "data": {
            "text/plain": [
              "SVC()"
            ]
          },
          "metadata": {},
          "execution_count": 81
        }
      ]
    },
    {
      "cell_type": "code",
      "execution_count": null,
      "metadata": {
        "colab": {
          "base_uri": "https://localhost:8080/"
        },
        "id": "pFiz2uYibgll",
        "outputId": "f90b4105-36e2-43ca-db3e-3cb571b61dc5"
      },
      "outputs": [
        {
          "output_type": "execute_result",
          "data": {
            "text/plain": [
              "array([0, 0, 0, ..., 1, 0, 1])"
            ]
          },
          "metadata": {},
          "execution_count": 84
        }
      ],
      "source": [
        "pred_svm = clf.predict(vect.transform(test_df['text'].values))\n",
        "pred_svm"
      ]
    },
    {
      "cell_type": "code",
      "source": [
        "score_svm  = metrics.accuracy_score(test_df['target'].values, pred_log)\n",
        "print(\"accuracy {:.6f}\".format(score_svm))"
      ],
      "metadata": {
        "colab": {
          "base_uri": "https://localhost:8080/"
        },
        "id": "Yc2gXaNueDvr",
        "outputId": "3840f8ac-fbdf-4bba-a6cd-63f3921ded6b"
      },
      "execution_count": null,
      "outputs": [
        {
          "output_type": "stream",
          "name": "stdout",
          "text": [
            "accuracy 0.719935\n"
          ]
        }
      ]
    },
    {
      "cell_type": "code",
      "execution_count": null,
      "metadata": {
        "id": "wmhfYGno4o4T",
        "colab": {
          "base_uri": "https://localhost:8080/"
        },
        "outputId": "641f0db1-28cf-4979-868c-7d9e895391e5"
      },
      "outputs": [
        {
          "output_type": "execute_result",
          "data": {
            "text/plain": [
              "KNeighborsClassifier(n_neighbors=3)"
            ]
          },
          "metadata": {},
          "execution_count": 91
        }
      ],
      "source": [
        "from sklearn.neighbors import KNeighborsClassifier\n",
        "neigh = KNeighborsClassifier(n_neighbors=3)\n",
        "neigh.fit(X_train_vect, train_df.target.values)"
      ]
    },
    {
      "cell_type": "code",
      "source": [
        "pred_neigh = neigh.predict(vect.transform(test_df.text.values))"
      ],
      "metadata": {
        "id": "E1xDY_XIe_uu"
      },
      "execution_count": null,
      "outputs": []
    },
    {
      "cell_type": "code",
      "source": [
        "score_neigh  = metrics.accuracy_score(test_df['target'].values, pred_neigh)\n",
        "print(\"accuracy {:.6f}\".format(score_neigh))"
      ],
      "metadata": {
        "colab": {
          "base_uri": "https://localhost:8080/"
        },
        "id": "1Svq4eVVfGfv",
        "outputId": "9a906407-2f48-4deb-9504-a971d46986e4"
      },
      "execution_count": null,
      "outputs": [
        {
          "output_type": "stream",
          "name": "stdout",
          "text": [
            "accuracy 0.648565\n"
          ]
        }
      ]
    },
    {
      "cell_type": "code",
      "source": [
        "y_train.shape, X_train.shape"
      ],
      "metadata": {
        "colab": {
          "base_uri": "https://localhost:8080/"
        },
        "id": "hef808H_BGCs",
        "outputId": "800d1ec8-7ccf-4098-bec8-fdbba64f59ed"
      },
      "execution_count": null,
      "outputs": [
        {
          "output_type": "execute_result",
          "data": {
            "text/plain": [
              "((23202,), (23202, 100))"
            ]
          },
          "metadata": {},
          "execution_count": 107
        }
      ]
    },
    {
      "cell_type": "code",
      "source": [
        "!pip install keras-tuner"
      ],
      "metadata": {
        "id": "0OabBiiVDx8W"
      },
      "execution_count": null,
      "outputs": []
    },
    {
      "cell_type": "code",
      "source": [
        "from kerastuner.tuners import RandomSearch\n",
        "from kerastuner.engine.hyperparameters import HyperParameters"
      ],
      "metadata": {
        "id": "Ae0sUR_FDl8d",
        "colab": {
          "base_uri": "https://localhost:8080/"
        },
        "outputId": "f7c71ed2-b0b3-4dce-8f13-0ca5dc3c81e2"
      },
      "execution_count": null,
      "outputs": [
        {
          "output_type": "stream",
          "name": "stderr",
          "text": [
            "/usr/local/lib/python3.7/dist-packages/ipykernel_launcher.py:1: DeprecationWarning: `import kerastuner` is deprecated, please use `import keras_tuner`.\n",
            "  \"\"\"Entry point for launching an IPython kernel.\n"
          ]
        }
      ]
    },
    {
      "cell_type": "code",
      "execution_count": null,
      "metadata": {
        "id": "o7-CSCRJ452H"
      },
      "outputs": [],
      "source": [
        "def build_model(hp):\n",
        "    model4 = Sequential()\n",
        "    model4.add(Embedding(vocab_size, output_dim= DIM, weights=[embedding_vectors], input_length= sentence_length, trainable=False))\n",
        "    model4.add(LSTM(hp.Int('input_unit',min_value=32,max_value=512,step=32),return_sequences=True))\n",
        "    for i in range(hp.Int('n_layers', 1, 3)):\n",
        "        model4.add(LSTM(hp.Int(f'lstm_{i}_units',min_value=32,max_value=512,step=32),return_sequences=True))\n",
        "    model4.add(LSTM(hp.Int('layer_2_neurons',min_value=32,max_value=512,step=32)))\n",
        "    model4.add(Dropout(hp.Float('Dropout_rate',min_value=0,max_value=0.5,step=0.1)))\n",
        "    model4.add(Dense(1, activation=hp.Choice('dense_activation',values=['relu', 'sigmoid'],default='relu')))\n",
        "    model4.compile(loss='binary_crossentropy', optimizer='adam',metrics = ['accuracy'])\n",
        "    return model4"
      ]
    },
    {
      "cell_type": "code",
      "source": [
        "tuner= RandomSearch(\n",
        "        build_model,\n",
        "        objective='val_accuracy',\n",
        "        max_trials=5,\n",
        "        executions_per_trial=3\n",
        "        )"
      ],
      "metadata": {
        "id": "-SPPSdFcDLWZ"
      },
      "execution_count": null,
      "outputs": []
    },
    {
      "cell_type": "code",
      "source": [
        "tuner.search_space_summary()"
      ],
      "metadata": {
        "colab": {
          "base_uri": "https://localhost:8080/"
        },
        "id": "GNIRZx3tEV4U",
        "outputId": "5d6a1ca5-f4b8-4a1b-c930-77435fcd4e17"
      },
      "execution_count": null,
      "outputs": [
        {
          "output_type": "stream",
          "name": "stdout",
          "text": [
            "Search space summary\n",
            "Default search space size: 6\n",
            "input_unit (Int)\n",
            "{'default': None, 'conditions': [], 'min_value': 32, 'max_value': 512, 'step': 32, 'sampling': None}\n",
            "n_layers (Int)\n",
            "{'default': None, 'conditions': [], 'min_value': 1, 'max_value': 3, 'step': 1, 'sampling': None}\n",
            "lstm_0_units (Int)\n",
            "{'default': None, 'conditions': [], 'min_value': 32, 'max_value': 512, 'step': 32, 'sampling': None}\n",
            "layer_2_neurons (Int)\n",
            "{'default': None, 'conditions': [], 'min_value': 32, 'max_value': 512, 'step': 32, 'sampling': None}\n",
            "Dropout_rate (Float)\n",
            "{'default': 0.0, 'conditions': [], 'min_value': 0.0, 'max_value': 0.5, 'step': 0.1, 'sampling': None}\n",
            "dense_activation (Choice)\n",
            "{'default': 'relu', 'conditions': [], 'values': ['relu', 'sigmoid'], 'ordered': False}\n"
          ]
        }
      ]
    },
    {
      "cell_type": "code",
      "source": [
        "tuner.search(X_train, y_train, validation_data=(X_test, y_test))"
      ],
      "metadata": {
        "colab": {
          "base_uri": "https://localhost:8080/"
        },
        "id": "4lRxIdqZEeK9",
        "outputId": "b4e73b9e-0678-41bf-9048-0e3efe17e0ba"
      },
      "execution_count": null,
      "outputs": [
        {
          "output_type": "stream",
          "name": "stdout",
          "text": [
            "Trial 5 Complete [00h 06m 31s]\n",
            "val_accuracy: 0.605390191078186\n",
            "\n",
            "Best val_accuracy So Far: 0.6291901270548502\n",
            "Total elapsed time: 00h 33m 23s\n",
            "INFO:tensorflow:Oracle triggered exit\n"
          ]
        }
      ]
    },
    {
      "cell_type": "markdown",
      "source": [
        "### Creating a function whether it is abusive or not"
      ],
      "metadata": {
        "id": "eOMFZqa61fFP"
      }
    },
    {
      "cell_type": "code",
      "source": [
        "def get_prediction(text): \n",
        "  text = re.sub(\"[a-zA-z0-9,১২৩৪৫৬৭৮৯০,@,;.ঃ\\_\\`\\’‘~।\\|?:\\\"$%&#''\\-\\!\\^*(){}\\[\\]<>—’“”√।\\-=+/]+\",\"\", text).strip() \n",
        "  emoji = re.compile(\"[\"\n",
        "          u\"\\U0001F600-\\U0001F64F\"  # emoticons\n",
        "          u\"\\U0001F300-\\U0001F5FF\"  # symbols & pictographs\n",
        "          u\"\\U0001F680-\\U0001F6FF\"  # transport & map symbols\n",
        "          u\"\\U0001F1E0-\\U0001F1FF\"  # flags (iOS)\n",
        "          u\"\\U00002500-\\U00002BEF\"  # chinese char\n",
        "          u\"\\U00002702-\\U000027B0\"\n",
        "          u\"\\U00002702-\\U000027B0\"\n",
        "          u\"\\U000024C2-\\U0001F251\"\n",
        "          u\"\\U0001f926-\\U0001f937\"\n",
        "          u\"\\U00010000-\\U0010ffff\"\n",
        "          u\"\\u2640-\\u2642\" \n",
        "          u\"\\u2600-\\u2B55\"\n",
        "          u\"\\u200d\"\n",
        "          u\"\\u23cf\"\n",
        "          u\"\\u23e9\"\n",
        "          u\"\\u231a\"\n",
        "          u\"\\ufe0f\"  # dingbats\n",
        "          u\"\\u3030\"\n",
        "                        \"]+\", re.UNICODE)\n",
        "\n",
        "  text = re.sub(emoji,'',text).strip() \n",
        "\n",
        "  text = remove_stopword(text)\n",
        "  text = stemmer(text)\n",
        "  text = [text]\n",
        "  tokenizer = Tokenizer()\n",
        "  text = tokenizer.texts_to_sequences(text)\n",
        "  text = pad_sequences(text, maxlen=sentence_length)\n",
        "  model = tf.keras.models.load_models('transformer-higher-acc-model')\n",
        "  prediction = 'Abusive' if (model4.predict(text)>0.6).astype(int)[0][0] else 'Not abusive'\n",
        "  how_much_abusive = model4.predict(text)[0][0] \n",
        "  return prediction"
      ],
      "metadata": {
        "id": "M1pHJAr-QE4m"
      },
      "execution_count": null,
      "outputs": []
    },
    {
      "cell_type": "markdown",
      "source": [
        "### Bert Model Testing"
      ],
      "metadata": {
        "id": "ZvIcAPY818zS"
      }
    },
    {
      "cell_type": "code",
      "source": [
        "bert_encoder = hub.KerasLayer('https://tfhub.dev/tensorflow/bert_en_uncased_L-12_H-768_A-12/4')\n"
      ],
      "metadata": {
        "id": "e1igxBRFBppV"
      },
      "execution_count": null,
      "outputs": []
    },
    {
      "cell_type": "code",
      "source": [
        "bert_preprocess = hub.KerasLayer('https://tfhub.dev/tensorflow/bert_en_uncased_preprocess/3')\n"
      ],
      "metadata": {
        "id": "2kCBJARACn6S"
      },
      "execution_count": null,
      "outputs": []
    },
    {
      "cell_type": "code",
      "source": [
        "def get_sentence_embedding(sentences): \n",
        "  preprocessed_text = bert_preprocess(sentences)\n",
        "  return bert_encoder(preprocessed_text)['pooled_output']"
      ],
      "metadata": {
        "id": "qFQD8j61CJJ3"
      },
      "execution_count": null,
      "outputs": []
    },
    {
      "cell_type": "code",
      "source": [
        "get_sentence_embedding(['আমার সোনার বাংলা',\n",
        "                        'বিভ বনানীতে মজায় মগ্ন। জিবনে কম মজা পায় নাই এই ছেলে।'\n",
        "                        ])"
      ],
      "metadata": {
        "colab": {
          "base_uri": "https://localhost:8080/"
        },
        "id": "mKw-QdGaCnR9",
        "outputId": "21d82a98-3df5-4590-db4a-ac1cd81089f9"
      },
      "execution_count": null,
      "outputs": [
        {
          "output_type": "stream",
          "name": "stderr",
          "text": [
            "ERROR:absl:hub.KerasLayer is trainable but has zero trainable weights.\n"
          ]
        },
        {
          "output_type": "execute_result",
          "data": {
            "text/plain": [
              "<tf.Tensor: shape=(2, 768), dtype=float32, numpy=\n",
              "array([[-0.8569263 , -0.17284942, -0.43768346, ..., -0.46544355,\n",
              "        -0.5820018 ,  0.8221333 ],\n",
              "       [-0.524208  ,  0.20055073,  0.32789513, ..., -0.07186333,\n",
              "        -0.08007434,  0.3925424 ]], dtype=float32)>"
            ]
          },
          "metadata": {},
          "execution_count": 124
        }
      ]
    },
    {
      "cell_type": "code",
      "source": [
        "e = get_sentence_embedding(['কলা', 'আপেল', 'বিভ', 'তরমুজ','বাংলা','ভাষা'])"
      ],
      "metadata": {
        "id": "ARAGLiDaC25t"
      },
      "execution_count": null,
      "outputs": []
    },
    {
      "cell_type": "code",
      "source": [
        "from sklearn.metrics.pairwise import cosine_similarity  \n",
        "\n",
        "cosine_similarity([e[1]],[e[2]])"
      ],
      "metadata": {
        "colab": {
          "base_uri": "https://localhost:8080/"
        },
        "id": "2_U-dKiDDfUc",
        "outputId": "9a542f43-b23a-4520-f142-63d41e11ab2b"
      },
      "execution_count": null,
      "outputs": [
        {
          "output_type": "execute_result",
          "data": {
            "text/plain": [
              "array([[0.913604]], dtype=float32)"
            ]
          },
          "metadata": {},
          "execution_count": 126
        }
      ]
    },
    {
      "cell_type": "code",
      "source": [
        "text_input= tf.keras.layers.Input(shape=(), dtype=tf.string, name='text')\n",
        "\n",
        "preprocessed_text = bert_preprocess(text_input)\n",
        "outputs = bert_layer(preprocessed_text)\n",
        "\n",
        "l = tf.keras.layers.Dropout(0.3, name='dropout')(outputs['pooled_output'])\n",
        "l = tf.keras.layers.Dense(1, activation='sigmoid', name='output')(l)\n",
        "\n",
        "model = keras.Model(inputs=[text_input], outputs=[l])\n",
        "\n",
        "model.compile(optimizer='adam', \n",
        "              loss= 'binary_crossentropy', \n",
        "              metrics=['accuracy'])\n",
        "model.summary()"
      ],
      "metadata": {
        "colab": {
          "base_uri": "https://localhost:8080/"
        },
        "id": "ACn3a5S-Dtgd",
        "outputId": "d8b104b4-df58-42a6-e277-6f513f6c3727"
      },
      "execution_count": null,
      "outputs": [
        {
          "output_type": "stream",
          "name": "stdout",
          "text": [
            "Model: \"model_1\"\n",
            "__________________________________________________________________________________________________\n",
            " Layer (type)                   Output Shape         Param #     Connected to                     \n",
            "==================================================================================================\n",
            " text (InputLayer)              [(None,)]            0           []                               \n",
            "                                                                                                  \n",
            " keras_layer_2 (KerasLayer)     {'input_word_ids':   0           ['text[0][0]']                   \n",
            "                                (None, 128),                                                      \n",
            "                                 'input_mask': (Non                                               \n",
            "                                e, 128),                                                          \n",
            "                                 'input_type_ids':                                                \n",
            "                                (None, 128)}                                                      \n",
            "                                                                                                  \n",
            " keras_layer_1 (KerasLayer)     {'encoder_outputs':  177853441   ['keras_layer_2[1][0]',          \n",
            "                                 [(None, 128, 768),               'keras_layer_2[1][1]',          \n",
            "                                 (None, 128, 768),                'keras_layer_2[1][2]']          \n",
            "                                 (None, 128, 768),                                                \n",
            "                                 (None, 128, 768),                                                \n",
            "                                 (None, 128, 768),                                                \n",
            "                                 (None, 128, 768),                                                \n",
            "                                 (None, 128, 768),                                                \n",
            "                                 (None, 128, 768),                                                \n",
            "                                 (None, 128, 768),                                                \n",
            "                                 (None, 128, 768),                                                \n",
            "                                 (None, 128, 768),                                                \n",
            "                                 (None, 128, 768)],                                               \n",
            "                                 'sequence_output':                                               \n",
            "                                 (None, 128, 768),                                                \n",
            "                                 'pooled_output': (                                               \n",
            "                                None, 768),                                                       \n",
            "                                 'default': (None,                                                \n",
            "                                768)}                                                             \n",
            "                                                                                                  \n",
            " dropout (Dropout)              (None, 768)          0           ['keras_layer_1[1][13]']         \n",
            "                                                                                                  \n",
            " output (Dense)                 (None, 1)            769         ['dropout[0][0]']                \n",
            "                                                                                                  \n",
            "==================================================================================================\n",
            "Total params: 177,854,210\n",
            "Trainable params: 177,854,209\n",
            "Non-trainable params: 1\n",
            "__________________________________________________________________________________________________\n"
          ]
        }
      ]
    },
    {
      "cell_type": "code",
      "source": [
        "model.fit(X_final, y_final, epochs=5)"
      ],
      "metadata": {
        "id": "nTPa_RE6FnMT"
      },
      "execution_count": null,
      "outputs": []
    },
    {
      "cell_type": "code",
      "source": [
        "xb_train = np.array(xb_train)\n",
        "yb_train = np.array(yb_train)"
      ],
      "metadata": {
        "id": "OzTDItAKIGtK"
      },
      "execution_count": null,
      "outputs": []
    },
    {
      "cell_type": "code",
      "source": [
        "type(yb_train), type(xb_train)"
      ],
      "metadata": {
        "colab": {
          "base_uri": "https://localhost:8080/"
        },
        "id": "fqwFXZi8JXpF",
        "outputId": "b9a8a147-ae54-483f-99b1-c4452a87fe27"
      },
      "execution_count": null,
      "outputs": [
        {
          "output_type": "execute_result",
          "data": {
            "text/plain": [
              "(numpy.ndarray, numpy.ndarray)"
            ]
          },
          "metadata": {},
          "execution_count": 108
        }
      ]
    },
    {
      "cell_type": "code",
      "source": [
        "xb_train = tf.convert_to_tensor(xb_train)\n",
        "xb_train"
      ],
      "metadata": {
        "id": "6DimUlyQJnmK"
      },
      "execution_count": null,
      "outputs": []
    },
    {
      "cell_type": "code",
      "source": [
        "X_train.shape"
      ],
      "metadata": {
        "colab": {
          "base_uri": "https://localhost:8080/"
        },
        "id": "Ru8PVmN2KQhB",
        "outputId": "bebb7559-8f2a-4ad1-e3cf-6f486684b0b8"
      },
      "execution_count": null,
      "outputs": [
        {
          "output_type": "execute_result",
          "data": {
            "text/plain": [
              "(34680, 100)"
            ]
          },
          "metadata": {},
          "execution_count": 118
        }
      ]
    },
    {
      "cell_type": "markdown",
      "source": [
        "### BERT Model Using `ktrain` "
      ],
      "metadata": {
        "id": "M3dU3ZcpHObA"
      }
    },
    {
      "cell_type": "code",
      "source": [
        "!pip install ktrain"
      ],
      "metadata": {
        "id": "YTPueo7wAwXg"
      },
      "execution_count": null,
      "outputs": []
    },
    {
      "cell_type": "code",
      "source": [
        "import ktrain\n",
        "from ktrain import text"
      ],
      "metadata": {
        "id": "K-z6Dn9IHE0R"
      },
      "execution_count": null,
      "outputs": []
    },
    {
      "cell_type": "code",
      "source": [
        "df['text'] = data_cleaning(df['text'])\n",
        "corpus = list()  \n",
        "for t in df['text']:     \n",
        "    processed_text = remove_stopword(t)\n",
        "    processed_text = stemmer(processed_text)    \n",
        "    corpus.append(processed_text) "
      ],
      "metadata": {
        "id": "vhkgwdckVHAs"
      },
      "execution_count": null,
      "outputs": []
    },
    {
      "cell_type": "code",
      "source": [
        "type(corpus)"
      ],
      "metadata": {
        "colab": {
          "base_uri": "https://localhost:8080/"
        },
        "id": "xpjCSxYpWGBo",
        "outputId": "ad5c66c4-e2bd-4016-ce46-599912ab758d"
      },
      "execution_count": null,
      "outputs": [
        {
          "output_type": "execute_result",
          "data": {
            "text/plain": [
              "list"
            ]
          },
          "metadata": {},
          "execution_count": 48
        }
      ]
    },
    {
      "cell_type": "code",
      "source": [
        "df['text'] = corpus\n",
        "df['target']= [int(i) for i in df.target.values]"
      ],
      "metadata": {
        "id": "GwrmGo5fLIAZ"
      },
      "execution_count": null,
      "outputs": []
    },
    {
      "cell_type": "code",
      "source": [
        "df.isna().sum()"
      ],
      "metadata": {
        "colab": {
          "base_uri": "https://localhost:8080/"
        },
        "id": "9tK2LqlyWltN",
        "outputId": "851655a4-38a4-4573-9776-36f48c96f5fd"
      },
      "execution_count": null,
      "outputs": [
        {
          "output_type": "execute_result",
          "data": {
            "text/plain": [
              "text      0\n",
              "target    0\n",
              "dtype: int64"
            ]
          },
          "metadata": {},
          "execution_count": 50
        }
      ]
    },
    {
      "cell_type": "code",
      "source": [
        "split = int(df.shape[0]*.8)\n",
        "train_df = df[:split]\n",
        "test_df = df[split:]\n",
        "train_df.shape[0] + test_df.shape[0], df.shape[0]"
      ],
      "metadata": {
        "colab": {
          "base_uri": "https://localhost:8080/"
        },
        "id": "YCeyr08eIfye",
        "outputId": "ccd60cf3-30e3-4053-93f8-c6c1e98113d9"
      },
      "execution_count": null,
      "outputs": [
        {
          "output_type": "execute_result",
          "data": {
            "text/plain": [
              "(43365, 43365)"
            ]
          },
          "metadata": {},
          "execution_count": 51
        }
      ]
    },
    {
      "cell_type": "code",
      "source": [
        "(xb_train, yb_train), (xb_test, yb_test), preprocess = text.texts_from_df(train_df=df, \n",
        "                   text_column = 'text', \n",
        "                   label_columns = 'target', \n",
        "                   val_df = test_df, \n",
        "                   maxlen = 100, \n",
        "                   preprocess_mode = 'bert')"
      ],
      "metadata": {
        "colab": {
          "base_uri": "https://localhost:8080/",
          "height": 381
        },
        "id": "9QQuBUIGH69C",
        "outputId": "6a52121e-4aff-4e98-fca0-963d7fd83218"
      },
      "execution_count": null,
      "outputs": [
        {
          "output_type": "stream",
          "name": "stdout",
          "text": [
            "['not_target', 'target']\n",
            "       not_target  target\n",
            "13146         1.0     0.0\n",
            "9430          0.0     1.0\n",
            "20629         1.0     0.0\n",
            "1786          0.0     1.0\n",
            "1373          0.0     1.0\n",
            "['not_target', 'target']\n",
            "       not_target  target\n",
            "23164         1.0     0.0\n",
            "20546         1.0     0.0\n",
            "11611         1.0     0.0\n",
            "7803          1.0     0.0\n",
            "28561         1.0     0.0\n",
            "preprocessing train...\n",
            "language: bn\n"
          ]
        },
        {
          "output_type": "display_data",
          "data": {
            "text/plain": [
              "<IPython.core.display.HTML object>"
            ],
            "text/html": [
              "\n",
              "<style>\n",
              "    /* Turns off some styling */\n",
              "    progress {\n",
              "        /* gets rid of default border in Firefox and Opera. */\n",
              "        border: none;\n",
              "        /* Needs to be in here for Safari polyfill so background images work as expected. */\n",
              "        background-size: auto;\n",
              "    }\n",
              "    .progress-bar-interrupted, .progress-bar-interrupted::-webkit-progress-bar {\n",
              "        background: #F44336;\n",
              "    }\n",
              "</style>\n"
            ]
          },
          "metadata": {}
        },
        {
          "output_type": "display_data",
          "data": {
            "text/plain": [
              "<IPython.core.display.HTML object>"
            ],
            "text/html": [
              "done."
            ]
          },
          "metadata": {}
        },
        {
          "output_type": "stream",
          "name": "stdout",
          "text": [
            "Is Multi-Label? False\n",
            "preprocessing test...\n",
            "language: bn\n"
          ]
        },
        {
          "output_type": "display_data",
          "data": {
            "text/plain": [
              "<IPython.core.display.HTML object>"
            ],
            "text/html": [
              "\n",
              "<style>\n",
              "    /* Turns off some styling */\n",
              "    progress {\n",
              "        /* gets rid of default border in Firefox and Opera. */\n",
              "        border: none;\n",
              "        /* Needs to be in here for Safari polyfill so background images work as expected. */\n",
              "        background-size: auto;\n",
              "    }\n",
              "    .progress-bar-interrupted, .progress-bar-interrupted::-webkit-progress-bar {\n",
              "        background: #F44336;\n",
              "    }\n",
              "</style>\n"
            ]
          },
          "metadata": {}
        },
        {
          "output_type": "display_data",
          "data": {
            "text/plain": [
              "<IPython.core.display.HTML object>"
            ],
            "text/html": [
              "done."
            ]
          },
          "metadata": {}
        }
      ]
    },
    {
      "cell_type": "code",
      "source": [
        "xb_train[0].shape"
      ],
      "metadata": {
        "colab": {
          "base_uri": "https://localhost:8080/"
        },
        "id": "VsVMvmxhLP6x",
        "outputId": "176c2777-b243-4a8c-dde7-3f8b015ac3a7"
      },
      "execution_count": null,
      "outputs": [
        {
          "output_type": "execute_result",
          "data": {
            "text/plain": [
              "(43365, 100)"
            ]
          },
          "metadata": {},
          "execution_count": 56
        }
      ]
    },
    {
      "cell_type": "code",
      "source": [
        "Bert_model = text.text_classifier(name='bert', \n",
        "                                  train_data = (xb_train, yb_train), \n",
        "                                  preproc = preprocess\n",
        "                                  ) "
      ],
      "metadata": {
        "colab": {
          "base_uri": "https://localhost:8080/"
        },
        "id": "MPsDKMIYLQ_W",
        "outputId": "62cddc89-0ade-4151-8f69-7ddf9b702e96"
      },
      "execution_count": null,
      "outputs": [
        {
          "output_type": "stream",
          "name": "stdout",
          "text": [
            "Is Multi-Label? False\n",
            "maxlen is 100\n",
            "done.\n"
          ]
        }
      ]
    },
    {
      "cell_type": "code",
      "source": [
        "## Get learning rate \n",
        "learner = ktrain.get_learner(model= Bert_model, \n",
        "                             train_data=(xb_train, yb_train), \n",
        "                             val_data =(xb_test, yb_test), \n",
        "                             batch_size = 16)"
      ],
      "metadata": {
        "id": "6w998lfzOC3t"
      },
      "execution_count": null,
      "outputs": []
    },
    {
      "cell_type": "markdown",
      "source": [
        "> This might take days to run \n",
        "```\n",
        "`learner.lr_find()`\n",
        "`learner.lr_plot()`\n",
        "```\n",
        "\n",
        "\n",
        "> Optimal learning rate for this model is `2e-5`  "
      ],
      "metadata": {
        "id": "zRZ3n6MVuqVi"
      }
    },
    {
      "cell_type": "markdown",
      "source": [
        "##### Training BERT Model"
      ],
      "metadata": {
        "id": "F6xtatuEJFCO"
      }
    },
    {
      "cell_type": "code",
      "source": [
        "bert_history = learner.fit_onecycle(lr=2e-5 , epochs=2)"
      ],
      "metadata": {
        "id": "BYHzwDTXO23s",
        "colab": {
          "base_uri": "https://localhost:8080/"
        },
        "outputId": "a415aaae-8f6c-4237-fa82-d888646d3c7b"
      },
      "execution_count": null,
      "outputs": [
        {
          "output_type": "stream",
          "name": "stdout",
          "text": [
            "\n",
            "\n",
            "begin training using onecycle policy with max lr of 2e-05...\n",
            "Epoch 1/2\n",
            "2711/2711 [==============================] - 1156s 414ms/step - loss: 0.4011 - accuracy: 0.8244 - val_loss: 0.3149 - val_accuracy: 0.8722\n",
            "Epoch 2/2\n",
            "2711/2711 [==============================] - 1119s 413ms/step - loss: 0.3014 - accuracy: 0.8780 - val_loss: 0.2334 - val_accuracy: 0.9056\n"
          ]
        }
      ]
    },
    {
      "cell_type": "code",
      "source": [
        "bert_history1 = learner.fit_onecycle(lr=2e-5 , epochs=1)"
      ],
      "metadata": {
        "colab": {
          "base_uri": "https://localhost:8080/"
        },
        "id": "G1BHZwta_9eC",
        "outputId": "e2e0e32e-53f7-42cb-f521-e93acf897059"
      },
      "execution_count": null,
      "outputs": [
        {
          "output_type": "stream",
          "name": "stdout",
          "text": [
            "\n",
            "\n",
            "begin training using onecycle policy with max lr of 2e-05...\n",
            "2711/2711 [==============================] - 1125s 415ms/step - loss: 0.2100 - accuracy: 0.9160 - val_loss: 0.1423 - val_accuracy: 0.9453\n"
          ]
        }
      ]
    },
    {
      "cell_type": "code",
      "source": [
        "bert_history2 = learner.fit_onecycle(lr=2e-5 , epochs=1)"
      ],
      "metadata": {
        "colab": {
          "base_uri": "https://localhost:8080/"
        },
        "id": "i1N18OyTOpvg",
        "outputId": "620aa85f-2976-410e-8780-897a0adc471b"
      },
      "execution_count": null,
      "outputs": [
        {
          "output_type": "stream",
          "name": "stdout",
          "text": [
            "\n",
            "\n",
            "begin training using onecycle policy with max lr of 2e-05...\n",
            "2711/2711 [==============================] - 1123s 414ms/step - loss: 0.1864 - accuracy: 0.9260 - val_loss: 0.1164 - val_accuracy: 0.9607\n"
          ]
        }
      ]
    },
    {
      "cell_type": "code",
      "source": [
        "bert_history3 = learner.fit_onecycle(lr=2e-5 , epochs=2)"
      ],
      "metadata": {
        "colab": {
          "base_uri": "https://localhost:8080/"
        },
        "id": "N7mlaLz0TA7g",
        "outputId": "48b7c216-de90-4be1-9a0e-8e01e9a19497"
      },
      "execution_count": null,
      "outputs": [
        {
          "output_type": "stream",
          "name": "stdout",
          "text": [
            "\n",
            "\n",
            "begin training using onecycle policy with max lr of 2e-05...\n",
            "Epoch 1/2\n",
            "2711/2711 [==============================] - 1121s 414ms/step - loss: 0.1546 - accuracy: 0.9393 - val_loss: 0.1136 - val_accuracy: 0.9560\n",
            "Epoch 2/2\n",
            "2711/2711 [==============================] - 1124s 414ms/step - loss: 0.1389 - accuracy: 0.9469 - val_loss: 0.0530 - val_accuracy: 0.9832\n"
          ]
        }
      ]
    },
    {
      "cell_type": "code",
      "source": [
        "bert_history4 = learner.fit_onecycle(lr=2e-5 , epochs=2)"
      ],
      "metadata": {
        "colab": {
          "base_uri": "https://localhost:8080/"
        },
        "id": "EIDHACtpc4T_",
        "outputId": "3e554bb3-8312-4a95-ba3b-24c999cc6dfb"
      },
      "execution_count": null,
      "outputs": [
        {
          "output_type": "stream",
          "name": "stdout",
          "text": [
            "\n",
            "\n",
            "begin training using onecycle policy with max lr of 2e-05...\n",
            "Epoch 1/2\n",
            "2711/2711 [==============================] - 1124s 414ms/step - loss: 0.1033 - accuracy: 0.9612 - val_loss: 0.0732 - val_accuracy: 0.9739\n",
            "Epoch 2/2\n",
            "2711/2711 [==============================] - 1122s 414ms/step - loss: 0.1031 - accuracy: 0.9617 - val_loss: 0.0303 - val_accuracy: 0.9919\n"
          ]
        }
      ]
    },
    {
      "cell_type": "code",
      "source": [
        "bert_history5 = learner.fit_onecycle(lr=2e-5 , epochs=2)"
      ],
      "metadata": {
        "colab": {
          "base_uri": "https://localhost:8080/"
        },
        "id": "yuhs-Sy0l7iX",
        "outputId": "8c40bbf1-21c5-4cd0-d2d8-e8c4d212ceec"
      },
      "execution_count": null,
      "outputs": [
        {
          "output_type": "stream",
          "name": "stdout",
          "text": [
            "\n",
            "\n",
            "begin training using onecycle policy with max lr of 2e-05...\n",
            "Epoch 1/2\n",
            "2711/2711 [==============================] - 1121s 414ms/step - loss: 0.0723 - accuracy: 0.9744 - val_loss: 0.0516 - val_accuracy: 0.9833\n",
            "Epoch 2/2\n",
            "2711/2711 [==============================] - 1121s 413ms/step - loss: 0.0772 - accuracy: 0.9711 - val_loss: 0.0188 - val_accuracy: 0.9939\n"
          ]
        }
      ]
    },
    {
      "cell_type": "code",
      "source": [
        "bert_history6 = learner.fit_onecycle(lr=2e-5 , epochs=2)"
      ],
      "metadata": {
        "colab": {
          "base_uri": "https://localhost:8080/"
        },
        "id": "gLkKSWyzukxw",
        "outputId": "0d6e23cf-24a9-4998-db58-7c7f975d5d29"
      },
      "execution_count": null,
      "outputs": [
        {
          "output_type": "stream",
          "name": "stdout",
          "text": [
            "\n",
            "\n",
            "begin training using onecycle policy with max lr of 2e-05...\n",
            "Epoch 1/2\n",
            "2711/2711 [==============================] - 1122s 414ms/step - loss: 0.0559 - accuracy: 0.9800 - val_loss: 0.0344 - val_accuracy: 0.9890\n",
            "Epoch 2/2\n",
            "2711/2711 [==============================] - 1120s 413ms/step - loss: 0.0625 - accuracy: 0.9776 - val_loss: 0.0150 - val_accuracy: 0.9957\n"
          ]
        }
      ]
    },
    {
      "cell_type": "code",
      "source": [
        "bert_history7 = learner.fit_onecycle(lr=2e-5 , epochs=3)"
      ],
      "metadata": {
        "colab": {
          "base_uri": "https://localhost:8080/"
        },
        "id": "NTbsgo3G5ygR",
        "outputId": "5956e8e3-9b06-43b1-d7f1-562304484eb0"
      },
      "execution_count": null,
      "outputs": [
        {
          "output_type": "stream",
          "name": "stdout",
          "text": [
            "\n",
            "\n",
            "begin training using onecycle policy with max lr of 2e-05...\n",
            "Epoch 1/3\n",
            "2711/2711 [==============================] - 1122s 414ms/step - loss: 0.0379 - accuracy: 0.9865 - val_loss: 0.0213 - val_accuracy: 0.9934\n",
            "Epoch 2/3\n",
            "2711/2711 [==============================] - 1120s 413ms/step - loss: 0.0653 - accuracy: 0.9764 - val_loss: 0.0237 - val_accuracy: 0.9923\n",
            "Epoch 3/3\n",
            "2711/2711 [==============================] - 1120s 413ms/step - loss: 0.0345 - accuracy: 0.9877 - val_loss: 0.0096 - val_accuracy: 0.9971\n"
          ]
        }
      ]
    },
    {
      "cell_type": "markdown",
      "source": [
        "##### Downloading Bert Model"
      ],
      "metadata": {
        "id": "P-W-W7N7iOMn"
      }
    },
    {
      "cell_type": "code",
      "source": [
        "from google.colab import files\n",
        "files.download('bert_model.h5')"
      ],
      "metadata": {
        "colab": {
          "base_uri": "https://localhost:8080/",
          "height": 34
        },
        "id": "zVLAkAykh5hD",
        "outputId": "a2f45407-8c24-43ea-e85d-53ce26874f10"
      },
      "execution_count": null,
      "outputs": [
        {
          "output_type": "display_data",
          "data": {
            "text/plain": [
              "<IPython.core.display.Javascript object>"
            ],
            "application/javascript": [
              "\n",
              "    async function download(id, filename, size) {\n",
              "      if (!google.colab.kernel.accessAllowed) {\n",
              "        return;\n",
              "      }\n",
              "      const div = document.createElement('div');\n",
              "      const label = document.createElement('label');\n",
              "      label.textContent = `Downloading \"${filename}\": `;\n",
              "      div.appendChild(label);\n",
              "      const progress = document.createElement('progress');\n",
              "      progress.max = size;\n",
              "      div.appendChild(progress);\n",
              "      document.body.appendChild(div);\n",
              "\n",
              "      const buffers = [];\n",
              "      let downloaded = 0;\n",
              "\n",
              "      const channel = await google.colab.kernel.comms.open(id);\n",
              "      // Send a message to notify the kernel that we're ready.\n",
              "      channel.send({})\n",
              "\n",
              "      for await (const message of channel.messages) {\n",
              "        // Send a message to notify the kernel that we're ready.\n",
              "        channel.send({})\n",
              "        if (message.buffers) {\n",
              "          for (const buffer of message.buffers) {\n",
              "            buffers.push(buffer);\n",
              "            downloaded += buffer.byteLength;\n",
              "            progress.value = downloaded;\n",
              "          }\n",
              "        }\n",
              "      }\n",
              "      const blob = new Blob(buffers, {type: 'application/binary'});\n",
              "      const a = document.createElement('a');\n",
              "      a.href = window.URL.createObjectURL(blob);\n",
              "      a.download = filename;\n",
              "      div.appendChild(a);\n",
              "      a.click();\n",
              "      div.remove();\n",
              "    }\n",
              "  "
            ]
          },
          "metadata": {}
        },
        {
          "output_type": "display_data",
          "data": {
            "text/plain": [
              "<IPython.core.display.Javascript object>"
            ],
            "application/javascript": [
              "download(\"download_2cb66ee9-181d-4727-8799-3b1875740867\", \"bert_model.h5\", 2132131952)"
            ]
          },
          "metadata": {}
        }
      ]
    },
    {
      "cell_type": "code",
      "source": [
        "learner.fit_onecycle(lr=2e-5 , epochs=1)"
      ],
      "metadata": {
        "colab": {
          "base_uri": "https://localhost:8080/"
        },
        "id": "FYAhLGS9PGaR",
        "outputId": "5407cd94-7f10-4ad8-ed9d-8dccb46a5aaf"
      },
      "execution_count": null,
      "outputs": [
        {
          "output_type": "stream",
          "name": "stdout",
          "text": [
            "\n",
            "\n",
            "begin training using onecycle policy with max lr of 2e-05...\n",
            "7228/7228 [==============================] - 2532s 350ms/step - loss: 0.2974 - accuracy: 0.8809 - val_loss: 0.2319 - val_accuracy: 0.9064\n"
          ]
        },
        {
          "output_type": "execute_result",
          "data": {
            "text/plain": [
              "<keras.callbacks.History at 0x7f1feb3a8550>"
            ]
          },
          "metadata": {},
          "execution_count": 55
        }
      ]
    },
    {
      "cell_type": "code",
      "source": [
        "Bert_model.weights[0]"
      ],
      "metadata": {
        "id": "dbUE5WkelVxV"
      },
      "execution_count": null,
      "outputs": []
    },
    {
      "cell_type": "code",
      "source": [
        "Bert_model.save('bert_model_epoch2.h5')"
      ],
      "metadata": {
        "id": "_eyAX1_Uv4NP"
      },
      "execution_count": null,
      "outputs": []
    },
    {
      "cell_type": "markdown",
      "source": [
        "#### Bert Prediction"
      ],
      "metadata": {
        "id": "rZSxt1CT-qtj"
      }
    },
    {
      "cell_type": "code",
      "source": [
        "bert_predictor = ktrain.get_predictor(learner.model, preprocess)"
      ],
      "metadata": {
        "id": "OVJ_hwyV-Xgt"
      },
      "execution_count": null,
      "outputs": []
    },
    {
      "cell_type": "code",
      "source": [
        "bert_predictor.save()"
      ],
      "metadata": {
        "id": "oyfGPdv5GUBD"
      },
      "execution_count": null,
      "outputs": []
    },
    {
      "cell_type": "code",
      "source": [
        "bibh = ['বিভ বনানীতে মজায় মগ্ন। জিবনে কম মজা পায় নাই এই ছেলে।', 'ভাল ছেলে']\n",
        "\n",
        "bert_predictor.predict(bibh)"
      ],
      "metadata": {
        "id": "UeOOQx10-jbq",
        "colab": {
          "base_uri": "https://localhost:8080/"
        },
        "outputId": "358eecaf-46ce-4cc2-b809-1535937f07d2"
      },
      "execution_count": null,
      "outputs": [
        {
          "output_type": "execute_result",
          "data": {
            "text/plain": [
              "['not_target', 'not_target', 'target']"
            ]
          },
          "metadata": {},
          "execution_count": 50
        }
      ]
    },
    {
      "cell_type": "markdown",
      "source": [
        "### Tf-idf Vectorizer"
      ],
      "metadata": {
        "id": "hTPd77Vt-J2K"
      }
    },
    {
      "cell_type": "code",
      "source": [
        "from sklearn.feature_extraction.text import TfidfVectorizer"
      ],
      "metadata": {
        "id": "spA-q3Z6xHjm"
      },
      "execution_count": null,
      "outputs": []
    },
    {
      "cell_type": "code",
      "source": [
        "tfv = TfidfVectorizer(min_df=3, max_features=None, ngram_range=(1,3))"
      ],
      "metadata": {
        "id": "d692gRSqVgMx"
      },
      "execution_count": null,
      "outputs": []
    },
    {
      "cell_type": "code",
      "source": [
        "vect = tfv.fit(train_df['text'].values)"
      ],
      "metadata": {
        "id": "uNJcEgpIV9Wy"
      },
      "execution_count": null,
      "outputs": []
    },
    {
      "cell_type": "code",
      "source": [
        "len(vect.get_feature_names())"
      ],
      "metadata": {
        "colab": {
          "base_uri": "https://localhost:8080/"
        },
        "id": "vX_35QgSX8ro",
        "outputId": "f29beb92-0363-48d2-ea15-79aab0d7abfc"
      },
      "execution_count": null,
      "outputs": [
        {
          "output_type": "stream",
          "name": "stderr",
          "text": [
            "/usr/local/lib/python3.7/dist-packages/sklearn/utils/deprecation.py:87: FutureWarning: Function get_feature_names is deprecated; get_feature_names is deprecated in 1.0 and will be removed in 1.2. Please use get_feature_names_out instead.\n",
            "  warnings.warn(msg, category=FutureWarning)\n"
          ]
        },
        {
          "output_type": "execute_result",
          "data": {
            "text/plain": [
              "12131"
            ]
          },
          "metadata": {},
          "execution_count": 40
        }
      ]
    },
    {
      "cell_type": "code",
      "source": [
        "X_train_vect = vect.transform(train_df['text'].values)"
      ],
      "metadata": {
        "id": "ssxMisOBYiiI"
      },
      "execution_count": null,
      "outputs": []
    },
    {
      "cell_type": "code",
      "source": [
        "X_train_vect[0]"
      ],
      "metadata": {
        "colab": {
          "base_uri": "https://localhost:8080/"
        },
        "id": "T65sTfkAb6DY",
        "outputId": "ce5f632a-60ba-40f2-ce5c-4de9346b1f0b"
      },
      "execution_count": null,
      "outputs": [
        {
          "output_type": "execute_result",
          "data": {
            "text/plain": [
              "<1x12131 sparse matrix of type '<class 'numpy.float64'>'\n",
              "\twith 1 stored elements in Compressed Sparse Row format>"
            ]
          },
          "metadata": {},
          "execution_count": 44
        }
      ]
    },
    {
      "cell_type": "code",
      "source": [
        "from sklearn.linear_model import LogisticRegression \n",
        "model_log = LogisticRegression()\n",
        "\n",
        "model_log.fit(X_train_vect, train_df['target'].values)"
      ],
      "metadata": {
        "colab": {
          "base_uri": "https://localhost:8080/"
        },
        "id": "vXav0JbMZEB3",
        "outputId": "b29ec59a-3dd2-4bed-e120-28f4b1be12c7"
      },
      "execution_count": null,
      "outputs": [
        {
          "output_type": "execute_result",
          "data": {
            "text/plain": [
              "LogisticRegression()"
            ]
          },
          "metadata": {},
          "execution_count": 53
        }
      ]
    },
    {
      "cell_type": "code",
      "source": [
        "pred_log = model_log.predict(vect.transform(test_df['text'].values))"
      ],
      "metadata": {
        "id": "fB2Tl6LIZYV-"
      },
      "execution_count": null,
      "outputs": []
    },
    {
      "cell_type": "code",
      "source": [
        "# Compute AUC \n",
        "from sklearn.metrics import roc_auc_score \n",
        "from sklearn import metrics\n",
        "roc_auc_score(test_df['target'].values, pred_log)"
      ],
      "metadata": {
        "colab": {
          "base_uri": "https://localhost:8080/"
        },
        "id": "qXsGHMIoZpAI",
        "outputId": "82dffd38-a929-4585-adbc-146fe1d905e6"
      },
      "execution_count": null,
      "outputs": [
        {
          "output_type": "execute_result",
          "data": {
            "text/plain": [
              "0.680268770084721"
            ]
          },
          "metadata": {},
          "execution_count": 60
        }
      ]
    },
    {
      "cell_type": "code",
      "source": [
        "score_log = metrics.accuracy_score(test_df['target'].values, pred_log)\n",
        "print(\"accuracy {:.6f}\".format(score_log))"
      ],
      "metadata": {
        "colab": {
          "base_uri": "https://localhost:8080/"
        },
        "id": "SY5tzoQjZq9s",
        "outputId": "cb63905c-52c3-4201-c325-59d63042d7c2"
      },
      "execution_count": null,
      "outputs": [
        {
          "output_type": "stream",
          "name": "stdout",
          "text": [
            "accuracy 0.719935\n"
          ]
        }
      ]
    },
    {
      "cell_type": "code",
      "source": [
        "history_idf = model3.fit(np.array(X_train_vect), df.target.values, validation_split=0.2, epochs=10, batch_size=64)\n"
      ],
      "metadata": {
        "id": "apjBfxhdas2Y"
      },
      "execution_count": null,
      "outputs": []
    },
    {
      "cell_type": "code",
      "source": [
        "feature_names = np.array(vect.get_feature_names())\n",
        "sorted_coef_index = model_log.coef_[0].argsort()"
      ],
      "metadata": {
        "colab": {
          "base_uri": "https://localhost:8080/"
        },
        "id": "5oeAa4K8btpf",
        "outputId": "e64dcdb2-aff9-4207-8f99-8942faa48438"
      },
      "execution_count": null,
      "outputs": [
        {
          "output_type": "stream",
          "name": "stderr",
          "text": [
            "/usr/local/lib/python3.7/dist-packages/sklearn/utils/deprecation.py:87: FutureWarning: Function get_feature_names is deprecated; get_feature_names is deprecated in 1.0 and will be removed in 1.2. Please use get_feature_names_out instead.\n",
            "  warnings.warn(msg, category=FutureWarning)\n"
          ]
        }
      ]
    },
    {
      "cell_type": "code",
      "source": [],
      "metadata": {
        "id": "ZRDCPncogVH7"
      },
      "execution_count": null,
      "outputs": []
    }
  ],
  "metadata": {
    "accelerator": "GPU",
    "colab": {
      "collapsed_sections": [
        "5aS30lqO079h",
        "tlxJR-vL1J9b",
        "eJjvh7AS1P6o",
        "eOMFZqa61fFP",
        "ZvIcAPY818zS",
        "hTPd77Vt-J2K"
      ],
      "provenance": []
    },
    "kernelspec": {
      "display_name": "Python 3",
      "name": "python3"
    },
    "language_info": {
      "name": "python"
    },
    "gpuClass": "standard"
  },
  "nbformat": 4,
  "nbformat_minor": 0
}